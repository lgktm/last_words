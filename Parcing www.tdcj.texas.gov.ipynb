{
 "cells": [
  {
   "cell_type": "code",
   "execution_count": 6,
   "metadata": {},
   "outputs": [],
   "source": [
    "import urllib.request, urllib.parse, urllib.error\n",
    "import json\n",
    "import ssl\n",
    "from bs4 import BeautifulSoup\n",
    "import re\n",
    "import requests\n",
    "import pandas as pd"
   ]
  },
  {
   "cell_type": "markdown",
   "metadata": {},
   "source": [
    "# Parsing html in Python with BeautifulSoup and pandas\n",
    "I used function HTMLTableParser from this resource: http://srome.github.io/Parsing-HTML-Tables-in-Python-with-BeautifulSoup-and-pandas/ to parse tables. And some of my own compilations."
   ]
  },
  {
   "cell_type": "code",
   "execution_count": 7,
   "metadata": {},
   "outputs": [],
   "source": [
    "class HTMLTableParser:\n",
    "    def parse_url(self, url):\n",
    "        response = requests.get(url)\n",
    "        soup = BeautifulSoup(response.text, 'lxml')\n",
    "        return [(table,self.parse_html_table(table))\\\n",
    "            for table in soup.find_all('table')]  \n",
    "\n",
    "    def parse_html_table(self, table):\n",
    "        n_columns = 0\n",
    "        n_rows=0\n",
    "        column_names = []\n",
    "    \n",
    "        # Find number of rows and columns\n",
    "        # we also find the column titles if we can\n",
    "        for row in table.find_all('tr'):   \n",
    "# Determine the number of rows in the table\n",
    "            td_tags = row.find_all('td')\n",
    "            if len(td_tags) > 0:\n",
    "                n_rows+=1\n",
    "                if n_columns == 0:\n",
    "        # Set the number of columns for our table\n",
    "                    n_columns = len(td_tags)\n",
    "        \n",
    "# ------Handle column names if we find them----------------------------------------\n",
    "            th_tags = row.find_all('th') \n",
    "            if len(th_tags) > 0 and len(column_names) == 0:\n",
    "                for th in th_tags:\n",
    "                    column_names.append(th.get_text())\n",
    "    \n",
    "        # Safeguard on Column Titles\n",
    "        if len(column_names) > 0 and len(column_names) != n_columns:\n",
    "            raise Exception(\"Column titles do not match the number of columns\")\n",
    "        columns = column_names if len(column_names) > 0 else range(0,n_columns)\n",
    "#----------------------------------------------------------------------------------         \n",
    "\n",
    "        df = pd.DataFrame(columns = columns,index= range(0,n_rows))\n",
    "        row_marker = 0     \n",
    "        for row in table.find_all('tr'):\n",
    "            column_marker = 0\n",
    "            columns = row.find_all('td')\n",
    "            for column in columns:\n",
    "                df.iat[row_marker,column_marker] = column.get_text()\n",
    "                column_marker += 1\n",
    "            if len(columns) > 0:\n",
    "                row_marker += 1\n",
    "\n",
    "        # Convert to float if possible\n",
    "        for col in df:\n",
    "            try:\n",
    "                df[col] = df[col].astype(float)\n",
    "            except ValueError:\n",
    "                 pass\n",
    "        return df"
   ]
  },
  {
   "cell_type": "code",
   "execution_count": 8,
   "metadata": {},
   "outputs": [],
   "source": [
    "def Parsing (url_i, url_w):\n",
    "    \n",
    "#Getting Offenders information_1\n",
    "    hp = HTMLTableParser()     # table-parsing func\n",
    "    try:\n",
    "        Inf1 = hp.parse_url(url_i)[0][1]      # Grabbing the table from the tuple      \n",
    "        for i in range(1,7):                 # The table didn't parsed ideally so it required some adjustments\n",
    "            Inf1[2][i]=Inf1[1][i]\n",
    "            Inf1[1][i]=Inf1[0][i]\n",
    "        Inf1=Inf1.drop(0,axis=1)\n",
    "        Inf1=Inf1.iloc[:17,:]\n",
    "        Inf1.columns=['Parameter','Information']\n",
    "    except:\n",
    "        Inf1=pd.DataFrame(columns=['Parameter','Information'],index=range(17))\n",
    "    while len(Inf1)<=16:\n",
    "        Inf1=Inf1.append({'Parameter': 'New'}, ignore_index=True)\n",
    "        \n",
    "#Getting Offenders information_2\n",
    "    uh = urllib.request.urlopen(url_i, context=ctx).read()     \n",
    "    soup=BeautifulSoup(uh,\"html.parser\")\n",
    "    D=dict()\n",
    "    tags=soup('p')\n",
    "    for tag in tags:\n",
    "        try:\n",
    "            D[tag.contents[0].get_text()]=re.sub(r\"\\r\\n\", \"\", tag.contents[2]).lstrip()\n",
    "        except:\n",
    "            try:\n",
    "                for i in tag.find_all('span'):\n",
    "                    D[i.get_text()]=re.sub(r\"\\r\\n\", \"\", tag.contents[3]).lstrip()\n",
    "            except: a=0\n",
    "    if D!={}:\n",
    "        Inf2=pd.DataFrame.from_dict(D,orient='index',columns=['Information']).reset_index().rename(columns={'index':'Parameter'})\n",
    "        while len(Inf2)<4:\n",
    "            Inf2=Inf2.append({'Parameter': 'New'}, ignore_index=True)\n",
    "    else:\n",
    "        Inf2=pd.DataFrame(columns=['Parameter','Information'],index=range(5))\n",
    "        \n",
    "# Getting last words   \n",
    "    uh = urllib.request.urlopen(url_w, context=ctx).read()\n",
    "    #data = uh.read().decode()\n",
    "    soup=BeautifulSoup(uh,\"html.parser\")\n",
    "    lst=list()\n",
    "    for row in soup('div'):\n",
    "        for column in row.find_all('p'):\n",
    "            lst.append(column.get_text().strip())\n",
    "    Inf3=pd.DataFrame(columns=['Parameter','Information'], index=range(0,2))\n",
    "    if 'Last Statement:' in lst:\n",
    "        Inf3.iat[1,1]=lst[lst.index('Last Statement:')+1]   \n",
    "    if 'Date of Execution:' in lst:\n",
    "        Inf3.iat[0,1]=lst[lst.index('Date of Execution:')+1]\n",
    "    Inf3['Parameter']=['Date of Execution','Last Statement']\n",
    "    \n",
    "    Inf=pd.concat([Inf1,Inf2,Inf3], ignore_index=True)\n",
    "    Inf.columns=Inf.iloc[0]\n",
    "\n",
    "    return Inf"
   ]
  },
  {
   "cell_type": "markdown",
   "metadata": {},
   "source": [
    "## 1.Main page"
   ]
  },
  {
   "cell_type": "code",
   "execution_count": 9,
   "metadata": {},
   "outputs": [],
   "source": [
    "#Ignore SSL ssertificate errors\n",
    "ctx = ssl.create_default_context()\n",
    "ctx.check_hostname = False\n",
    "ctx.verify_mode = ssl.CERT_NONE\n",
    "\n",
    "url = 'https://www.tdcj.texas.gov/death_row/dr_executed_offenders.html'\n",
    "uh = urllib.request.urlopen(url, context=ctx).read()\n",
    "soup=BeautifulSoup(uh,\"html.parser\")\n",
    "lst=list()\n",
    "for t in soup.find_all('table'):\n",
    "    for row in t.find_all('tr'):\n",
    "        for tag in row.find_all('td'):\n",
    "            for a in tag.find_all('a'):\n",
    "                if a.get('href',None).startswith('/death_row/'):\n",
    "                    p=a.get('href',None)[11:]\n",
    "                else:\n",
    "                    p=a.get('href',None)\n",
    "                lst.append('https://www.tdcj.texas.gov/death_row/'+p)"
   ]
  },
  {
   "cell_type": "markdown",
   "metadata": {},
   "source": [
    "## 2. Everything else "
   ]
  },
  {
   "cell_type": "code",
   "execution_count": 10,
   "metadata": {
    "scrolled": true
   },
   "outputs": [
    {
     "name": "stdout",
     "output_type": "stream",
     "text": [
      "url_i:  https://www.tdcj.texas.gov/death_row/dr_info/gardnerjohn.html\n",
      "url_w:  https://www.tdcj.texas.gov/death_row/dr_info/gardnerjohnlast.html\n",
      "url_i:  https://www.tdcj.texas.gov/death_row/dr_info/runnelstravis.html\n",
      "url_w:  https://www.tdcj.texas.gov/death_row/dr_info/runnelstravislast.html\n",
      "url_i:  https://www.tdcj.texas.gov/death_row/dr_info/halljusten.html\n",
      "url_w:  https://www.tdcj.texas.gov/death_row/dr_info/halljustenlast.html\n",
      "url_i:  https://www.tdcj.texas.gov/death_row/dr_info/sparksrobert.html\n",
      "url_w:  https://www.tdcj.texas.gov/death_row/dr_info/sparksrobertlast.html\n",
      "url_i:  https://www.tdcj.texas.gov/death_row/dr_info/solizmarkanthony.html\n",
      "url_w:  https://www.tdcj.texas.gov/death_row/dr_info/solizmarkanthonylast.html\n",
      "url_i:  https://www.tdcj.texas.gov/death_row/dr_info/crutsingerbilly.html\n",
      "url_w:  https://www.tdcj.texas.gov/death_row/dr_info/crutsingerbillylast.html\n",
      "url_i:  https://www.tdcj.texas.gov/death_row/dr_info/swearingenlarry.html\n",
      "url_w:  https://www.tdcj.texas.gov/death_row/dr_info/swearingenlarrylast.html\n",
      "url_i:  https://www.tdcj.texas.gov/death_row/dr_info/kingjohn.html\n",
      "url_w:  https://www.tdcj.texas.gov/death_row/dr_info/kingjohnlast.html\n",
      "url_i:  https://www.tdcj.texas.gov/death_row/dr_info/_coble.jpg\n",
      "url_w:  https://www.tdcj.texas.gov/death_row/dr_info/coblebillielast.html\n"
     ]
    },
    {
     "name": "stderr",
     "output_type": "stream",
     "text": [
      "WARNING:root:Some characters could not be decoded, and were replaced with REPLACEMENT CHARACTER.\n"
     ]
    },
    {
     "name": "stdout",
     "output_type": "stream",
     "text": [
      "url_i:  https://www.tdcj.texas.gov/death_row/dr_info/jenningsrobert.jpg\n",
      "url_w:  https://www.tdcj.texas.gov/death_row/dr_info/jenningsrobertlast.html\n"
     ]
    },
    {
     "name": "stderr",
     "output_type": "stream",
     "text": [
      "WARNING:root:Some characters could not be decoded, and were replaced with REPLACEMENT CHARACTER.\n"
     ]
    },
    {
     "name": "stdout",
     "output_type": "stream",
     "text": [
      "url_i:  https://www.tdcj.texas.gov/death_row/dr_info/brazielalvin.html\n",
      "url_w:  https://www.tdcj.texas.gov/death_row/dr_info/brazielalvinlast.html\n",
      "url_i:  https://www.tdcj.texas.gov/death_row/dr_info/garciajoseph.html\n",
      "url_w:  https://www.tdcj.texas.gov/death_row/dr_info/garciajosephlast.html\n",
      "url_i:  https://www.tdcj.texas.gov/death_row/dr_info/_ramos.jpg\n",
      "url_w:  https://www.tdcj.texas.gov/death_row/dr_info/ramosrobertlast.html\n"
     ]
    },
    {
     "name": "stderr",
     "output_type": "stream",
     "text": [
      "WARNING:root:Some characters could not be decoded, and were replaced with REPLACEMENT CHARACTER.\n"
     ]
    },
    {
     "name": "stdout",
     "output_type": "stream",
     "text": [
      "url_i:  https://www.tdcj.texas.gov/death_row/dr_info/ackerdaniel.html\n",
      "url_w:  https://www.tdcj.texas.gov/death_row/dr_info/ackerdaniellast.html\n",
      "url_i:  https://www.tdcj.texas.gov/death_row/dr_info/clarktroy.html\n",
      "url_w:  https://www.tdcj.texas.gov/death_row/dr_info/clarktroylast.html\n",
      "url_i:  https://www.tdcj.texas.gov/death_row/dr_info/youngchristopher.html\n",
      "url_w:  https://www.tdcj.texas.gov/death_row/dr_info/youngchristopherlast.html\n",
      "url_i:  https://www.tdcj.texas.gov/death_row/dr_info/bibledanny.html\n",
      "url_w:  https://www.tdcj.texas.gov/death_row/dr_info/bibledannylast.html\n",
      "url_i:  https://www.tdcj.texas.gov/death_row/dr_info/castillojuan.html\n",
      "url_w:  https://www.tdcj.texas.gov/death_row/dr_info/castillojuanlast.html\n",
      "url_i:  https://www.tdcj.texas.gov/death_row/dr_info/davilaerick.html\n",
      "url_w:  https://www.tdcj.texas.gov/death_row/dr_info/davilaericklast.html\n",
      "url_i:  https://www.tdcj.texas.gov/death_row/dr_info/rodriguezrosendo.html\n",
      "url_w:  https://www.tdcj.texas.gov/death_row/dr_info/rodriguezrosendolast.html\n",
      "url_i:  https://www.tdcj.texas.gov/death_row/dr_info/battagliajohn.html\n",
      "url_w:  https://www.tdcj.texas.gov/death_row/dr_info/battagliajohnlast.html\n",
      "url_i:  https://www.tdcj.texas.gov/death_row/dr_info/rayfordwilliam.html\n",
      "url_w:  https://www.tdcj.texas.gov/death_row/dr_info/rayfordwilliamlast.html\n",
      "url_i:  https://www.tdcj.texas.gov/death_row/dr_info/shoreanthony.html\n",
      "url_w:  https://www.tdcj.texas.gov/death_row/dr_info/shoreanthonylast.html\n",
      "url_i:  https://www.tdcj.texas.gov/death_row/dr_info/cardenasruben.html\n",
      "url_w:  https://www.tdcj.texas.gov/death_row/dr_info/cardenasrubenlast.html\n",
      "url_i:  https://www.tdcj.texas.gov/death_row/dr_info/pruettrobert.html\n",
      "url_w:  https://www.tdcj.texas.gov/death_row/dr_info/pruettrobertlast.html\n",
      "url_i:  https://www.tdcj.texas.gov/death_row/dr_info/preyortaichin.html\n",
      "url_w:  https://www.tdcj.texas.gov/death_row/dr_info/preyortaichinlast.html\n",
      "url_i:  https://www.tdcj.texas.gov/death_row/dr_info/bigbyjames.jpg\n",
      "url_w:  https://www.tdcj.texas.gov/death_row/dr_info/bigbyjameslast.html\n"
     ]
    },
    {
     "name": "stderr",
     "output_type": "stream",
     "text": [
      "WARNING:root:Some characters could not be decoded, and were replaced with REPLACEMENT CHARACTER.\n"
     ]
    },
    {
     "name": "stdout",
     "output_type": "stream",
     "text": [
      "url_i:  https://www.tdcj.texas.gov/death_row/dr_info/ruizroland.jpg\n",
      "url_w:  https://www.tdcj.texas.gov/death_row/dr_info/ruizrolandolast.html\n"
     ]
    },
    {
     "name": "stderr",
     "output_type": "stream",
     "text": [
      "WARNING:root:Some characters could not be decoded, and were replaced with REPLACEMENT CHARACTER.\n"
     ]
    },
    {
     "name": "stdout",
     "output_type": "stream",
     "text": [
      "url_i:  https://www.tdcj.texas.gov/death_row/dr_info/edwardsterry.html\n",
      "url_w:  https://www.tdcj.texas.gov/death_row/dr_info/edwardsterrylast.html\n",
      "url_i:  https://www.tdcj.texas.gov/death_row/dr_info/wilkinschristopher.html\n",
      "url_w:  https://www.tdcj.texas.gov/death_row/dr_info/wilkinschristopherlast.html\n",
      "url_i:  https://www.tdcj.texas.gov/death_row/dr_info/fullerbarney.html\n",
      "url_w:  https://www.tdcj.texas.gov/death_row/dr_info/fullerbarneylast.html\n",
      "url_i:  https://www.tdcj.texas.gov/death_row/dr_info/vasquezpablo.html\n",
      "url_w:  https://www.tdcj.texas.gov/death_row/dr_info/vasquezpablolast.html\n",
      "url_i:  https://www.tdcj.texas.gov/death_row/dr_info/wardadam.html\n",
      "url_w:  https://www.tdcj.texas.gov/death_row/dr_info/wardadamlast.html\n",
      "url_i:  https://www.tdcj.texas.gov/death_row/dr_info/wesbrookcoy.html\n",
      "url_w:  https://www.tdcj.texas.gov/death_row/dr_info/wesbrookcoylast.html\n",
      "url_i:  https://www.tdcj.texas.gov/death_row/dr_info/garciagustavo.jpg\n",
      "url_w:  https://www.tdcj.texas.gov/death_row/dr_info/garciagustavolast.html\n"
     ]
    },
    {
     "name": "stderr",
     "output_type": "stream",
     "text": [
      "WARNING:root:Some characters could not be decoded, and were replaced with REPLACEMENT CHARACTER.\n"
     ]
    },
    {
     "name": "stdout",
     "output_type": "stream",
     "text": [
      "url_i:  https://www.tdcj.texas.gov/death_row/dr_info/freemanjames.html\n",
      "url_w:  https://www.tdcj.texas.gov/death_row/dr_info/freemanjamesllast.html\n",
      "url_i:  https://www.tdcj.texas.gov/death_row/dr_info/mastersonrichard.html\n",
      "url_w:  https://www.tdcj.texas.gov/death_row/dr_info/mastersonrichardlast.html\n",
      "url_i:  https://www.tdcj.texas.gov/death_row/dr_info/holidayraphael.html\n",
      "url_w:  https://www.tdcj.texas.gov/death_row/dr_info/holidayraphaellast.html\n",
      "url_i:  https://www.tdcj.texas.gov/death_row/dr_info/escamillalicho.html\n",
      "url_w:  https://www.tdcj.texas.gov/death_row/dr_info/escamillalicholast.html\n",
      "url_i:  https://www.tdcj.texas.gov/death_row/dr_info/garciajuan.html\n",
      "url_w:  https://www.tdcj.texas.gov/death_row/dr_info/garciajuanlast.html\n",
      "url_i:  https://www.tdcj.texas.gov/death_row/dr_info/lopezdaniel.html\n",
      "url_w:  https://www.tdcj.texas.gov/death_row/dr_info/lopezdaniellast.html\n",
      "url_i:  https://www.tdcj.texas.gov/death_row/dr_info/russeaugregory.html\n",
      "url_w:  https://www.tdcj.texas.gov/death_row/dr_info/russeaugregorylast.html\n",
      "url_i:  https://www.tdcj.texas.gov/death_row/dr_info/bowerlester.jpg\n",
      "url_w:  https://www.tdcj.texas.gov/death_row/dr_info/bowerlesterlast.html\n"
     ]
    },
    {
     "name": "stderr",
     "output_type": "stream",
     "text": [
      "WARNING:root:Some characters could not be decoded, and were replaced with REPLACEMENT CHARACTER.\n"
     ]
    },
    {
     "name": "stdout",
     "output_type": "stream",
     "text": [
      "url_i:  https://www.tdcj.texas.gov/death_row/dr_info/charlesderrick.html\n",
      "url_w:  https://www.tdcj.texas.gov/death_row/dr_info/charlesderricklast.html\n",
      "url_i:  https://www.tdcj.texas.gov/death_row/dr_info/garzamanuel.html\n",
      "url_w:  https://www.tdcj.texas.gov/death_row/dr_info/garzamanuellast.html\n",
      "url_i:  https://www.tdcj.texas.gov/death_row/dr_info/sprousekent.html\n",
      "url_w:  https://www.tdcj.texas.gov/death_row/dr_info/sprousekentlast.html\n",
      "url_i:  https://www.tdcj.texas.gov/death_row/dr_info/vasquezmanuel.html\n",
      "url_w:  https://www.tdcj.texas.gov/death_row/dr_info/vasquezmanuellast.html\n",
      "url_i:  https://www.tdcj.texas.gov/death_row/dr_info/newburydonald.html\n",
      "url_w:  https://www.tdcj.texas.gov/death_row/dr_info/newburydonaldlast.html\n",
      "url_i:  https://www.tdcj.texas.gov/death_row/dr_info/laddrobert.html\n",
      "url_w:  https://www.tdcj.texas.gov/death_row/dr_info/laddrobertlast.html\n",
      "url_i:  https://www.tdcj.texas.gov/death_row/dr_info/prietoarnold.jpg\n",
      "url_w:  https://www.tdcj.texas.gov/death_row/dr_info/prietoarnoldlast.html\n"
     ]
    },
    {
     "name": "stderr",
     "output_type": "stream",
     "text": [
      "WARNING:root:Some characters could not be decoded, and were replaced with REPLACEMENT CHARACTER.\n"
     ]
    },
    {
     "name": "stdout",
     "output_type": "stream",
     "text": [
      "url_i:  https://www.tdcj.texas.gov/death_row/dr_info/paredesmiguel.html\n",
      "url_w:  https://www.tdcj.texas.gov/death_row/dr_info/paredesmiguellast.html\n",
      "url_i:  https://www.tdcj.texas.gov/death_row/dr_info/colemanlisa.html\n",
      "url_w:  https://www.tdcj.texas.gov/death_row/dr_info/colemanlisalast.html\n",
      "url_i:  https://www.tdcj.texas.gov/death_row/dr_info/trottiewillie.jpg\n",
      "url_w:  https://www.tdcj.texas.gov/death_row/dr_info/trottiewillielast.html\n"
     ]
    },
    {
     "name": "stderr",
     "output_type": "stream",
     "text": [
      "WARNING:root:Some characters could not be decoded, and were replaced with REPLACEMENT CHARACTER.\n"
     ]
    },
    {
     "name": "stdout",
     "output_type": "stream",
     "text": [
      "url_i:  https://www.tdcj.texas.gov/death_row/dr_info/villegasjose.html\n",
      "url_w:  https://www.tdcj.texas.gov/death_row/dr_info/villegasjoselast.html\n",
      "url_i:  https://www.tdcj.texas.gov/death_row/dr_info/hernandezramiro.html\n",
      "url_w:  https://www.tdcj.texas.gov/death_row/dr_info/hernandezramirolast.html\n",
      "url_i:  https://www.tdcj.texas.gov/death_row/dr_info/sellstommy.html\n",
      "url_w:  https://www.tdcj.texas.gov/death_row/dr_info/sellstommylast.html\n",
      "url_i:  https://www.tdcj.texas.gov/death_row/dr_info/doyleanthony.html\n",
      "url_w:  https://www.tdcj.texas.gov/death_row/dr_info/doyleanthonylast.html\n",
      "url_i:  https://www.tdcj.texas.gov/death_row/dr_info/jasperray.html\n",
      "url_w:  https://www.tdcj.texas.gov/death_row/dr_info/jasperraylast.html\n",
      "url_i:  https://www.tdcj.texas.gov/death_row/dr_info/bassosuzanne.html\n",
      "url_w:  https://www.tdcj.texas.gov/death_row/dr_info/bassosuzannelast.html\n",
      "url_i:  https://www.tdcj.texas.gov/death_row/dr_info/tamayoedgar.jpg\n",
      "url_w:  https://www.tdcj.texas.gov/death_row/dr_info/tamayoedgarlast.html\n"
     ]
    },
    {
     "name": "stderr",
     "output_type": "stream",
     "text": [
      "WARNING:root:Some characters could not be decoded, and were replaced with REPLACEMENT CHARACTER.\n"
     ]
    },
    {
     "name": "stdout",
     "output_type": "stream",
     "text": [
      "url_i:  https://www.tdcj.texas.gov/death_row/dr_info/martinjerry.html\n",
      "url_w:  https://www.tdcj.texas.gov/death_row/dr_info/martinjerrylast.html\n",
      "url_i:  https://www.tdcj.texas.gov/death_row/dr_info/mccoskeyjamie.jpg\n",
      "url_w:  https://www.tdcj.texas.gov/death_row/dr_info/mccoskeyjamielast.html\n"
     ]
    },
    {
     "name": "stderr",
     "output_type": "stream",
     "text": [
      "WARNING:root:Some characters could not be decoded, and were replaced with REPLACEMENT CHARACTER.\n"
     ]
    },
    {
     "name": "stdout",
     "output_type": "stream",
     "text": [
      "url_i:  https://www.tdcj.texas.gov/death_row/dr_info/yowellmichael.html\n",
      "url_w:  https://www.tdcj.texas.gov/death_row/dr_info/yowellmichaellast.html\n",
      "url_i:  https://www.tdcj.texas.gov/death_row/dr_info/diazarturo.html\n",
      "url_w:  https://www.tdcj.texas.gov/death_row/dr_info/diazarturolast.html\n",
      "url_i:  https://www.tdcj.texas.gov/death_row/dr_info/garzarobert.html\n",
      "url_w:  https://www.tdcj.texas.gov/death_row/dr_info/garzarobertlast.html\n",
      "url_i:  https://www.tdcj.texas.gov/death_row/dr_info/feldmandouglas.html\n",
      "url_w:  https://www.tdcj.texas.gov/death_row/dr_info/feldmandouglaslast.html\n",
      "url_i:  https://www.tdcj.texas.gov/death_row/dr_info/rossvaughn.html\n",
      "url_w:  https://www.tdcj.texas.gov/death_row/dr_info/rossvaughnlast.html\n",
      "url_i:  https://www.tdcj.texas.gov/death_row/dr_info/quintanillajohn.html\n",
      "url_w:  https://www.tdcj.texas.gov/death_row/dr_info/quintanillajohnlast.html\n",
      "url_i:  https://www.tdcj.texas.gov/death_row/dr_info/mccarthykimberly.html\n",
      "url_w:  https://www.tdcj.texas.gov/death_row/dr_info/mccarthykimberlylast.html\n",
      "url_i:  https://www.tdcj.texas.gov/death_row/dr_info/chesterelroy.html\n",
      "url_w:  https://www.tdcj.texas.gov/death_row/dr_info/chesterelroylast.html\n",
      "url_i:  https://www.tdcj.texas.gov/death_row/dr_info/williamsjeffery.html\n",
      "url_w:  https://www.tdcj.texas.gov/death_row/dr_info/williamsjeffrey999350last.html\n",
      "url_i:  https://www.tdcj.texas.gov/death_row/dr_info/parrcarroll.html\n",
      "url_w:  https://www.tdcj.texas.gov/death_row/dr_info/parrcarrolllast.html\n",
      "url_i:  https://www.tdcj.texas.gov/death_row/dr_info/cobbrichard.html\n",
      "url_w:  https://www.tdcj.texas.gov/death_row/dr_info/cobbrichardlast.html\n",
      "url_i:  https://www.tdcj.texas.gov/death_row/dr_info/threadgillronnie.html\n",
      "url_w:  https://www.tdcj.texas.gov/death_row/dr_info/threadgillronnielast.html\n",
      "url_i:  https://www.tdcj.texas.gov/death_row/dr_info/lewisrickey.html\n",
      "url_w:  https://www.tdcj.texas.gov/death_row/dr_info/lewisrickeylast.html\n",
      "url_i:  https://www.tdcj.texas.gov/death_row/dr_info/bluecarl.jpg\n",
      "url_w:  https://www.tdcj.texas.gov/death_row/dr_info/bluecarllast.html\n"
     ]
    },
    {
     "name": "stderr",
     "output_type": "stream",
     "text": [
      "WARNING:root:Some characters could not be decoded, and were replaced with REPLACEMENT CHARACTER.\n"
     ]
    },
    {
     "name": "stdout",
     "output_type": "stream",
     "text": [
      "url_i:  https://www.tdcj.texas.gov/death_row/dr_info/hughesprestoni.jpg\n",
      "url_w:  https://www.tdcj.texas.gov/death_row/dr_info/hughesprestonlast.html\n"
     ]
    },
    {
     "name": "stderr",
     "output_type": "stream",
     "text": [
      "WARNING:root:Some characters could not be decoded, and were replaced with REPLACEMENT CHARACTER.\n"
     ]
    },
    {
     "name": "stdout",
     "output_type": "stream",
     "text": [
      "url_i:  https://www.tdcj.texas.gov/death_row/dr_info/hernandezramon.html\n",
      "url_w:  https://www.tdcj.texas.gov/death_row/dr_info/hernandezramontorreslast.html\n",
      "url_i:  https://www.tdcj.texas.gov/death_row/dr_info/swainmario.html\n",
      "url_w:  https://www.tdcj.texas.gov/death_row/dr_info/swainmariolast.html\n",
      "url_i:  https://www.tdcj.texas.gov/death_row/dr_info/robertsdonnie.html\n",
      "url_w:  https://www.tdcj.texas.gov/death_row/dr_info/robertsdonnielast.html\n",
      "url_i:  https://www.tdcj.texas.gov/death_row/dr_info/hinesbobby.jpg\n",
      "url_w:  https://www.tdcj.texas.gov/death_row/dr_info/hinesbobbylast.html\n"
     ]
    },
    {
     "name": "stderr",
     "output_type": "stream",
     "text": [
      "WARNING:root:Some characters could not be decoded, and were replaced with REPLACEMENT CHARACTER.\n"
     ]
    },
    {
     "name": "stdout",
     "output_type": "stream",
     "text": [
      "url_i:  https://www.tdcj.texas.gov/death_row/dr_info/greenjonathon.html\n",
      "url_w:  https://www.tdcj.texas.gov/death_row/dr_info/greenjonathanlast.html\n",
      "url_i:  https://www.tdcj.texas.gov/death_row/dr_info/fostercleve.html\n",
      "url_w:  https://www.tdcj.texas.gov/death_row/dr_info/fosterclevelast.html\n",
      "url_i:  https://www.tdcj.texas.gov/death_row/dr_info/harrisrobert.html\n",
      "url_w:  https://www.tdcj.texas.gov/death_row/dr_info/harrisrobertlast.html\n",
      "url_i:  https://www.tdcj.texas.gov/death_row/dr_info/wilsonmarvin.jpg\n",
      "url_w:  https://www.tdcj.texas.gov/death_row/dr_info/wilsonmarvinlast.html\n"
     ]
    },
    {
     "name": "stderr",
     "output_type": "stream",
     "text": [
      "WARNING:root:Some characters could not be decoded, and were replaced with REPLACEMENT CHARACTER.\n"
     ]
    },
    {
     "name": "stdout",
     "output_type": "stream",
     "text": [
      "url_i:  https://www.tdcj.texas.gov/death_row/dr_info/hearnyokamon.html\n",
      "url_w:  https://www.tdcj.texas.gov/death_row/dr_info/hearnyokamonlast.html\n",
      "url_i:  https://www.tdcj.texas.gov/death_row/dr_info/adamsbeunka.html\n",
      "url_w:  https://www.tdcj.texas.gov/death_row/dr_info/adamsbeunkalast.html\n",
      "url_i:  https://www.tdcj.texas.gov/death_row/dr_info/hernandezjesse.html\n",
      "url_w:  https://www.tdcj.texas.gov/death_row/dr_info/hernandezjesselast.html\n",
      "url_i:  https://www.tdcj.texas.gov/death_row/dr_info/thurmondkeith.html\n",
      "url_w:  https://www.tdcj.texas.gov/death_row/dr_info/thurmondkeithlast.html\n",
      "url_i:  https://www.tdcj.texas.gov/death_row/dr_info/rivasgeorge.html\n",
      "url_w:  https://www.tdcj.texas.gov/death_row/dr_info/rivasgeorgelast.html\n",
      "url_i:  https://www.tdcj.texas.gov/death_row/dr_info/hernandezrodrigo.html\n",
      "url_w:  https://www.tdcj.texas.gov/death_row/dr_info/hernandezrodrigolast.html\n",
      "url_i:  https://www.tdcj.texas.gov/death_row/dr_info/esparzaguadalupe.html\n",
      "url_w:  https://www.tdcj.texas.gov/death_row/dr_info/esparzaguadalupelast.html\n",
      "url_i:  https://www.tdcj.texas.gov/death_row/dr_info/garciafrank.html\n",
      "url_w:  https://www.tdcj.texas.gov/death_row/dr_info/garciafrankmlast.html\n",
      "url_i:  https://www.tdcj.texas.gov/death_row/dr_info/brewerlawrence.html\n",
      "url_w:  https://www.tdcj.texas.gov/death_row/dr_info/brewerlawrencelast.html\n",
      "url_i:  https://www.tdcj.texas.gov/death_row/dr_info/woodssteven.html\n",
      "url_w:  https://www.tdcj.texas.gov/death_row/dr_info/woodsstevenlast.html\n",
      "url_i:  https://www.tdcj.texas.gov/death_row/dr_info/roblesmartin.html\n",
      "url_w:  https://www.tdcj.texas.gov/death_row/dr_info/roblesmartinlast.html\n",
      "url_i:  https://www.tdcj.texas.gov/death_row/dr_info/stromanmark.html\n",
      "url_w:  https://www.tdcj.texas.gov/death_row/dr_info/stromanmarklast.html\n",
      "url_i:  https://www.tdcj.texas.gov/death_row/dr_info/lealhumberto.jpg\n",
      "url_w:  https://www.tdcj.texas.gov/death_row/dr_info/lealhumbertolast.html\n"
     ]
    },
    {
     "name": "stderr",
     "output_type": "stream",
     "text": [
      "WARNING:root:Some characters could not be decoded, and were replaced with REPLACEMENT CHARACTER.\n"
     ]
    },
    {
     "name": "stdout",
     "output_type": "stream",
     "text": [
      "url_i:  https://www.tdcj.texas.gov/death_row/dr_info/mathismilton.html\n",
      "url_w:  https://www.tdcj.texas.gov/death_row/dr_info/mathismiltonlast.html\n",
      "url_i:  https://www.tdcj.texas.gov/death_row/dr_info/taylorlee.html\n",
      "url_w:  https://www.tdcj.texas.gov/death_row/dr_info/taylorleelast.html\n",
      "url_i:  https://www.tdcj.texas.gov/death_row/dr_info/bradfordgayland.jpg\n",
      "url_w:  https://www.tdcj.texas.gov/death_row/dr_info/bradfordgaylandlast.html\n"
     ]
    },
    {
     "name": "stderr",
     "output_type": "stream",
     "text": [
      "WARNING:root:Some characters could not be decoded, and were replaced with REPLACEMENT CHARACTER.\n"
     ]
    },
    {
     "name": "stdout",
     "output_type": "stream",
     "text": [
      "url_i:  https://www.tdcj.texas.gov/death_row/dr_info/kerrcary.html\n",
      "url_w:  https://www.tdcj.texas.gov/death_row/dr_info/kerrcarylast.html\n",
      "url_i:  https://www.tdcj.texas.gov/death_row/dr_info/adamstimothy.html\n",
      "url_w:  https://www.tdcj.texas.gov/death_row/dr_info/no_last_statement.html\n",
      "url_i:  https://www.tdcj.texas.gov/death_row/dr_info/hallmichael.html\n",
      "url_w:  https://www.tdcj.texas.gov/death_row/dr_info/hallmichaellast.html\n",
      "url_i:  https://www.tdcj.texas.gov/death_row/dr_info/wootenlarry.html\n",
      "url_w:  https://www.tdcj.texas.gov/death_row/dr_info/wootenlarrylast.html\n",
      "url_i:  https://www.tdcj.texas.gov/death_row/dr_info/cantup.jpg\n",
      "url_w:  https://www.tdcj.texas.gov/death_row/dr_info/cantupeterlast.html\n"
     ]
    },
    {
     "name": "stderr",
     "output_type": "stream",
     "text": [
      "WARNING:root:Some characters could not be decoded, and were replaced with REPLACEMENT CHARACTER.\n"
     ]
    },
    {
     "name": "stdout",
     "output_type": "stream",
     "text": [
      "url_i:  https://www.tdcj.texas.gov/death_row/dr_info/jacksonderrick.html\n",
      "url_w:  https://www.tdcj.texas.gov/death_row/dr_info/jacksonderricklast.html\n",
      "url_i:  https://www.tdcj.texas.gov/death_row/dr_info/perrymichael.html\n",
      "url_w:  https://www.tdcj.texas.gov/death_row/dr_info/perrymichaellast.html\n",
      "url_i:  https://www.tdcj.texas.gov/death_row/dr_info/powelldavid.jpg\n",
      "url_w:  https://www.tdcj.texas.gov/death_row/dr_info/no_last_statement.html\n"
     ]
    },
    {
     "name": "stderr",
     "output_type": "stream",
     "text": [
      "WARNING:root:Some characters could not be decoded, and were replaced with REPLACEMENT CHARACTER.\n"
     ]
    },
    {
     "name": "stdout",
     "output_type": "stream",
     "text": [
      "url_i:  https://www.tdcj.texas.gov/death_row/dr_info/jonesgeorgealarick.jpg\n",
      "url_w:  https://www.tdcj.texas.gov/death_row/dr_info/jonesgeorgelast.html\n"
     ]
    },
    {
     "name": "stderr",
     "output_type": "stream",
     "text": [
      "WARNING:root:Some characters could not be decoded, and were replaced with REPLACEMENT CHARACTER.\n"
     ]
    },
    {
     "name": "stdout",
     "output_type": "stream",
     "text": [
      "url_i:  https://www.tdcj.texas.gov/death_row/dr_info/albajohn.jpg\n",
      "url_w:  https://www.tdcj.texas.gov/death_row/dr_info/albajohnlast.html\n"
     ]
    },
    {
     "name": "stderr",
     "output_type": "stream",
     "text": [
      "WARNING:root:Some characters could not be decoded, and were replaced with REPLACEMENT CHARACTER.\n"
     ]
    },
    {
     "name": "stdout",
     "output_type": "stream",
     "text": [
      "url_i:  https://www.tdcj.texas.gov/death_row/dr_info/cannadyrogelio.html\n",
      "url_w:  https://www.tdcj.texas.gov/death_row/dr_info/cannadyrogeliolast.html\n",
      "url_i:  https://www.tdcj.texas.gov/death_row/dr_info/gallowaybilly.html\n",
      "url_w:  https://www.tdcj.texas.gov/death_row/dr_info/gallowaybillylast.html\n",
      "url_i:  https://www.tdcj.texas.gov/death_row/dr_info/vargakevin.html\n",
      "url_w:  https://www.tdcj.texas.gov/death_row/dr_info/vargakevinlast.html\n",
      "url_i:  https://www.tdcj.texas.gov/death_row/dr_info/bustamantesamuel.html\n",
      "url_w:  https://www.tdcj.texas.gov/death_row/dr_info/no_last_statement.html\n",
      "url_i:  https://www.tdcj.texas.gov/death_row/dr_info/berkleywilliam.html\n",
      "url_w:  https://www.tdcj.texas.gov/death_row/dr_info/berkleywilliamlast.html\n",
      "url_i:  https://www.tdcj.texas.gov/death_row/dr_info/alixfranklin.html\n",
      "url_w:  https://www.tdcj.texas.gov/death_row/dr_info/alixfranklinlast.html\n",
      "url_i:  https://www.tdcj.texas.gov/death_row/dr_info/maxwelljoshua.html\n",
      "url_w:  https://www.tdcj.texas.gov/death_row/dr_info/maxwelljoshualast.html\n",
      "url_i:  https://www.tdcj.texas.gov/death_row/dr_info/sigalamichael.html\n",
      "url_w:  https://www.tdcj.texas.gov/death_row/dr_info/sigalamichaellast.html\n",
      "url_i:  https://www.tdcj.texas.gov/death_row/dr_info/johnsongary.jpg\n",
      "url_w:  https://www.tdcj.texas.gov/death_row/dr_info/johnsongarylast.html\n"
     ]
    },
    {
     "name": "stderr",
     "output_type": "stream",
     "text": [
      "WARNING:root:Some characters could not be decoded, and were replaced with REPLACEMENT CHARACTER.\n"
     ]
    },
    {
     "name": "stdout",
     "output_type": "stream",
     "text": [
      "url_i:  https://www.tdcj.texas.gov/death_row/dr_info/mosleykenneth.html\n",
      "url_w:  https://www.tdcj.texas.gov/death_row/dr_info/no_last_statement.html\n",
      "url_i:  https://www.tdcj.texas.gov/death_row/dr_info/woodsbobby.html\n",
      "url_w:  https://www.tdcj.texas.gov/death_row/dr_info/woodsbobbylast.html\n",
      "url_i:  https://www.tdcj.texas.gov/death_row/dr_info/thompsonrobert.html\n",
      "url_w:  https://www.tdcj.texas.gov/death_row/dr_info/thompsonrobertlast.html\n",
      "url_i:  https://www.tdcj.texas.gov/death_row/dr_info/simpsondanielle.html\n",
      "url_w:  https://www.tdcj.texas.gov/death_row/dr_info/simpsondaniellelast.html\n",
      "url_i:  https://www.tdcj.texas.gov/death_row/dr_info/valleyosvanis.html\n",
      "url_w:  https://www.tdcj.texas.gov/death_row/dr_info/valleyosvanislast.html\n",
      "url_i:  https://www.tdcj.texas.gov/death_row/dr_info/oliverkhristian.html\n",
      "url_w:  https://www.tdcj.texas.gov/death_row/dr_info/oliverkhristianlast.html\n",
      "url_i:  https://www.tdcj.texas.gov/death_row/dr_info/blantonreginald.html\n",
      "url_w:  https://www.tdcj.texas.gov/death_row/dr_info/blantonreginaldlast.html\n",
      "url_i:  https://www.tdcj.texas.gov/death_row/dr_info/colemanchristopher.html\n",
      "url_w:  https://www.tdcj.texas.gov/death_row/dr_info/colemanchristopherlast.html\n",
      "url_i:  https://www.tdcj.texas.gov/death_row/dr_info/moodystephen.jpg\n",
      "url_w:  https://www.tdcj.texas.gov/death_row/dr_info/moodystephenlast.html\n"
     ]
    },
    {
     "name": "stderr",
     "output_type": "stream",
     "text": [
      "WARNING:root:Some characters could not be decoded, and were replaced with REPLACEMENT CHARACTER.\n"
     ]
    },
    {
     "name": "stdout",
     "output_type": "stream",
     "text": [
      "url_i:  https://www.tdcj.texas.gov/death_row/dr_info/hankinsterry.html\n",
      "url_w:  https://www.tdcj.texas.gov/death_row/dr_info/hankinsterrylast.html\n",
      "url_i:  https://www.tdcj.texas.gov/death_row/dr_info/rileymichael.jpg\n",
      "url_w:  https://www.tdcj.texas.gov/death_row/dr_info/rileymichaellast.html\n"
     ]
    },
    {
     "name": "stderr",
     "output_type": "stream",
     "text": [
      "WARNING:root:Some characters could not be decoded, and were replaced with REPLACEMENT CHARACTER.\n"
     ]
    },
    {
     "name": "stdout",
     "output_type": "stream",
     "text": [
      "url_i:  https://www.tdcj.texas.gov/death_row/dr_info/johnsonderrick.html\n",
      "url_w:  https://www.tdcj.texas.gov/death_row/dr_info/johnsonderricklast.html\n",
      "url_i:  https://www.tdcj.texas.gov/death_row/dr_info/rosalesmichael.html\n",
      "url_w:  https://www.tdcj.texas.gov/death_row/dr_info/rosalesmichaellast.html\n",
      "url_i:  https://www.tdcj.texas.gov/death_row/dr_info/salazarluis.html\n",
      "url_w:  https://www.tdcj.texas.gov/death_row/dr_info/salazarluislast.html\n",
      "url_i:  https://www.tdcj.texas.gov/death_row/dr_info/martinezjames.html\n",
      "url_w:  https://www.tdcj.texas.gov/death_row/dr_info/martinezjameslast.html\n",
      "url_i:  https://www.tdcj.texas.gov/death_row/dr_info/morriskenneth.jpg\n",
      "url_w:  https://www.tdcj.texas.gov/death_row/dr_info/morriskennethlast.html\n"
     ]
    },
    {
     "name": "stderr",
     "output_type": "stream",
     "text": [
      "WARNING:root:Some characters could not be decoded, and were replaced with REPLACEMENT CHARACTER.\n"
     ]
    },
    {
     "name": "stdout",
     "output_type": "stream",
     "text": [
      "url_i:  https://www.tdcj.texas.gov/death_row/dr_info/pondexterwillie.jpg\n",
      "url_w:  https://www.tdcj.texas.gov/death_row/dr_info/pondexterwillielast.html\n"
     ]
    },
    {
     "name": "stderr",
     "output_type": "stream",
     "text": [
      "WARNING:root:Some characters could not be decoded, and were replaced with REPLACEMENT CHARACTER.\n"
     ]
    },
    {
     "name": "stdout",
     "output_type": "stream",
     "text": [
      "url_i:  https://www.tdcj.texas.gov/death_row/dr_info/johnsonjohnny.jpg\n",
      "url_w:  https://www.tdcj.texas.gov/death_row/dr_info/johnsonjohnnylast.html\n"
     ]
    },
    {
     "name": "stderr",
     "output_type": "stream",
     "text": [
      "WARNING:root:Some characters could not be decoded, and were replaced with REPLACEMENT CHARACTER.\n"
     ]
    },
    {
     "name": "stdout",
     "output_type": "stream",
     "text": [
      "url_i:  https://www.tdcj.texas.gov/death_row/dr_info/scheanettedale.html\n",
      "url_w:  https://www.tdcj.texas.gov/death_row/dr_info/scheanettedalelast.html\n",
      "url_i:  https://www.tdcj.texas.gov/death_row/dr_info/martinezdavid.jpg\n",
      "url_w:  https://www.tdcj.texas.gov/death_row/dr_info/martinezdavidlast999173.html\n"
     ]
    },
    {
     "name": "stderr",
     "output_type": "stream",
     "text": [
      "WARNING:root:Some characters could not be decoded, and were replaced with REPLACEMENT CHARACTER.\n"
     ]
    },
    {
     "name": "stdout",
     "output_type": "stream",
     "text": [
      "url_i:  https://www.tdcj.texas.gov/death_row/dr_info/ortizricardo.html\n",
      "url_w:  https://www.tdcj.texas.gov/death_row/dr_info/ortizricardolast.html\n",
      "url_i:  https://www.tdcj.texas.gov/death_row/dr_info/martinezvirgil.html\n",
      "url_w:  https://www.tdcj.texas.gov/death_row/dr_info/martinezvirgillast.html\n",
      "url_i:  https://www.tdcj.texas.gov/death_row/dr_info/perkinsreginald.html\n",
      "url_w:  https://www.tdcj.texas.gov/death_row/dr_info/perkinsreginaldlast.html\n",
      "url_i:  https://www.tdcj.texas.gov/death_row/dr_info/moorefrank.jpg\n",
      "url_w:  https://www.tdcj.texas.gov/death_row/dr_info/moorefranklast.html\n"
     ]
    },
    {
     "name": "stderr",
     "output_type": "stream",
     "text": [
      "WARNING:root:Some characters could not be decoded, and were replaced with REPLACEMENT CHARACTER.\n"
     ]
    },
    {
     "name": "stdout",
     "output_type": "stream",
     "text": [
      "url_i:  https://www.tdcj.texas.gov/death_row/dr_info/moorecurtis.html\n",
      "url_w:  https://www.tdcj.texas.gov/death_row/dr_info/moorecurtislast.html\n",
      "url_i:  https://www.tdcj.texas.gov/death_row/dr_info/hudsonrobert.html\n",
      "url_w:  https://www.tdcj.texas.gov/death_row/dr_info/hudsonrobertlast.html\n",
      "url_i:  https://www.tdcj.texas.gov/death_row/dr_info/mannsdenard.html\n",
      "url_w:  https://www.tdcj.texas.gov/death_row/dr_info/mannsdenardlast.html\n",
      "url_i:  https://www.tdcj.texas.gov/death_row/dr_info/whitakergeorge.jpg\n",
      "url_w:  https://www.tdcj.texas.gov/death_row/dr_info/whitakergeorgelast.html\n"
     ]
    },
    {
     "name": "stderr",
     "output_type": "stream",
     "text": [
      "WARNING:root:Some characters could not be decoded, and were replaced with REPLACEMENT CHARACTER.\n"
     ]
    },
    {
     "name": "stdout",
     "output_type": "stream",
     "text": [
      "url_i:  https://www.tdcj.texas.gov/death_row/dr_info/taylorelkie.jpg\n",
      "url_w:  https://www.tdcj.texas.gov/death_row/dr_info/taylorelkielast.html\n"
     ]
    },
    {
     "name": "stderr",
     "output_type": "stream",
     "text": [
      "WARNING:root:Some characters could not be decoded, and were replaced with REPLACEMENT CHARACTER.\n"
     ]
    },
    {
     "name": "stdout",
     "output_type": "stream",
     "text": [
      "url_i:  https://www.tdcj.texas.gov/death_row/dr_info/wrightgregory.html\n",
      "url_w:  https://www.tdcj.texas.gov/death_row/dr_info/wrightgregorylast.html\n",
      "url_i:  https://www.tdcj.texas.gov/death_row/dr_info/nennoeric.jpg\n",
      "url_w:  https://www.tdcj.texas.gov/death_row/dr_info/no_last_statement.html\n"
     ]
    },
    {
     "name": "stderr",
     "output_type": "stream",
     "text": [
      "WARNING:root:Some characters could not be decoded, and were replaced with REPLACEMENT CHARACTER.\n"
     ]
    },
    {
     "name": "stdout",
     "output_type": "stream",
     "text": [
      "url_i:  https://www.tdcj.texas.gov/death_row/dr_info/riesjoseph.html\n",
      "url_w:  https://www.tdcj.texas.gov/death_row/dr_info/riesjosephlast.html\n",
      "url_i:  https://www.tdcj.texas.gov/death_row/dr_info/wattskevin.html\n",
      "url_w:  https://www.tdcj.texas.gov/death_row/dr_info/wattskevinlast.html\n",
      "url_i:  https://www.tdcj.texas.gov/death_row/dr_info/kellyalvin.jpg\n",
      "url_w:  https://www.tdcj.texas.gov/death_row/dr_info/kellyalvinlast.html\n"
     ]
    },
    {
     "name": "stderr",
     "output_type": "stream",
     "text": [
      "WARNING:root:Some characters could not be decoded, and were replaced with REPLACEMENT CHARACTER.\n"
     ]
    },
    {
     "name": "stdout",
     "output_type": "stream",
     "text": [
      "url_i:  https://www.tdcj.texas.gov/death_row/dr_info/murraywilliam.html\n",
      "url_w:  https://www.tdcj.texas.gov/death_row/dr_info/murraywilliamlast.html\n",
      "url_i:  https://www.tdcj.texas.gov/death_row/dr_info/rodriguezmichael.html\n",
      "url_w:  https://www.tdcj.texas.gov/death_row/dr_info/rodriguezmichaellast.html\n",
      "url_i:  https://www.tdcj.texas.gov/death_row/dr_info/dorseyleon.html\n",
      "url_w:  https://www.tdcj.texas.gov/death_row/dr_info/dorseyleonlast.html\n",
      "url_i:  https://www.tdcj.texas.gov/death_row/dr_info/chiheliberto.html\n",
      "url_w:  https://www.tdcj.texas.gov/death_row/dr_info/chihelibertolast.html\n",
      "url_i:  https://www.tdcj.texas.gov/death_row/dr_info/medellinjose.jpg\n",
      "url_w:  https://www.tdcj.texas.gov/death_row/dr_info/medellinjoselast.html\n"
     ]
    },
    {
     "name": "stderr",
     "output_type": "stream",
     "text": [
      "WARNING:root:Some characters could not be decoded, and were replaced with REPLACEMENT CHARACTER.\n"
     ]
    },
    {
     "name": "stdout",
     "output_type": "stream",
     "text": [
      "url_i:  https://www.tdcj.texas.gov/death_row/dr_info/davislarry.html\n",
      "url_w:  https://www.tdcj.texas.gov/death_row/dr_info/davislarrylast.html\n",
      "url_i:  https://www.tdcj.texas.gov/death_row/dr_info/sonnierderrick.jpg\n",
      "url_w:  https://www.tdcj.texas.gov/death_row/dr_info/no_last_statement.html\n"
     ]
    },
    {
     "name": "stderr",
     "output_type": "stream",
     "text": [
      "WARNING:root:Some characters could not be decoded, and were replaced with REPLACEMENT CHARACTER.\n"
     ]
    },
    {
     "name": "stdout",
     "output_type": "stream",
     "text": [
      "url_i:  https://www.tdcj.texas.gov/death_row/dr_info/turnercarlton.html\n",
      "url_w:  https://www.tdcj.texas.gov/death_row/dr_info/turnercarltonlast.html\n",
      "url_i:  https://www.tdcj.texas.gov/death_row/dr_info/chamberlainkarl.html\n",
      "url_w:  https://www.tdcj.texas.gov/death_row/dr_info/chamberlainkarllast.html\n",
      "url_i:  https://www.tdcj.texas.gov/death_row/dr_info/richardsmichael.jpg\n",
      "url_w:  https://www.tdcj.texas.gov/death_row/dr_info/richardmichaellast.html\n"
     ]
    },
    {
     "name": "stderr",
     "output_type": "stream",
     "text": [
      "WARNING:root:Some characters could not be decoded, and were replaced with REPLACEMENT CHARACTER.\n"
     ]
    },
    {
     "name": "stdout",
     "output_type": "stream",
     "text": [
      "url_i:  https://www.tdcj.texas.gov/death_row/dr_info/kimmelclifford.html\n",
      "url_w:  https://www.tdcj.texas.gov/death_row/dr_info/no_last_statement.html\n",
      "url_i:  https://www.tdcj.texas.gov/death_row/dr_info/roachtony.html\n",
      "url_w:  https://www.tdcj.texas.gov/death_row/dr_info/roachtonylast.html\n",
      "url_i:  https://www.tdcj.texas.gov/death_row/dr_info/amadorjohn.jpg\n",
      "url_w:  https://www.tdcj.texas.gov/death_row/dr_info/amadorjohnlast.html\n"
     ]
    },
    {
     "name": "stderr",
     "output_type": "stream",
     "text": [
      "WARNING:root:Some characters could not be decoded, and were replaced with REPLACEMENT CHARACTER.\n"
     ]
    },
    {
     "name": "stdout",
     "output_type": "stream",
     "text": [
      "url_i:  https://www.tdcj.texas.gov/death_row/dr_info/mosleydaroyce.jpg\n",
      "url_w:  https://www.tdcj.texas.gov/death_row/dr_info/moselydaroycelast.html\n"
     ]
    },
    {
     "name": "stderr",
     "output_type": "stream",
     "text": [
      "WARNING:root:Some characters could not be decoded, and were replaced with REPLACEMENT CHARACTER.\n"
     ]
    },
    {
     "name": "stdout",
     "output_type": "stream",
     "text": [
      "url_i:  https://www.tdcj.texas.gov/death_row/dr_info/connerjohnny.html\n",
      "url_w:  https://www.tdcj.texas.gov/death_row/dr_info/connerjohnnylast.html\n",
      "url_i:  https://www.tdcj.texas.gov/death_row/dr_info/parrkenneth.html\n",
      "url_w:  https://www.tdcj.texas.gov/death_row/dr_info/parrkennethlast.html\n",
      "url_i:  https://www.tdcj.texas.gov/death_row/dr_info/johnsonlonnie.jpg\n",
      "url_w:  https://www.tdcj.texas.gov/death_row/dr_info/johnsonlonnielast.html\n"
     ]
    },
    {
     "name": "stderr",
     "output_type": "stream",
     "text": [
      "WARNING:root:Some characters could not be decoded, and were replaced with REPLACEMENT CHARACTER.\n"
     ]
    },
    {
     "name": "stdout",
     "output_type": "stream",
     "text": [
      "url_i:  https://www.tdcj.texas.gov/death_row/dr_info/knightpatrick.jpg\n",
      "url_w:  https://www.tdcj.texas.gov/death_row/dr_info/knightpatricklast.html\n"
     ]
    },
    {
     "name": "stderr",
     "output_type": "stream",
     "text": [
      "WARNING:root:Some characters could not be decoded, and were replaced with REPLACEMENT CHARACTER.\n"
     ]
    },
    {
     "name": "stdout",
     "output_type": "stream",
     "text": [
      "url_i:  https://www.tdcj.texas.gov/death_row/dr_info/reyesgilberto.html\n",
      "url_w:  https://www.tdcj.texas.gov/death_row/dr_info/reyesgilbertolast.html\n",
      "url_i:  https://www.tdcj.texas.gov/death_row/dr_info/rodrigezlionell.jpg\n",
      "url_w:  https://www.tdcj.texas.gov/death_row/dr_info/rodriguezlionelllast.html\n"
     ]
    },
    {
     "name": "stderr",
     "output_type": "stream",
     "text": [
      "WARNING:root:Some characters could not be decoded, and were replaced with REPLACEMENT CHARACTER.\n"
     ]
    },
    {
     "name": "stdout",
     "output_type": "stream",
     "text": [
      "url_i:  https://www.tdcj.texas.gov/death_row/dr_info/griffithmichael.jpg\n",
      "url_w:  https://www.tdcj.texas.gov/death_row/dr_info/no_last_statement.html\n"
     ]
    },
    {
     "name": "stderr",
     "output_type": "stream",
     "text": [
      "WARNING:root:Some characters could not be decoded, and were replaced with REPLACEMENT CHARACTER.\n"
     ]
    },
    {
     "name": "stdout",
     "output_type": "stream",
     "text": [
      "url_i:  https://www.tdcj.texas.gov/death_row/dr_info/smithcharles.jpg\n",
      "url_w:  https://www.tdcj.texas.gov/death_row/dr_info/no_last_statement.html\n"
     ]
    },
    {
     "name": "stderr",
     "output_type": "stream",
     "text": [
      "WARNING:root:Some characters could not be decoded, and were replaced with REPLACEMENT CHARACTER.\n"
     ]
    },
    {
     "name": "stdout",
     "output_type": "stream",
     "text": [
      "url_i:  https://www.tdcj.texas.gov/death_row/dr_info/dicksonryan.html\n",
      "url_w:  https://www.tdcj.texas.gov/death_row/dr_info/dicksonryanlast.html\n",
      "url_i:  https://www.tdcj.texas.gov/death_row/dr_info/clarkjames.html\n",
      "url_w:  https://www.tdcj.texas.gov/death_row/dr_info/clarkjameslast.html\n",
      "url_i:  https://www.tdcj.texas.gov/death_row/dr_info/pippenroy.jpg\n",
      "url_w:  https://www.tdcj.texas.gov/death_row/dr_info/pippinroylast.html\n"
     ]
    },
    {
     "name": "stderr",
     "output_type": "stream",
     "text": [
      "WARNING:root:Some characters could not be decoded, and were replaced with REPLACEMENT CHARACTER.\n"
     ]
    },
    {
     "name": "stdout",
     "output_type": "stream",
     "text": [
      "url_i:  https://www.tdcj.texas.gov/death_row/dr_info/gutierrezvincent.html\n",
      "url_w:  https://www.tdcj.texas.gov/death_row/dr_info/gutierrezvincentlast.html\n",
      "url_i:  https://www.tdcj.texas.gov/death_row/dr_info/nealycharles.html\n",
      "url_w:  https://www.tdcj.texas.gov/death_row/dr_info/nealycharleslast.html\n",
      "url_i:  https://www.tdcj.texas.gov/death_row/dr_info/nicholsjoseph.jpg\n",
      "url_w:  https://www.tdcj.texas.gov/death_row/dr_info/nicholsjosephlast.html\n"
     ]
    },
    {
     "name": "stderr",
     "output_type": "stream",
     "text": [
      "WARNING:root:Some characters could not be decoded, and were replaced with REPLACEMENT CHARACTER.\n"
     ]
    },
    {
     "name": "stdout",
     "output_type": "stream",
     "text": [
      "url_i:  https://www.tdcj.texas.gov/death_row/dr_info/perezrobert.html\n",
      "url_w:  https://www.tdcj.texas.gov/death_row/dr_info/perezrobertlast.html\n",
      "url_i:  https://www.tdcj.texas.gov/death_row/dr_info/millerdonald.jpg\n",
      "url_w:  https://www.tdcj.texas.gov/death_row/dr_info/no_last_statement.html\n"
     ]
    },
    {
     "name": "stderr",
     "output_type": "stream",
     "text": [
      "WARNING:root:Some characters could not be decoded, and were replaced with REPLACEMENT CHARACTER.\n"
     ]
    },
    {
     "name": "stdout",
     "output_type": "stream",
     "text": [
      "url_i:  https://www.tdcj.texas.gov/death_row/dr_info/andersonnewton.html\n",
      "url_w:  https://www.tdcj.texas.gov/death_row/dr_info/andersonnewtonlast.html\n",
      "url_i:  https://www.tdcj.texas.gov/death_row/dr_info/jacksonjames.html\n",
      "url_w:  https://www.tdcj.texas.gov/death_row/dr_info/jacksonjameslast.html\n",
      "url_i:  https://www.tdcj.texas.gov/death_row/dr_info/swiftchristopher.html\n",
      "url_w:  https://www.tdcj.texas.gov/death_row/dr_info/no_last_statement.html\n",
      "url_i:  https://www.tdcj.texas.gov/death_row/dr_info/moorejohnathan.jpg\n",
      "url_w:  https://www.tdcj.texas.gov/death_row/dr_info/moorejonathanlast.html\n"
     ]
    },
    {
     "name": "stderr",
     "output_type": "stream",
     "text": [
      "WARNING:root:Some characters could not be decoded, and were replaced with REPLACEMENT CHARACTER.\n"
     ]
    },
    {
     "name": "stdout",
     "output_type": "stream",
     "text": [
      "url_i:  https://www.tdcj.texas.gov/death_row/dr_info/granadoscarlos.html\n",
      "url_w:  https://www.tdcj.texas.gov/death_row/dr_info/granadoscarloslast.html\n",
      "url_i:  https://www.tdcj.texas.gov/death_row/dr_info/shannonwillie.jpg\n",
      "url_w:  https://www.tdcj.texas.gov/death_row/dr_info/shannonwillielast.html\n"
     ]
    },
    {
     "name": "stderr",
     "output_type": "stream",
     "text": [
      "WARNING:root:Some characters could not be decoded, and were replaced with REPLACEMENT CHARACTER.\n"
     ]
    },
    {
     "name": "stdout",
     "output_type": "stream",
     "text": [
      "url_i:  https://www.tdcj.texas.gov/death_row/dr_info/jacksondonell.jpg\n",
      "url_w:  https://www.tdcj.texas.gov/death_row/dr_info/jacksondonelllast.html\n"
     ]
    },
    {
     "name": "stderr",
     "output_type": "stream",
     "text": [
      "WARNING:root:Some characters could not be decoded, and were replaced with REPLACEMENT CHARACTER.\n"
     ]
    },
    {
     "name": "stdout",
     "output_type": "stream",
     "text": [
      "url_i:  https://www.tdcj.texas.gov/death_row/dr_info/summersgregory.jpg\n",
      "url_w:  https://www.tdcj.texas.gov/death_row/dr_info/no_last_statement.html\n"
     ]
    },
    {
     "name": "stderr",
     "output_type": "stream",
     "text": [
      "WARNING:root:Some characters could not be decoded, and were replaced with REPLACEMENT CHARACTER.\n"
     ]
    },
    {
     "name": "stdout",
     "output_type": "stream",
     "text": [
      "url_i:  https://www.tdcj.texas.gov/death_row/dr_info/matchettfarley.jpg\n",
      "url_w:  https://www.tdcj.texas.gov/death_row/dr_info/matchettfarleylast.html\n"
     ]
    },
    {
     "name": "stderr",
     "output_type": "stream",
     "text": [
      "WARNING:root:Some characters could not be decoded, and were replaced with REPLACEMENT CHARACTER.\n"
     ]
    },
    {
     "name": "stdout",
     "output_type": "stream",
     "text": [
      "url_i:  https://www.tdcj.texas.gov/death_row/dr_info/frazierderrick.html\n",
      "url_w:  https://www.tdcj.texas.gov/death_row/dr_info/frazierderricklast.html\n",
      "url_i:  https://www.tdcj.texas.gov/death_row/dr_info/fullerjustin.html\n",
      "url_w:  https://www.tdcj.texas.gov/death_row/dr_info/fullerjustinlast.html\n",
      "url_i:  https://www.tdcj.texas.gov/death_row/dr_info/hinojosarichard.html\n",
      "url_w:  https://www.tdcj.texas.gov/death_row/dr_info/hinojosarichardlast.html\n",
      "url_i:  https://www.tdcj.texas.gov/death_row/dr_info/wyattwilliam.html\n",
      "url_w:  https://www.tdcj.texas.gov/death_row/dr_info/wyattwilliamlast.html\n",
      "url_i:  https://www.tdcj.texas.gov/death_row/dr_info/andersonrobert.jpg\n",
      "url_w:  https://www.tdcj.texas.gov/death_row/dr_info/andersonrobertlast.html\n"
     ]
    },
    {
     "name": "stderr",
     "output_type": "stream",
     "text": [
      "WARNING:root:Some characters could not be decoded, and were replaced with REPLACEMENT CHARACTER.\n"
     ]
    },
    {
     "name": "stdout",
     "output_type": "stream",
     "text": [
      "url_i:  https://www.tdcj.texas.gov/death_row/dr_info/brownmauriceo.jpg\n",
      "url_w:  https://www.tdcj.texas.gov/death_row/dr_info/brownmauriceolast.html\n"
     ]
    },
    {
     "name": "stderr",
     "output_type": "stream",
     "text": [
      "WARNING:root:Some characters could not be decoded, and were replaced with REPLACEMENT CHARACTER.\n"
     ]
    },
    {
     "name": "stdout",
     "output_type": "stream",
     "text": [
      "url_i:  https://www.tdcj.texas.gov/death_row/dr_info/obrienderrick.jpg\n",
      "url_w:  https://www.tdcj.texas.gov/death_row/dr_info/obrienderricklast.html\n"
     ]
    },
    {
     "name": "stderr",
     "output_type": "stream",
     "text": [
      "WARNING:root:Some characters could not be decoded, and were replaced with REPLACEMENT CHARACTER.\n"
     ]
    },
    {
     "name": "stdout",
     "output_type": "stream",
     "text": [
      "url_i:  https://www.tdcj.texas.gov/death_row/dr_info/resendizangel.html\n",
      "url_w:  https://www.tdcj.texas.gov/death_row/dr_info/resendizangellast.html\n",
      "url_i:  https://www.tdcj.texas.gov/death_row/dr_info/reeselamont.html\n",
      "url_w:  https://www.tdcj.texas.gov/death_row/dr_info/reeselamontlast.html\n",
      "url_i:  https://www.tdcj.texas.gov/death_row/dr_info/titsworthtimothy.jpg\n",
      "url_w:  https://www.tdcj.texas.gov/death_row/dr_info/titsworthtimothylast.html\n"
     ]
    },
    {
     "name": "stderr",
     "output_type": "stream",
     "text": [
      "WARNING:root:Some characters could not be decoded, and were replaced with REPLACEMENT CHARACTER.\n"
     ]
    },
    {
     "name": "stdout",
     "output_type": "stream",
     "text": [
      "url_i:  https://www.tdcj.texas.gov/death_row/dr_info/aguilarjesus.jpg\n",
      "url_w:  https://www.tdcj.texas.gov/death_row/dr_info/aguilarjesuslast.html\n"
     ]
    },
    {
     "name": "stderr",
     "output_type": "stream",
     "text": [
      "WARNING:root:Some characters could not be decoded, and were replaced with REPLACEMENT CHARACTER.\n"
     ]
    },
    {
     "name": "stdout",
     "output_type": "stream",
     "text": [
      "url_i:  https://www.tdcj.texas.gov/death_row/dr_info/herronjermaine.html\n",
      "url_w:  https://www.tdcj.texas.gov/death_row/dr_info/herronjermainelast.html\n",
      "url_i:  https://www.tdcj.texas.gov/death_row/dr_info/wilsonjackie.jpg\n",
      "url_w:  https://www.tdcj.texas.gov/death_row/dr_info/wilsonjackielast.html\n"
     ]
    },
    {
     "name": "stderr",
     "output_type": "stream",
     "text": [
      "WARNING:root:Some characters could not be decoded, and were replaced with REPLACEMENT CHARACTER.\n"
     ]
    },
    {
     "name": "stdout",
     "output_type": "stream",
     "text": [
      "url_i:  https://www.tdcj.texas.gov/death_row/dr_info/kincykevin.jpg\n",
      "url_w:  https://www.tdcj.texas.gov/death_row/dr_info/kincykevinlast.html\n"
     ]
    },
    {
     "name": "stderr",
     "output_type": "stream",
     "text": [
      "WARNING:root:Some characters could not be decoded, and were replaced with REPLACEMENT CHARACTER.\n"
     ]
    },
    {
     "name": "stdout",
     "output_type": "stream",
     "text": [
      "url_i:  https://www.tdcj.texas.gov/death_row/dr_info/salazarrobert.html\n",
      "url_w:  https://www.tdcj.texas.gov/death_row/dr_info/salazarrobertlast.html\n",
      "url_i:  https://www.tdcj.texas.gov/death_row/dr_info/hughestommie.html\n",
      "url_w:  https://www.tdcj.texas.gov/death_row/dr_info/hughestommielast.html\n",
      "url_i:  https://www.tdcj.texas.gov/death_row/dr_info/smithclyde.jpg\n",
      "url_w:  https://www.tdcj.texas.gov/death_row/dr_info/smithclydelast.html\n"
     ]
    },
    {
     "name": "stderr",
     "output_type": "stream",
     "text": [
      "WARNING:root:Some characters could not be decoded, and were replaced with REPLACEMENT CHARACTER.\n"
     ]
    },
    {
     "name": "stdout",
     "output_type": "stream",
     "text": [
      "url_i:  https://www.tdcj.texas.gov/death_row/dr_info/nevillerobert.html\n",
      "url_w:  https://www.tdcj.texas.gov/death_row/dr_info/nevillerobertlast.html\n",
      "url_i:  https://www.tdcj.texas.gov/death_row/dr_info/elizaldejaime.jpg\n",
      "url_w:  https://www.tdcj.texas.gov/death_row/dr_info/elizaldejaimelast.html\n"
     ]
    },
    {
     "name": "stderr",
     "output_type": "stream",
     "text": [
      "WARNING:root:Some characters could not be decoded, and were replaced with REPLACEMENT CHARACTER.\n"
     ]
    },
    {
     "name": "stdout",
     "output_type": "stream",
     "text": [
      "url_i:  https://www.tdcj.texas.gov/death_row/dr_info/dudleymarion.jpg\n",
      "url_w:  https://www.tdcj.texas.gov/death_row/dr_info/no_last_statement.html\n"
     ]
    },
    {
     "name": "stderr",
     "output_type": "stream",
     "text": [
      "WARNING:root:Some characters could not be decoded, and were replaced with REPLACEMENT CHARACTER.\n"
     ]
    },
    {
     "name": "stdout",
     "output_type": "stream",
     "text": [
      "url_i:  https://www.tdcj.texas.gov/death_row/dr_info/thomasshannon.jpg\n",
      "url_w:  https://www.tdcj.texas.gov/death_row/dr_info/thomasshannonlast.html\n"
     ]
    },
    {
     "name": "stderr",
     "output_type": "stream",
     "text": [
      "WARNING:root:Some characters could not be decoded, and were replaced with REPLACEMENT CHARACTER.\n"
     ]
    },
    {
     "name": "stdout",
     "output_type": "stream",
     "text": [
      "url_i:  https://www.tdcj.texas.gov/death_row/dr_info/rowellrobert.html\n",
      "url_w:  https://www.tdcj.texas.gov/death_row/dr_info/rowellrobertlast.html\n",
      "url_i:  https://www.tdcj.texas.gov/death_row/dr_info/thackercharles.jpg\n",
      "url_w:  https://www.tdcj.texas.gov/death_row/dr_info/thackercharleslast.html\n"
     ]
    },
    {
     "name": "stderr",
     "output_type": "stream",
     "text": [
      "WARNING:root:Some characters could not be decoded, and were replaced with REPLACEMENT CHARACTER.\n"
     ]
    },
    {
     "name": "stdout",
     "output_type": "stream",
     "text": [
      "url_i:  https://www.tdcj.texas.gov/death_row/dr_info/whitemelvin.html\n",
      "url_w:  https://www.tdcj.texas.gov/death_row/dr_info/whitemelvinlast.html\n",
      "url_i:  https://www.tdcj.texas.gov/death_row/dr_info/ramirezluis.html\n",
      "url_w:  https://www.tdcj.texas.gov/death_row/dr_info/ramirezluislast.html\n",
      "url_i:  https://www.tdcj.texas.gov/death_row/dr_info/howardronald.jpg\n",
      "url_w:  https://www.tdcj.texas.gov/death_row/dr_info/howardronaldlast.html\n"
     ]
    },
    {
     "name": "stderr",
     "output_type": "stream",
     "text": [
      "WARNING:root:Some characters could not be decoded, and were replaced with REPLACEMENT CHARACTER.\n"
     ]
    },
    {
     "name": "stdout",
     "output_type": "stream",
     "text": [
      "url_i:  https://www.tdcj.texas.gov/death_row/dr_info/newtonfrancis.jpg\n",
      "url_w:  https://www.tdcj.texas.gov/death_row/dr_info/no_last_statement.html\n"
     ]
    },
    {
     "name": "stderr",
     "output_type": "stream",
     "text": [
      "WARNING:root:Some characters could not be decoded, and were replaced with REPLACEMENT CHARACTER.\n"
     ]
    },
    {
     "name": "stdout",
     "output_type": "stream",
     "text": [
      "url_i:  https://www.tdcj.texas.gov/death_row/dr_info/shieldsrobert.jpg\n",
      "url_w:  https://www.tdcj.texas.gov/death_row/dr_info/no_last_statement.html\n"
     ]
    },
    {
     "name": "stderr",
     "output_type": "stream",
     "text": [
      "WARNING:root:Some characters could not be decoded, and were replaced with REPLACEMENT CHARACTER.\n"
     ]
    },
    {
     "name": "stdout",
     "output_type": "stream",
     "text": [
      "url_i:  https://www.tdcj.texas.gov/death_row/dr_info/sterlinggary.jpg\n",
      "url_w:  https://www.tdcj.texas.gov/death_row/dr_info/sterlinggarylast.html\n"
     ]
    },
    {
     "name": "stderr",
     "output_type": "stream",
     "text": [
      "WARNING:root:Some characters could not be decoded, and were replaced with REPLACEMENT CHARACTER.\n"
     ]
    },
    {
     "name": "stdout",
     "output_type": "stream",
     "text": [
      "url_i:  https://www.tdcj.texas.gov/death_row/dr_info/martinezdavid.html\n",
      "url_w:  https://www.tdcj.texas.gov/death_row/dr_info/martinezdavidlast999288.html\n",
      "url_i:  https://www.tdcj.texas.gov/death_row/dr_info/martinezalexander.html\n",
      "url_w:  https://www.tdcj.texas.gov/death_row/dr_info/martinezalexanderlast.html\n",
      "url_i:  https://www.tdcj.texas.gov/death_row/dr_info/cartwrightrichard.jpg\n",
      "url_w:  https://www.tdcj.texas.gov/death_row/dr_info/cartwrightrichardlast.html\n"
     ]
    },
    {
     "name": "stderr",
     "output_type": "stream",
     "text": [
      "WARNING:root:Some characters could not be decoded, and were replaced with REPLACEMENT CHARACTER.\n"
     ]
    },
    {
     "name": "stdout",
     "output_type": "stream",
     "text": [
      "url_i:  https://www.tdcj.texas.gov/death_row/dr_info/wolfebryan.jpg\n",
      "url_w:  https://www.tdcj.texas.gov/death_row/dr_info/wolfebryanlast.html\n"
     ]
    },
    {
     "name": "stderr",
     "output_type": "stream",
     "text": [
      "WARNING:root:Some characters could not be decoded, and were replaced with REPLACEMENT CHARACTER.\n"
     ]
    },
    {
     "name": "stdout",
     "output_type": "stream",
     "text": [
      "url_i:  https://www.tdcj.texas.gov/death_row/dr_info/pursleylonnie.html\n",
      "url_w:  https://www.tdcj.texas.gov/death_row/dr_info/pursleylonnielast.html\n",
      "url_i:  https://www.tdcj.texas.gov/death_row/dr_info/robertsdouglas.jpg\n",
      "url_w:  https://www.tdcj.texas.gov/death_row/dr_info/robertsdouglaslast.html\n"
     ]
    },
    {
     "name": "stderr",
     "output_type": "stream",
     "text": [
      "WARNING:root:Some characters could not be decoded, and were replaced with REPLACEMENT CHARACTER.\n"
     ]
    },
    {
     "name": "stdout",
     "output_type": "stream",
     "text": [
      "url_i:  https://www.tdcj.texas.gov/death_row/dr_info/hoppergeorge.jpg\n",
      "url_w:  https://www.tdcj.texas.gov/death_row/dr_info/hoppergeorgelast.html\n"
     ]
    },
    {
     "name": "stderr",
     "output_type": "stream",
     "text": [
      "WARNING:root:Some characters could not be decoded, and were replaced with REPLACEMENT CHARACTER.\n"
     ]
    },
    {
     "name": "stdout",
     "output_type": "stream",
     "text": [
      "url_i:  https://www.tdcj.texas.gov/death_row/dr_info/bagwelldennis.jpg\n",
      "url_w:  https://www.tdcj.texas.gov/death_row/dr_info/bagwelldennislast.html\n"
     ]
    },
    {
     "name": "stderr",
     "output_type": "stream",
     "text": [
      "WARNING:root:Some characters could not be decoded, and were replaced with REPLACEMENT CHARACTER.\n"
     ]
    },
    {
     "name": "stdout",
     "output_type": "stream",
     "text": [
      "url_i:  https://www.tdcj.texas.gov/death_row/dr_info/kunkletroy.jpg\n",
      "url_w:  https://www.tdcj.texas.gov/death_row/dr_info/kunkletroylast.html\n"
     ]
    },
    {
     "name": "stderr",
     "output_type": "stream",
     "text": [
      "WARNING:root:Some characters could not be decoded, and were replaced with REPLACEMENT CHARACTER.\n"
     ]
    },
    {
     "name": "stdout",
     "output_type": "stream",
     "text": [
      "url_i:  https://www.tdcj.texas.gov/death_row/dr_info/porterjames.html\n",
      "url_w:  https://www.tdcj.texas.gov/death_row/dr_info/porterjameslast.html\n",
      "url_i:  https://www.tdcj.texas.gov/death_row/dr_info/fuentesanthony.jpg\n",
      "url_w:  https://www.tdcj.texas.gov/death_row/dr_info/fuentesanthonylast.html\n"
     ]
    },
    {
     "name": "stderr",
     "output_type": "stream",
     "text": [
      "WARNING:root:Some characters could not be decoded, and were replaced with REPLACEMENT CHARACTER.\n"
     ]
    },
    {
     "name": "stdout",
     "output_type": "stream",
     "text": [
      "url_i:  https://www.tdcj.texas.gov/death_row/dr_info/mcwilliamsfrederick.html\n",
      "url_w:  https://www.tdcj.texas.gov/death_row/dr_info/mcwilliamsfredericklast.html\n",
      "url_i:  https://www.tdcj.texas.gov/death_row/dr_info/mccullumdemarco.jpg\n",
      "url_w:  https://www.tdcj.texas.gov/death_row/dr_info/mccullumdemarcolast.html\n"
     ]
    },
    {
     "name": "stderr",
     "output_type": "stream",
     "text": [
      "WARNING:root:Some characters could not be decoded, and were replaced with REPLACEMENT CHARACTER.\n"
     ]
    },
    {
     "name": "stdout",
     "output_type": "stream",
     "text": [
      "url_i:  https://www.tdcj.texas.gov/death_row/dr_info/morrowrobert.html\n",
      "url_w:  https://www.tdcj.texas.gov/death_row/dr_info/morrowrobertlast.html\n",
      "url_i:  https://www.tdcj.texas.gov/death_row/dr_info/morrislorenzo.jpg\n",
      "url_w:  https://www.tdcj.texas.gov/death_row/dr_info/no_last_statement.html\n"
     ]
    },
    {
     "name": "stderr",
     "output_type": "stream",
     "text": [
      "WARNING:root:Some characters could not be decoded, and were replaced with REPLACEMENT CHARACTER.\n"
     ]
    },
    {
     "name": "stdout",
     "output_type": "stream",
     "text": [
      "url_i:  https://www.tdcj.texas.gov/death_row/dr_info/greendominique.jpg\n",
      "url_w:  https://www.tdcj.texas.gov/death_row/dr_info/greendominiquelast.html\n"
     ]
    },
    {
     "name": "stderr",
     "output_type": "stream",
     "text": [
      "WARNING:root:Some characters could not be decoded, and were replaced with REPLACEMENT CHARACTER.\n"
     ]
    },
    {
     "name": "stdout",
     "output_type": "stream",
     "text": [
      "url_i:  https://www.tdcj.texas.gov/death_row/dr_info/morrowricky.jpg\n",
      "url_w:  https://www.tdcj.texas.gov/death_row/dr_info/morrowrickylast.html\n"
     ]
    },
    {
     "name": "stderr",
     "output_type": "stream",
     "text": [
      "WARNING:root:Some characters could not be decoded, and were replaced with REPLACEMENT CHARACTER.\n"
     ]
    },
    {
     "name": "stdout",
     "output_type": "stream",
     "text": [
      "url_i:  https://www.tdcj.texas.gov/death_row/dr_info/aldrichdonald.jpg\n",
      "url_w:  https://www.tdcj.texas.gov/death_row/dr_info/aldrichdonaldlast.html\n"
     ]
    },
    {
     "name": "stderr",
     "output_type": "stream",
     "text": [
      "WARNING:root:Some characters could not be decoded, and were replaced with REPLACEMENT CHARACTER.\n"
     ]
    },
    {
     "name": "stdout",
     "output_type": "stream",
     "text": [
      "url_i:  https://www.tdcj.texas.gov/death_row/dr_info/minielpeter.jpg\n",
      "url_w:  https://www.tdcj.texas.gov/death_row/dr_info/minielpeterlast.html\n"
     ]
    },
    {
     "name": "stderr",
     "output_type": "stream",
     "text": [
      "WARNING:root:Some characters could not be decoded, and were replaced with REPLACEMENT CHARACTER.\n"
     ]
    },
    {
     "name": "stdout",
     "output_type": "stream",
     "text": [
      "url_i:  https://www.tdcj.texas.gov/death_row/dr_info/greenedward.jpg\n",
      "url_w:  https://www.tdcj.texas.gov/death_row/dr_info/greenedwardlast.html\n"
     ]
    },
    {
     "name": "stderr",
     "output_type": "stream",
     "text": [
      "WARNING:root:Some characters could not be decoded, and were replaced with REPLACEMENT CHARACTER.\n"
     ]
    },
    {
     "name": "stdout",
     "output_type": "stream",
     "text": [
      "url_i:  https://www.tdcj.texas.gov/death_row/dr_info/floresandrew.jpg\n",
      "url_w:  https://www.tdcj.texas.gov/death_row/dr_info/floresandrewlast.html\n"
     ]
    },
    {
     "name": "stderr",
     "output_type": "stream",
     "text": [
      "WARNING:root:Some characters could not be decoded, and were replaced with REPLACEMENT CHARACTER.\n"
     ]
    },
    {
     "name": "stdout",
     "output_type": "stream",
     "text": [
      "url_i:  https://www.tdcj.texas.gov/death_row/dr_info/allridgejames.jpg\n",
      "url_w:  https://www.tdcj.texas.gov/death_row/dr_info/allridgejameslast.html\n"
     ]
    },
    {
     "name": "stderr",
     "output_type": "stream",
     "text": [
      "WARNING:root:Some characters could not be decoded, and were replaced with REPLACEMENT CHARACTER.\n"
     ]
    },
    {
     "name": "stdout",
     "output_type": "stream",
     "text": [
      "url_i:  https://www.tdcj.texas.gov/death_row/dr_info/busbyjasen.jpg\n",
      "url_w:  https://www.tdcj.texas.gov/death_row/dr_info/busbyjasenlast.html\n"
     ]
    },
    {
     "name": "stderr",
     "output_type": "stream",
     "text": [
      "WARNING:root:Some characters could not be decoded, and were replaced with REPLACEMENT CHARACTER.\n"
     ]
    },
    {
     "name": "stdout",
     "output_type": "stream",
     "text": [
      "url_i:  https://www.tdcj.texas.gov/death_row/dr_info/harrisdavid.jpg\n",
      "url_w:  https://www.tdcj.texas.gov/death_row/dr_info/harrisdavidlast.html\n"
     ]
    },
    {
     "name": "stderr",
     "output_type": "stream",
     "text": [
      "WARNING:root:Some characters could not be decoded, and were replaced with REPLACEMENT CHARACTER.\n"
     ]
    },
    {
     "name": "stdout",
     "output_type": "stream",
     "text": [
      "url_i:  https://www.tdcj.texas.gov/death_row/dr_info/pattersonkelsey.jpg\n",
      "url_w:  https://www.tdcj.texas.gov/death_row/dr_info/pattersonkelseylast.html\n"
     ]
    },
    {
     "name": "stderr",
     "output_type": "stream",
     "text": [
      "WARNING:root:Some characters could not be decoded, and were replaced with REPLACEMENT CHARACTER.\n"
     ]
    },
    {
     "name": "stdout",
     "output_type": "stream",
     "text": [
      "url_i:  https://www.tdcj.texas.gov/death_row/dr_info/cottonmarcus.html\n",
      "url_w:  https://www.tdcj.texas.gov/death_row/dr_info/cottonmarcuslast.html\n",
      "url_i:  https://www.tdcj.texas.gov/death_row/dr_info/willinghamcameron.jpg\n",
      "url_w:  https://www.tdcj.texas.gov/death_row/dr_info/willinghamcameronlast.html\n"
     ]
    },
    {
     "name": "stderr",
     "output_type": "stream",
     "text": [
      "WARNING:root:Some characters could not be decoded, and were replaced with REPLACEMENT CHARACTER.\n"
     ]
    },
    {
     "name": "stdout",
     "output_type": "stream",
     "text": [
      "url_i:  https://www.tdcj.texas.gov/death_row/dr_info/hopkinsbobby.jpg\n",
      "url_w:  https://www.tdcj.texas.gov/death_row/dr_info/no_last_statement.html\n"
     ]
    },
    {
     "name": "stderr",
     "output_type": "stream",
     "text": [
      "WARNING:root:Some characters could not be decoded, and were replaced with REPLACEMENT CHARACTER.\n"
     ]
    },
    {
     "name": "stdout",
     "output_type": "stream",
     "text": [
      "url_i:  https://www.tdcj.texas.gov/death_row/dr_info/lagroneedward.jpg\n",
      "url_w:  https://www.tdcj.texas.gov/death_row/dr_info/lagroneedwardlast.html\n"
     ]
    },
    {
     "name": "stderr",
     "output_type": "stream",
     "text": [
      "WARNING:root:Some characters could not be decoded, and were replaced with REPLACEMENT CHARACTER.\n"
     ]
    },
    {
     "name": "stdout",
     "output_type": "stream",
     "text": [
      "url_i:  https://www.tdcj.texas.gov/death_row/dr_info/vickersbilly.jpg\n",
      "url_w:  https://www.tdcj.texas.gov/death_row/dr_info/vickersbillylast.html\n"
     ]
    },
    {
     "name": "stderr",
     "output_type": "stream",
     "text": [
      "WARNING:root:Some characters could not be decoded, and were replaced with REPLACEMENT CHARACTER.\n"
     ]
    },
    {
     "name": "stdout",
     "output_type": "stream",
     "text": [
      "url_i:  https://www.tdcj.texas.gov/death_row/dr_info/zimmermankevin.jpg\n",
      "url_w:  https://www.tdcj.texas.gov/death_row/dr_info/zimmermankevinlast.html\n"
     ]
    },
    {
     "name": "stderr",
     "output_type": "stream",
     "text": [
      "WARNING:root:Some characters could not be decoded, and were replaced with REPLACEMENT CHARACTER.\n"
     ]
    },
    {
     "name": "stdout",
     "output_type": "stream",
     "text": [
      "url_i:  https://www.tdcj.texas.gov/death_row/dr_info/brucekenneth.jpg\n",
      "url_w:  https://www.tdcj.texas.gov/death_row/dr_info/brucekennethlast.html\n"
     ]
    },
    {
     "name": "stderr",
     "output_type": "stream",
     "text": [
      "WARNING:root:Some characters could not be decoded, and were replaced with REPLACEMENT CHARACTER.\n"
     ]
    },
    {
     "name": "stdout",
     "output_type": "stream",
     "text": [
      "url_i:  https://www.tdcj.texas.gov/death_row/dr_info/matthewsynobe.html\n",
      "url_w:  https://www.tdcj.texas.gov/death_row/dr_info/no_last_statement.html\n",
      "url_i:  https://www.tdcj.texas.gov/death_row/dr_info/murphyivan.jpg\n",
      "url_w:  https://www.tdcj.texas.gov/death_row/dr_info/murphyivanlast.html\n"
     ]
    },
    {
     "name": "stderr",
     "output_type": "stream",
     "text": [
      "WARNING:root:Some characters could not be decoded, and were replaced with REPLACEMENT CHARACTER.\n"
     ]
    },
    {
     "name": "stdout",
     "output_type": "stream",
     "text": [
      "url_i:  https://www.tdcj.texas.gov/death_row/dr_info/duncanrichard.jpg\n",
      "url_w:  https://www.tdcj.texas.gov/death_row/dr_info/duncanrichardlast.html\n"
     ]
    },
    {
     "name": "stderr",
     "output_type": "stream",
     "text": [
      "WARNING:root:Some characters could not be decoded, and were replaced with REPLACEMENT CHARACTER.\n"
     ]
    },
    {
     "name": "stdout",
     "output_type": "stream",
     "text": [
      "url_i:  https://www.tdcj.texas.gov/death_row/dr_info/henryrobert.jpg\n",
      "url_w:  https://www.tdcj.texas.gov/death_row/dr_info/no_last_statement.html\n"
     ]
    },
    {
     "name": "stderr",
     "output_type": "stream",
     "text": [
      "WARNING:root:Some characters could not be decoded, and were replaced with REPLACEMENT CHARACTER.\n"
     ]
    },
    {
     "name": "stdout",
     "output_type": "stream",
     "text": [
      "url_i:  https://www.tdcj.texas.gov/death_row/dr_info/hayeslarry.html\n",
      "url_w:  https://www.tdcj.texas.gov/death_row/dr_info/hayeslarrylast.html\n",
      "url_i:  https://www.tdcj.texas.gov/death_row/dr_info/janeckaallen.jpg\n",
      "url_w:  https://www.tdcj.texas.gov/death_row/dr_info/janeckaallenlast.html\n"
     ]
    },
    {
     "name": "stderr",
     "output_type": "stream",
     "text": [
      "WARNING:root:Some characters could not be decoded, and were replaced with REPLACEMENT CHARACTER.\n"
     ]
    },
    {
     "name": "stdout",
     "output_type": "stream",
     "text": [
      "url_i:  https://www.tdcj.texas.gov/death_row/dr_info/ransomcedric.jpg\n",
      "url_w:  https://www.tdcj.texas.gov/death_row/dr_info/ransomcedriclast.html\n"
     ]
    },
    {
     "name": "stderr",
     "output_type": "stream",
     "text": [
      "WARNING:root:Some characters could not be decoded, and were replaced with REPLACEMENT CHARACTER.\n"
     ]
    },
    {
     "name": "stdout",
     "output_type": "stream",
     "text": [
      "url_i:  https://www.tdcj.texas.gov/death_row/dr_info/blackchristopher.html\n",
      "url_w:  https://www.tdcj.texas.gov/death_row/dr_info/no_last_statement.html\n",
      "url_i:  https://www.tdcj.texas.gov/death_row/dr_info/crawfordhilton.jpg\n",
      "url_w:  https://www.tdcj.texas.gov/death_row/dr_info/crawfordhiltonlast.html\n"
     ]
    },
    {
     "name": "stderr",
     "output_type": "stream",
     "text": [
      "WARNING:root:Some characters could not be decoded, and were replaced with REPLACEMENT CHARACTER.\n"
     ]
    },
    {
     "name": "stdout",
     "output_type": "stream",
     "text": [
      "url_i:  https://www.tdcj.texas.gov/death_row/dr_info/johnsonkia.jpg\n",
      "url_w:  https://www.tdcj.texas.gov/death_row/dr_info/johnsonkialast.html\n"
     ]
    },
    {
     "name": "stderr",
     "output_type": "stream",
     "text": [
      "WARNING:root:Some characters could not be decoded, and were replaced with REPLACEMENT CHARACTER.\n"
     ]
    },
    {
     "name": "stdout",
     "output_type": "stream",
     "text": [
      "url_i:  https://www.tdcj.texas.gov/death_row/dr_info/jacobsbruce.jpg\n",
      "url_w:  https://www.tdcj.texas.gov/death_row/dr_info/jacobsbrucelast.html\n"
     ]
    },
    {
     "name": "stderr",
     "output_type": "stream",
     "text": [
      "WARNING:root:Some characters could not be decoded, and were replaced with REPLACEMENT CHARACTER.\n"
     ]
    },
    {
     "name": "stdout",
     "output_type": "stream",
     "text": [
      "url_i:  https://www.tdcj.texas.gov/death_row/dr_info/vaughnroger.jpg\n",
      "url_w:  https://www.tdcj.texas.gov/death_row/dr_info/no_last_statement.html\n"
     ]
    },
    {
     "name": "stderr",
     "output_type": "stream",
     "text": [
      "WARNING:root:Some characters could not be decoded, and were replaced with REPLACEMENT CHARACTER.\n"
     ]
    },
    {
     "name": "stdout",
     "output_type": "stream",
     "text": [
      "url_i:  https://www.tdcj.texas.gov/death_row/dr_info/chavezjohn.jpg\n",
      "url_w:  https://www.tdcj.texas.gov/death_row/dr_info/chavezjohnlast.html\n"
     ]
    },
    {
     "name": "stderr",
     "output_type": "stream",
     "text": [
      "WARNING:root:Some characters could not be decoded, and were replaced with REPLACEMENT CHARACTER.\n"
     ]
    },
    {
     "name": "stdout",
     "output_type": "stream",
     "text": [
      "url_i:  https://www.tdcj.texas.gov/death_row/dr_info/colburnjames.jpg\n",
      "url_w:  https://www.tdcj.texas.gov/death_row/dr_info/colburnjameslast.html\n"
     ]
    },
    {
     "name": "stderr",
     "output_type": "stream",
     "text": [
      "WARNING:root:Some characters could not be decoded, and were replaced with REPLACEMENT CHARACTER.\n"
     ]
    },
    {
     "name": "stdout",
     "output_type": "stream",
     "text": [
      "url_i:  https://www.tdcj.texas.gov/death_row/dr_info/claykeith.html\n",
      "url_w:  https://www.tdcj.texas.gov/death_row/dr_info/claykeithlast.html\n",
      "url_i:  https://www.tdcj.texas.gov/death_row/dr_info/cookbobby.jpg\n",
      "url_w:  https://www.tdcj.texas.gov/death_row/dr_info/cookbobbylast.html\n"
     ]
    },
    {
     "name": "stderr",
     "output_type": "stream",
     "text": [
      "WARNING:root:Some characters could not be decoded, and were replaced with REPLACEMENT CHARACTER.\n"
     ]
    },
    {
     "name": "stdout",
     "output_type": "stream",
     "text": [
      "url_i:  https://www.tdcj.texas.gov/death_row/dr_info/williamsrichard.html\n",
      "url_w:  https://www.tdcj.texas.gov/death_row/dr_info/williamsrichardlast.html\n",
      "url_i:  https://www.tdcj.texas.gov/death_row/dr_info/dunnhenry.jpg\n",
      "url_w:  https://www.tdcj.texas.gov/death_row/dr_info/dunnhenrylast.html\n"
     ]
    },
    {
     "name": "stderr",
     "output_type": "stream",
     "text": [
      "WARNING:root:Some characters could not be decoded, and were replaced with REPLACEMENT CHARACTER.\n"
     ]
    },
    {
     "name": "stdout",
     "output_type": "stream",
     "text": [
      "url_i:  https://www.tdcj.texas.gov/death_row/dr_info/elliottjohn.jpg\n",
      "url_w:  https://www.tdcj.texas.gov/death_row/dr_info/no_last_statement.html\n"
     ]
    },
    {
     "name": "stderr",
     "output_type": "stream",
     "text": [
      "WARNING:root:Some characters could not be decoded, and were replaced with REPLACEMENT CHARACTER.\n"
     ]
    },
    {
     "name": "stdout",
     "output_type": "stream",
     "text": [
      "url_i:  https://www.tdcj.texas.gov/death_row/dr_info/riddlegranville.jpg\n",
      "url_w:  https://www.tdcj.texas.gov/death_row/dr_info/riddlegranvillelast.html\n"
     ]
    },
    {
     "name": "stderr",
     "output_type": "stream",
     "text": [
      "WARNING:root:Some characters could not be decoded, and were replaced with REPLACEMENT CHARACTER.\n"
     ]
    },
    {
     "name": "stdout",
     "output_type": "stream",
     "text": [
      "url_i:  https://www.tdcj.texas.gov/death_row/dr_info/dinkinsrichard.jpg\n",
      "url_w:  https://www.tdcj.texas.gov/death_row/dr_info/dinkinsrichardlast.html\n"
     ]
    },
    {
     "name": "stderr",
     "output_type": "stream",
     "text": [
      "WARNING:root:Some characters could not be decoded, and were replaced with REPLACEMENT CHARACTER.\n"
     ]
    },
    {
     "name": "stdout",
     "output_type": "stream",
     "text": [
      "url_i:  https://www.tdcj.texas.gov/death_row/dr_info/curryalva.jpg\n",
      "url_w:  https://www.tdcj.texas.gov/death_row/dr_info/curryalvalast.html\n"
     ]
    },
    {
     "name": "stderr",
     "output_type": "stream",
     "text": [
      "WARNING:root:Some characters could not be decoded, and were replaced with REPLACEMENT CHARACTER.\n"
     ]
    },
    {
     "name": "stdout",
     "output_type": "stream",
     "text": [
      "url_i:  https://www.tdcj.texas.gov/death_row/dr_info/lookingbillrobert.jpg\n",
      "url_w:  https://www.tdcj.texas.gov/death_row/dr_info/lookingbillrobertlast.html\n"
     ]
    },
    {
     "name": "stderr",
     "output_type": "stream",
     "text": [
      "WARNING:root:Some characters could not be decoded, and were replaced with REPLACEMENT CHARACTER.\n"
     ]
    },
    {
     "name": "stdout",
     "output_type": "stream",
     "text": [
      "url_i:  https://www.tdcj.texas.gov/death_row/dr_info/baltazarjohn.html\n",
      "url_w:  https://www.tdcj.texas.gov/death_row/dr_info/no_last_statement.html\n",
      "url_i:  https://www.tdcj.texas.gov/death_row/dr_info/gallamoresamuel.jpg\n",
      "url_w:  https://www.tdcj.texas.gov/death_row/dr_info/gallamoresamuellast.html\n"
     ]
    },
    {
     "name": "stderr",
     "output_type": "stream",
     "text": [
      "WARNING:root:Some characters could not be decoded, and were replaced with REPLACEMENT CHARACTER.\n"
     ]
    },
    {
     "name": "stdout",
     "output_type": "stream",
     "text": [
      "url_i:  https://www.tdcj.texas.gov/death_row/dr_info/collierjames.jpg\n",
      "url_w:  https://www.tdcj.texas.gov/death_row/dr_info/collierjameslast.html\n"
     ]
    },
    {
     "name": "stderr",
     "output_type": "stream",
     "text": [
      "WARNING:root:Some characters could not be decoded, and were replaced with REPLACEMENT CHARACTER.\n"
     ]
    },
    {
     "name": "stdout",
     "output_type": "stream",
     "text": [
      "url_i:  https://www.tdcj.texas.gov/death_row/dr_info/rojasleonard.jpg\n",
      "url_w:  https://www.tdcj.texas.gov/death_row/dr_info/no_last_statement.html\n"
     ]
    },
    {
     "name": "stderr",
     "output_type": "stream",
     "text": [
      "WARNING:root:Some characters could not be decoded, and were replaced with REPLACEMENT CHARACTER.\n"
     ]
    },
    {
     "name": "stdout",
     "output_type": "stream",
     "text": [
      "url_i:  https://www.tdcj.texas.gov/death_row/dr_info/chappellwilliam.jpg\n",
      "url_w:  https://www.tdcj.texas.gov/death_row/dr_info/chappellwilliamlast.html\n"
     ]
    },
    {
     "name": "stderr",
     "output_type": "stream",
     "text": [
      "WARNING:root:Some characters could not be decoded, and were replaced with REPLACEMENT CHARACTER.\n"
     ]
    },
    {
     "name": "stdout",
     "output_type": "stream",
     "text": [
      "url_i:  https://www.tdcj.texas.gov/death_row/dr_info/ogancraig.jpg\n",
      "url_w:  https://www.tdcj.texas.gov/death_row/dr_info/ogancraiglast.html\n"
     ]
    },
    {
     "name": "stderr",
     "output_type": "stream",
     "text": [
      "WARNING:root:Some characters could not be decoded, and were replaced with REPLACEMENT CHARACTER.\n"
     ]
    },
    {
     "name": "stdout",
     "output_type": "stream",
     "text": [
      "url_i:  https://www.tdcj.texas.gov/death_row/dr_info/powelljames.jpg\n",
      "url_w:  https://www.tdcj.texas.gov/death_row/dr_info/powelljameslast.html\n"
     ]
    },
    {
     "name": "stderr",
     "output_type": "stream",
     "text": [
      "WARNING:root:Some characters could not be decoded, and were replaced with REPLACEMENT CHARACTER.\n"
     ]
    },
    {
     "name": "stdout",
     "output_type": "stream",
     "text": [
      "url_i:  https://www.tdcj.texas.gov/death_row/dr_info/kingcalvin.jpg\n",
      "url_w:  https://www.tdcj.texas.gov/death_row/dr_info/kingcalvinlast.html\n"
     ]
    },
    {
     "name": "stderr",
     "output_type": "stream",
     "text": [
      "WARNING:root:Some characters could not be decoded, and were replaced with REPLACEMENT CHARACTER.\n"
     ]
    },
    {
     "name": "stdout",
     "output_type": "stream",
     "text": [
      "url_i:  https://www.tdcj.texas.gov/death_row/dr_info/maysrex.jpg\n",
      "url_w:  https://www.tdcj.texas.gov/death_row/dr_info/maysrexlast.html\n"
     ]
    },
    {
     "name": "stderr",
     "output_type": "stream",
     "text": [
      "WARNING:root:Some characters could not be decoded, and were replaced with REPLACEMENT CHARACTER.\n"
     ]
    },
    {
     "name": "stdout",
     "output_type": "stream",
     "text": [
      "url_i:  https://www.tdcj.texas.gov/death_row/dr_info/shamburgerron.jpg\n",
      "url_w:  https://www.tdcj.texas.gov/death_row/dr_info/shamburgerronlast.html\n"
     ]
    },
    {
     "name": "stderr",
     "output_type": "stream",
     "text": [
      "WARNING:root:Some characters could not be decoded, and were replaced with REPLACEMENT CHARACTER.\n"
     ]
    },
    {
     "name": "stdout",
     "output_type": "stream",
     "text": [
      "url_i:  https://www.tdcj.texas.gov/death_row/dr_info/patrickjessie.jpg\n",
      "url_w:  https://www.tdcj.texas.gov/death_row/dr_info/no_last_statement.html\n"
     ]
    },
    {
     "name": "stderr",
     "output_type": "stream",
     "text": [
      "WARNING:root:Some characters could not be decoded, and were replaced with REPLACEMENT CHARACTER.\n"
     ]
    },
    {
     "name": "stdout",
     "output_type": "stream",
     "text": [
      "url_i:  https://www.tdcj.texas.gov/death_row/dr_info/walkertony.jpg\n",
      "url_w:  https://www.tdcj.texas.gov/death_row/dr_info/walkertonylast.html\n"
     ]
    },
    {
     "name": "stderr",
     "output_type": "stream",
     "text": [
      "WARNING:root:Some characters could not be decoded, and were replaced with REPLACEMENT CHARACTER.\n"
     ]
    },
    {
     "name": "stdout",
     "output_type": "stream",
     "text": [
      "url_i:  https://www.tdcj.texas.gov/death_row/dr_info/pattersontoronto.jpg\n",
      "url_w:  https://www.tdcj.texas.gov/death_row/dr_info/pattersontorontolast.html\n"
     ]
    },
    {
     "name": "stderr",
     "output_type": "stream",
     "text": [
      "WARNING:root:Some characters could not be decoded, and were replaced with REPLACEMENT CHARACTER.\n"
     ]
    },
    {
     "name": "stdout",
     "output_type": "stream",
     "text": [
      "url_i:  https://www.tdcj.texas.gov/death_row/dr_info/etheridgegary.jpg\n",
      "url_w:  https://www.tdcj.texas.gov/death_row/dr_info/etheridgegarylast.html\n"
     ]
    },
    {
     "name": "stderr",
     "output_type": "stream",
     "text": [
      "WARNING:root:Some characters could not be decoded, and were replaced with REPLACEMENT CHARACTER.\n"
     ]
    },
    {
     "name": "stdout",
     "output_type": "stream",
     "text": [
      "url_i:  https://www.tdcj.texas.gov/death_row/dr_info/medinajavier.jpg\n",
      "url_w:  https://www.tdcj.texas.gov/death_row/dr_info/medinajavierlast.html\n"
     ]
    },
    {
     "name": "stderr",
     "output_type": "stream",
     "text": [
      "WARNING:root:Some characters could not be decoded, and were replaced with REPLACEMENT CHARACTER.\n"
     ]
    },
    {
     "name": "stdout",
     "output_type": "stream",
     "text": [
      "url_i:  https://www.tdcj.texas.gov/death_row/dr_info/jonestj.jpg\n",
      "url_w:  https://www.tdcj.texas.gov/death_row/dr_info/jonestjlast.html\n"
     ]
    },
    {
     "name": "stderr",
     "output_type": "stream",
     "text": [
      "WARNING:root:Some characters could not be decoded, and were replaced with REPLACEMENT CHARACTER.\n"
     ]
    },
    {
     "name": "stdout",
     "output_type": "stream",
     "text": [
      "url_i:  https://www.tdcj.texas.gov/death_row/dr_info/kutznerrichard.jpg\n",
      "url_w:  https://www.tdcj.texas.gov/death_row/dr_info/kutznerrichardlast.html\n"
     ]
    },
    {
     "name": "stderr",
     "output_type": "stream",
     "text": [
      "WARNING:root:Some characters could not be decoded, and were replaced with REPLACEMENT CHARACTER.\n"
     ]
    },
    {
     "name": "stdout",
     "output_type": "stream",
     "text": [
      "url_i:  https://www.tdcj.texas.gov/death_row/dr_info/williamsjeffrey.jpg\n",
      "url_w:  https://www.tdcj.texas.gov/death_row/dr_info/williamsjeffreylast.html\n"
     ]
    },
    {
     "name": "stderr",
     "output_type": "stream",
     "text": [
      "WARNING:root:Some characters could not be decoded, and were replaced with REPLACEMENT CHARACTER.\n"
     ]
    },
    {
     "name": "stdout",
     "output_type": "stream",
     "text": [
      "url_i:  https://www.tdcj.texas.gov/death_row/dr_info/coulsonrobert.jpg\n",
      "url_w:  https://www.tdcj.texas.gov/death_row/dr_info/coulsonrobertlast.html\n"
     ]
    },
    {
     "name": "stderr",
     "output_type": "stream",
     "text": [
      "WARNING:root:Some characters could not be decoded, and were replaced with REPLACEMENT CHARACTER.\n"
     ]
    },
    {
     "name": "stdout",
     "output_type": "stream",
     "text": [
      "url_i:  https://www.tdcj.texas.gov/death_row/dr_info/reneaudaniel.jpg\n",
      "url_w:  https://www.tdcj.texas.gov/death_row/dr_info/no_last_statement.html\n"
     ]
    },
    {
     "name": "stderr",
     "output_type": "stream",
     "text": [
      "WARNING:root:Some characters could not be decoded, and were replaced with REPLACEMENT CHARACTER.\n"
     ]
    },
    {
     "name": "stdout",
     "output_type": "stream",
     "text": [
      "url_i:  https://www.tdcj.texas.gov/death_row/dr_info/bakerstanley.jpg\n",
      "url_w:  https://www.tdcj.texas.gov/death_row/dr_info/bakerstanleylast.html\n"
     ]
    },
    {
     "name": "stderr",
     "output_type": "stream",
     "text": [
      "WARNING:root:Some characters could not be decoded, and were replaced with REPLACEMENT CHARACTER.\n"
     ]
    },
    {
     "name": "stdout",
     "output_type": "stream",
     "text": [
      "url_i:  https://www.tdcj.texas.gov/death_row/dr_info/beazleynapolean.jpg\n",
      "url_w:  https://www.tdcj.texas.gov/death_row/dr_info/beazleynapoleonlast.html\n"
     ]
    },
    {
     "name": "stderr",
     "output_type": "stream",
     "text": [
      "WARNING:root:Some characters could not be decoded, and were replaced with REPLACEMENT CHARACTER.\n"
     ]
    },
    {
     "name": "stdout",
     "output_type": "stream",
     "text": [
      "url_i:  https://www.tdcj.texas.gov/death_row/dr_info/martinezjohnny.jpg\n",
      "url_w:  https://www.tdcj.texas.gov/death_row/dr_info/martinezjohnnylast.html\n"
     ]
    },
    {
     "name": "stderr",
     "output_type": "stream",
     "text": [
      "WARNING:root:Some characters could not be decoded, and were replaced with REPLACEMENT CHARACTER.\n"
     ]
    },
    {
     "name": "stdout",
     "output_type": "stream",
     "text": [
      "url_i:  https://www.tdcj.texas.gov/death_row/dr_info/styronronford.jpg\n",
      "url_w:  https://www.tdcj.texas.gov/death_row/dr_info/styronronfordlast.html\n"
     ]
    },
    {
     "name": "stderr",
     "output_type": "stream",
     "text": [
      "WARNING:root:Some characters could not be decoded, and were replaced with REPLACEMENT CHARACTER.\n"
     ]
    },
    {
     "name": "stdout",
     "output_type": "stream",
     "text": [
      "url_i:  https://www.tdcj.texas.gov/death_row/dr_info/reevesreginald.jpg\n",
      "url_w:  https://www.tdcj.texas.gov/death_row/dr_info/reevesreginaldlast.html\n"
     ]
    },
    {
     "name": "stderr",
     "output_type": "stream",
     "text": [
      "WARNING:root:Some characters could not be decoded, and were replaced with REPLACEMENT CHARACTER.\n"
     ]
    },
    {
     "name": "stdout",
     "output_type": "stream",
     "text": [
      "url_i:  https://www.tdcj.texas.gov/death_row/dr_info/hernandezrodolfo.jpg\n",
      "url_w:  https://www.tdcj.texas.gov/death_row/dr_info/hernandezrodolfolast.html\n"
     ]
    },
    {
     "name": "stderr",
     "output_type": "stream",
     "text": [
      "WARNING:root:Some characters could not be decoded, and were replaced with REPLACEMENT CHARACTER.\n"
     ]
    },
    {
     "name": "stdout",
     "output_type": "stream",
     "text": [
      "url_i:  https://www.tdcj.texas.gov/death_row/dr_info/caseygerald.jpg\n",
      "url_w:  https://www.tdcj.texas.gov/death_row/dr_info/no_last_statement.html\n"
     ]
    },
    {
     "name": "stderr",
     "output_type": "stream",
     "text": [
      "WARNING:root:Some characters could not be decoded, and were replaced with REPLACEMENT CHARACTER.\n"
     ]
    },
    {
     "name": "stdout",
     "output_type": "stream",
     "text": [
      "url_i:  https://www.tdcj.texas.gov/death_row/dr_info/burnswilliam.jpg\n",
      "url_w:  https://www.tdcj.texas.gov/death_row/dr_info/burnswilliamlast.html\n"
     ]
    },
    {
     "name": "stderr",
     "output_type": "stream",
     "text": [
      "WARNING:root:Some characters could not be decoded, and were replaced with REPLACEMENT CHARACTER.\n"
     ]
    },
    {
     "name": "stdout",
     "output_type": "stream",
     "text": [
      "url_i:  https://www.tdcj.texas.gov/death_row/dr_info/santellanjose.html\n",
      "url_w:  https://www.tdcj.texas.gov/death_row/dr_info/santellanjoselast.html\n",
      "url_i:  https://www.tdcj.texas.gov/death_row/dr_info/tignergerald.jpg\n",
      "url_w:  https://www.tdcj.texas.gov/death_row/dr_info/tignergeraldlast.html\n"
     ]
    },
    {
     "name": "stderr",
     "output_type": "stream",
     "text": [
      "WARNING:root:Some characters could not be decoded, and were replaced with REPLACEMENT CHARACTER.\n"
     ]
    },
    {
     "name": "stdout",
     "output_type": "stream",
     "text": [
      "url_i:  https://www.tdcj.texas.gov/death_row/dr_info/delkmonty.jpg\n",
      "url_w:  https://www.tdcj.texas.gov/death_row/dr_info/delkmontylast.html\n"
     ]
    },
    {
     "name": "stderr",
     "output_type": "stream",
     "text": [
      "WARNING:root:Some characters could not be decoded, and were replaced with REPLACEMENT CHARACTER.\n"
     ]
    },
    {
     "name": "stdout",
     "output_type": "stream",
     "text": [
      "url_i:  https://www.tdcj.texas.gov/death_row/dr_info/hafdahlrandall.jpg\n",
      "url_w:  https://www.tdcj.texas.gov/death_row/dr_info/hafdahlrandalllast.html\n"
     ]
    },
    {
     "name": "stderr",
     "output_type": "stream",
     "text": [
      "WARNING:root:Some characters could not be decoded, and were replaced with REPLACEMENT CHARACTER.\n"
     ]
    },
    {
     "name": "stdout",
     "output_type": "stream",
     "text": [
      "url_i:  https://www.tdcj.texas.gov/death_row/dr_info/brousardwindell.jpg\n",
      "url_w:  https://www.tdcj.texas.gov/death_row/dr_info/broussardwindelllast.html\n"
     ]
    },
    {
     "name": "stderr",
     "output_type": "stream",
     "text": [
      "WARNING:root:Some characters could not be decoded, and were replaced with REPLACEMENT CHARACTER.\n"
     ]
    },
    {
     "name": "stdout",
     "output_type": "stream",
     "text": [
      "url_i:  https://www.tdcj.texas.gov/death_row/dr_info/arnoldjermarr.jpg\n",
      "url_w:  https://www.tdcj.texas.gov/death_row/dr_info/arnoldjermarrlast.html\n"
     ]
    },
    {
     "name": "stderr",
     "output_type": "stream",
     "text": [
      "WARNING:root:Some characters could not be decoded, and were replaced with REPLACEMENT CHARACTER.\n"
     ]
    },
    {
     "name": "stdout",
     "output_type": "stream",
     "text": [
      "url_i:  https://www.tdcj.texas.gov/death_row/dr_info/mooremichael.jpg\n",
      "url_w:  https://www.tdcj.texas.gov/death_row/dr_info/mooremichaellast.html\n"
     ]
    },
    {
     "name": "stderr",
     "output_type": "stream",
     "text": [
      "WARNING:root:Some characters could not be decoded, and were replaced with REPLACEMENT CHARACTER.\n"
     ]
    },
    {
     "name": "stdout",
     "output_type": "stream",
     "text": [
      "url_i:  https://www.tdcj.texas.gov/death_row/dr_info/cooksvincent.jpg\n",
      "url_w:  https://www.tdcj.texas.gov/death_row/dr_info/cooksvincentlast.html\n"
     ]
    },
    {
     "name": "stderr",
     "output_type": "stream",
     "text": [
      "WARNING:root:Some characters could not be decoded, and were replaced with REPLACEMENT CHARACTER.\n"
     ]
    },
    {
     "name": "stdout",
     "output_type": "stream",
     "text": [
      "url_i:  https://www.tdcj.texas.gov/death_row/dr_info/ruddemerson.jpg\n",
      "url_w:  https://www.tdcj.texas.gov/death_row/dr_info/ruddemersonlast.html\n"
     ]
    },
    {
     "name": "stderr",
     "output_type": "stream",
     "text": [
      "WARNING:root:Some characters could not be decoded, and were replaced with REPLACEMENT CHARACTER.\n"
     ]
    },
    {
     "name": "stdout",
     "output_type": "stream",
     "text": [
      "url_i:  https://www.tdcj.texas.gov/death_row/dr_info/tuckerjefferey.jpg\n",
      "url_w:  https://www.tdcj.texas.gov/death_row/dr_info/tuckerjefferylast.html\n"
     ]
    },
    {
     "name": "stderr",
     "output_type": "stream",
     "text": [
      "WARNING:root:Some characters could not be decoded, and were replaced with REPLACEMENT CHARACTER.\n"
     ]
    },
    {
     "name": "stdout",
     "output_type": "stream",
     "text": [
      "url_i:  https://www.tdcj.texas.gov/death_row/dr_info/mitchellgerald.jpg\n",
      "url_w:  https://www.tdcj.texas.gov/death_row/dr_info/mitchellgeraldlast.html\n"
     ]
    },
    {
     "name": "stderr",
     "output_type": "stream",
     "text": [
      "WARNING:root:Some characters could not be decoded, and were replaced with REPLACEMENT CHARACTER.\n"
     ]
    },
    {
     "name": "stdout",
     "output_type": "stream",
     "text": [
      "url_i:  https://www.tdcj.texas.gov/death_row/dr_info/knoxroy.jpg\n",
      "url_w:  https://www.tdcj.texas.gov/death_row/dr_info/no_last_statement.html\n"
     ]
    },
    {
     "name": "stderr",
     "output_type": "stream",
     "text": [
      "WARNING:root:Some characters could not be decoded, and were replaced with REPLACEMENT CHARACTER.\n"
     ]
    },
    {
     "name": "stdout",
     "output_type": "stream",
     "text": [
      "url_i:  https://www.tdcj.texas.gov/death_row/dr_info/doughtiejeffery.jpg\n",
      "url_w:  https://www.tdcj.texas.gov/death_row/dr_info/doughtiejefferylast.html\n"
     ]
    },
    {
     "name": "stderr",
     "output_type": "stream",
     "text": [
      "WARNING:root:Some characters could not be decoded, and were replaced with REPLACEMENT CHARACTER.\n"
     ]
    },
    {
     "name": "stdout",
     "output_type": "stream",
     "text": [
      "url_i:  https://www.tdcj.texas.gov/death_row/dr_info/hillmack.jpg\n",
      "url_w:  https://www.tdcj.texas.gov/death_row/dr_info/hillmacklast.html\n"
     ]
    },
    {
     "name": "stderr",
     "output_type": "stream",
     "text": [
      "WARNING:root:Some characters could not be decoded, and were replaced with REPLACEMENT CHARACTER.\n"
     ]
    },
    {
     "name": "stdout",
     "output_type": "stream",
     "text": [
      "url_i:  https://www.tdcj.texas.gov/death_row/dr_info/wilkensjames.jpg\n",
      "url_w:  https://www.tdcj.texas.gov/death_row/dr_info/wilkensjameslast.html\n"
     ]
    },
    {
     "name": "stderr",
     "output_type": "stream",
     "text": [
      "WARNING:root:Some characters could not be decoded, and were replaced with REPLACEMENT CHARACTER.\n"
     ]
    },
    {
     "name": "stdout",
     "output_type": "stream",
     "text": [
      "url_i:  https://www.tdcj.texas.gov/death_row/dr_info/richardsonmiguel.jpg\n",
      "url_w:  https://www.tdcj.texas.gov/death_row/dr_info/richardsonmiguellast.html\n"
     ]
    },
    {
     "name": "stderr",
     "output_type": "stream",
     "text": [
      "WARNING:root:Some characters could not be decoded, and were replaced with REPLACEMENT CHARACTER.\n"
     ]
    },
    {
     "name": "stdout",
     "output_type": "stream",
     "text": [
      "url_i:  https://www.tdcj.texas.gov/death_row/dr_info/wheatjohn.jpg\n",
      "url_w:  https://www.tdcj.texas.gov/death_row/dr_info/wheatjohnlast.html\n"
     ]
    },
    {
     "name": "stderr",
     "output_type": "stream",
     "text": [
      "WARNING:root:Some characters could not be decoded, and were replaced with REPLACEMENT CHARACTER.\n"
     ]
    },
    {
     "name": "stdout",
     "output_type": "stream",
     "text": [
      "url_i:  https://www.tdcj.texas.gov/death_row/dr_info/goffdavid.jpg\n",
      "url_w:  https://www.tdcj.texas.gov/death_row/dr_info/goffdavidlast.html\n"
     ]
    },
    {
     "name": "stderr",
     "output_type": "stream",
     "text": [
      "WARNING:root:Some characters could not be decoded, and were replaced with REPLACEMENT CHARACTER.\n"
     ]
    },
    {
     "name": "stdout",
     "output_type": "stream",
     "text": [
      "url_i:  https://www.tdcj.texas.gov/death_row/dr_info/masseyjason.jpg\n",
      "url_w:  https://www.tdcj.texas.gov/death_row/dr_info/masseyjasonlast.html\n"
     ]
    },
    {
     "name": "stderr",
     "output_type": "stream",
     "text": [
      "WARNING:root:Some characters could not be decoded, and were replaced with REPLACEMENT CHARACTER.\n"
     ]
    },
    {
     "name": "stdout",
     "output_type": "stream",
     "text": [
      "url_i:  https://www.tdcj.texas.gov/death_row/dr_info/dowthittdennis.jpg\n",
      "url_w:  https://www.tdcj.texas.gov/death_row/dr_info/dowthittdennislast.html\n"
     ]
    },
    {
     "name": "stderr",
     "output_type": "stream",
     "text": [
      "WARNING:root:Some characters could not be decoded, and were replaced with REPLACEMENT CHARACTER.\n"
     ]
    },
    {
     "name": "stdout",
     "output_type": "stream",
     "text": [
      "url_i:  https://www.tdcj.texas.gov/death_row/dr_info/hernadezadolph.jpg\n",
      "url_w:  https://www.tdcj.texas.gov/death_row/dr_info/hernandezadophlast.html\n"
     ]
    },
    {
     "name": "stderr",
     "output_type": "stream",
     "text": [
      "WARNING:root:Some characters could not be decoded, and were replaced with REPLACEMENT CHARACTER.\n"
     ]
    },
    {
     "name": "stdout",
     "output_type": "stream",
     "text": [
      "url_i:  https://www.tdcj.texas.gov/death_row/dr_info/alexandercaruthers.jpg\n",
      "url_w:  https://www.tdcj.texas.gov/death_row/dr_info/no_last_statement.html\n"
     ]
    },
    {
     "name": "stderr",
     "output_type": "stream",
     "text": [
      "WARNING:root:Some characters could not be decoded, and were replaced with REPLACEMENT CHARACTER.\n"
     ]
    },
    {
     "name": "stdout",
     "output_type": "stream",
     "text": [
      "url_i:  https://www.tdcj.texas.gov/death_row/dr_info/goodwinalvin.jpg\n",
      "url_w:  https://www.tdcj.texas.gov/death_row/dr_info/goodwinalvinlast.html\n"
     ]
    },
    {
     "name": "stderr",
     "output_type": "stream",
     "text": [
      "WARNING:root:Some characters could not be decoded, and were replaced with REPLACEMENT CHARACTER.\n"
     ]
    },
    {
     "name": "stdout",
     "output_type": "stream",
     "text": [
      "url_i:  https://www.tdcj.texas.gov/death_row/dr_info/clarkjack.jpg\n",
      "url_w:  https://www.tdcj.texas.gov/death_row/dr_info/clarkjacklast.html\n"
     ]
    },
    {
     "name": "stderr",
     "output_type": "stream",
     "text": [
      "WARNING:root:Some characters could not be decoded, and were replaced with REPLACEMENT CHARACTER.\n"
     ]
    },
    {
     "name": "stdout",
     "output_type": "stream",
     "text": [
      "url_i:  https://www.tdcj.texas.gov/death_row/dr_info/jonesclaude.jpg\n",
      "url_w:  https://www.tdcj.texas.gov/death_row/dr_info/jonesclaudelast.html\n"
     ]
    },
    {
     "name": "stderr",
     "output_type": "stream",
     "text": [
      "WARNING:root:Some characters could not be decoded, and were replaced with REPLACEMENT CHARACTER.\n"
     ]
    },
    {
     "name": "stdout",
     "output_type": "stream",
     "text": [
      "url_i:  https://www.tdcj.texas.gov/death_row/dr_info/hittledaniel.jpg\n",
      "url_w:  https://www.tdcj.texas.gov/death_row/dr_info/hittledaniellast.html\n"
     ]
    },
    {
     "name": "stderr",
     "output_type": "stream",
     "text": [
      "WARNING:root:Some characters could not be decoded, and were replaced with REPLACEMENT CHARACTER.\n"
     ]
    },
    {
     "name": "stdout",
     "output_type": "stream",
     "text": [
      "url_i:  https://www.tdcj.texas.gov/death_row/dr_info/millergarry.jpg\n",
      "url_w:  https://www.tdcj.texas.gov/death_row/dr_info/millergarrylast.html\n"
     ]
    },
    {
     "name": "stderr",
     "output_type": "stream",
     "text": [
      "WARNING:root:Some characters could not be decoded, and were replaced with REPLACEMENT CHARACTER.\n"
     ]
    },
    {
     "name": "stdout",
     "output_type": "stream",
     "text": [
      "url_i:  https://www.tdcj.texas.gov/death_row/dr_info/chamberstony.jpg\n",
      "url_w:  https://www.tdcj.texas.gov/death_row/dr_info/chamberstonylast.html\n"
     ]
    },
    {
     "name": "stderr",
     "output_type": "stream",
     "text": [
      "WARNING:root:Some characters could not be decoded, and were replaced with REPLACEMENT CHARACTER.\n"
     ]
    },
    {
     "name": "stdout",
     "output_type": "stream",
     "text": [
      "url_i:  https://www.tdcj.texas.gov/death_row/dr_info/lawtonstacey.jpg\n",
      "url_w:  https://www.tdcj.texas.gov/death_row/dr_info/lawtonstaceylast.html\n"
     ]
    },
    {
     "name": "stderr",
     "output_type": "stream",
     "text": [
      "WARNING:root:Some characters could not be decoded, and were replaced with REPLACEMENT CHARACTER.\n"
     ]
    },
    {
     "name": "stdout",
     "output_type": "stream",
     "text": [
      "url_i:  https://www.tdcj.texas.gov/death_row/dr_info/floresmiguel.html\n",
      "url_w:  https://www.tdcj.texas.gov/death_row/dr_info/floresmiguellast.html\n",
      "url_i:  https://www.tdcj.texas.gov/death_row/dr_info/dillinghamjeffery.jpg\n",
      "url_w:  https://www.tdcj.texas.gov/death_row/dr_info/dillinghamjefferylast.html\n"
     ]
    },
    {
     "name": "stderr",
     "output_type": "stream",
     "text": [
      "WARNING:root:Some characters could not be decoded, and were replaced with REPLACEMENT CHARACTER.\n"
     ]
    },
    {
     "name": "stdout",
     "output_type": "stream",
     "text": [
      "url_i:  https://www.tdcj.texas.gov/death_row/dr_info/mcginnricky.jpg\n",
      "url_w:  https://www.tdcj.texas.gov/death_row/dr_info/mcginnrickylast.html\n"
     ]
    },
    {
     "name": "stderr",
     "output_type": "stream",
     "text": [
      "WARNING:root:Some characters could not be decoded, and were replaced with REPLACEMENT CHARACTER.\n"
     ]
    },
    {
     "name": "stdout",
     "output_type": "stream",
     "text": [
      "url_i:  https://www.tdcj.texas.gov/death_row/dr_info/caldwelljeffrey.jpg\n",
      "url_w:  https://www.tdcj.texas.gov/death_row/dr_info/caldwelljefferylast.html\n"
     ]
    },
    {
     "name": "stderr",
     "output_type": "stream",
     "text": [
      "WARNING:root:Some characters could not be decoded, and were replaced with REPLACEMENT CHARACTER.\n"
     ]
    },
    {
     "name": "stdout",
     "output_type": "stream",
     "text": [
      "url_i:  https://www.tdcj.texas.gov/death_row/dr_info/gibbsdavid.jpg\n",
      "url_w:  https://www.tdcj.texas.gov/death_row/dr_info/gibbsdavidlast.html\n"
     ]
    },
    {
     "name": "stderr",
     "output_type": "stream",
     "text": [
      "WARNING:root:Some characters could not be decoded, and were replaced with REPLACEMENT CHARACTER.\n"
     ]
    },
    {
     "name": "stdout",
     "output_type": "stream",
     "text": [
      "url_i:  https://www.tdcj.texas.gov/death_row/dr_info/jonesrichard.jpg\n",
      "url_w:  https://www.tdcj.texas.gov/death_row/dr_info/jonesrichardlast.html\n"
     ]
    },
    {
     "name": "stderr",
     "output_type": "stream",
     "text": [
      "WARNING:root:Some characters could not be decoded, and were replaced with REPLACEMENT CHARACTER.\n"
     ]
    },
    {
     "name": "stdout",
     "output_type": "stream",
     "text": [
      "url_i:  https://www.tdcj.texas.gov/death_row/dr_info/satterwhitejohn.jpg\n",
      "url_w:  https://www.tdcj.texas.gov/death_row/dr_info/no_last_statement.html\n"
     ]
    },
    {
     "name": "stderr",
     "output_type": "stream",
     "text": [
      "WARNING:root:Some characters could not be decoded, and were replaced with REPLACEMENT CHARACTER.\n"
     ]
    },
    {
     "name": "stdout",
     "output_type": "stream",
     "text": [
      "url_i:  https://www.tdcj.texas.gov/death_row/dr_info/cruzoliver.jpg\n",
      "url_w:  https://www.tdcj.texas.gov/death_row/dr_info/cruzoliverlast.html\n"
     ]
    },
    {
     "name": "stderr",
     "output_type": "stream",
     "text": [
      "WARNING:root:Some characters could not be decoded, and were replaced with REPLACEMENT CHARACTER.\n"
     ]
    },
    {
     "name": "stdout",
     "output_type": "stream",
     "text": [
      "url_i:  https://www.tdcj.texas.gov/death_row/dr_info/robersonbrian.jpg\n",
      "url_w:  https://www.tdcj.texas.gov/death_row/dr_info/robersonbrianlast.html\n"
     ]
    },
    {
     "name": "stderr",
     "output_type": "stream",
     "text": [
      "WARNING:root:Some characters could not be decoded, and were replaced with REPLACEMENT CHARACTER.\n"
     ]
    },
    {
     "name": "stdout",
     "output_type": "stream",
     "text": [
      "url_i:  https://www.tdcj.texas.gov/death_row/dr_info/soriajuan.jpg\n",
      "url_w:  https://www.tdcj.texas.gov/death_row/dr_info/soriajuanlast.html\n"
     ]
    },
    {
     "name": "stderr",
     "output_type": "stream",
     "text": [
      "WARNING:root:Some characters could not be decoded, and were replaced with REPLACEMENT CHARACTER.\n"
     ]
    },
    {
     "name": "stdout",
     "output_type": "stream",
     "text": [
      "url_i:  https://www.tdcj.texas.gov/death_row/dr_info/joinerorien.jpg\n",
      "url_w:  https://www.tdcj.texas.gov/death_row/dr_info/joinerorienlast.html\n"
     ]
    },
    {
     "name": "stderr",
     "output_type": "stream",
     "text": [
      "WARNING:root:Some characters could not be decoded, and were replaced with REPLACEMENT CHARACTER.\n"
     ]
    },
    {
     "name": "stdout",
     "output_type": "stream",
     "text": [
      "url_i:  https://www.tdcj.texas.gov/death_row/dr_info/sanmigueljessy.jpg\n",
      "url_w:  https://www.tdcj.texas.gov/death_row/dr_info/sanmigueljessylast.html\n"
     ]
    },
    {
     "name": "stderr",
     "output_type": "stream",
     "text": [
      "WARNING:root:Some characters could not be decoded, and were replaced with REPLACEMENT CHARACTER.\n"
     ]
    },
    {
     "name": "stdout",
     "output_type": "stream",
     "text": [
      "url_i:  https://www.tdcj.texas.gov/death_row/dr_info/grahamgary.jpg\n",
      "url_w:  https://www.tdcj.texas.gov/death_row/dr_info/grahamgarylast.html\n"
     ]
    },
    {
     "name": "stderr",
     "output_type": "stream",
     "text": [
      "WARNING:root:Some characters could not be decoded, and were replaced with REPLACEMENT CHARACTER.\n"
     ]
    },
    {
     "name": "stdout",
     "output_type": "stream",
     "text": [
      "url_i:  https://www.tdcj.texas.gov/death_row/dr_info/nunciopaul.jpg\n",
      "url_w:  https://www.tdcj.texas.gov/death_row/dr_info/nunciopaullast.html\n"
     ]
    },
    {
     "name": "stderr",
     "output_type": "stream",
     "text": [
      "WARNING:root:Some characters could not be decoded, and were replaced with REPLACEMENT CHARACTER.\n"
     ]
    },
    {
     "name": "stdout",
     "output_type": "stream",
     "text": [
      "url_i:  https://www.tdcj.texas.gov/death_row/dr_info/burksjohn.jpg\n",
      "url_w:  https://www.tdcj.texas.gov/death_row/dr_info/burksjohnlast.html\n"
     ]
    },
    {
     "name": "stderr",
     "output_type": "stream",
     "text": [
      "WARNING:root:Some characters could not be decoded, and were replaced with REPLACEMENT CHARACTER.\n"
     ]
    },
    {
     "name": "stdout",
     "output_type": "stream",
     "text": [
      "url_i:  https://www.tdcj.texas.gov/death_row/dr_info/masonthomas.jpg\n",
      "url_w:  https://www.tdcj.texas.gov/death_row/dr_info/masonthomaslast.html\n"
     ]
    },
    {
     "name": "stderr",
     "output_type": "stream",
     "text": [
      "WARNING:root:Some characters could not be decoded, and were replaced with REPLACEMENT CHARACTER.\n"
     ]
    },
    {
     "name": "stdout",
     "output_type": "stream",
     "text": [
      "url_i:  https://www.tdcj.texas.gov/death_row/dr_info/carterrobertearl.jpg\n",
      "url_w:  https://www.tdcj.texas.gov/death_row/dr_info/carterrobertearllast.html\n"
     ]
    },
    {
     "name": "stderr",
     "output_type": "stream",
     "text": [
      "WARNING:root:Some characters could not be decoded, and were replaced with REPLACEMENT CHARACTER.\n"
     ]
    },
    {
     "name": "stdout",
     "output_type": "stream",
     "text": [
      "url_i:  https://www.tdcj.texas.gov/death_row/dr_info/claytonjames.jpg\n",
      "url_w:  https://www.tdcj.texas.gov/death_row/dr_info/claytonjameslast.html\n"
     ]
    },
    {
     "name": "stderr",
     "output_type": "stream",
     "text": [
      "WARNING:root:Some characters could not be decoded, and were replaced with REPLACEMENT CHARACTER.\n"
     ]
    },
    {
     "name": "stdout",
     "output_type": "stream",
     "text": [
      "url_i:  https://www.tdcj.texas.gov/death_row/dr_info/fosterrichard.jpg\n",
      "url_w:  https://www.tdcj.texas.gov/death_row/dr_info/fosterrichardlast.html\n"
     ]
    },
    {
     "name": "stderr",
     "output_type": "stream",
     "text": [
      "WARNING:root:Some characters could not be decoded, and were replaced with REPLACEMENT CHARACTER.\n"
     ]
    },
    {
     "name": "stdout",
     "output_type": "stream",
     "text": [
      "url_i:  https://www.tdcj.texas.gov/death_row/dr_info/richardsonjames.jpg\n",
      "url_w:  https://www.tdcj.texas.gov/death_row/dr_info/richardsonjameslast.html\n"
     ]
    },
    {
     "name": "stderr",
     "output_type": "stream",
     "text": [
      "WARNING:root:Some characters could not be decoded, and were replaced with REPLACEMENT CHARACTER.\n"
     ]
    },
    {
     "name": "stdout",
     "output_type": "stream",
     "text": [
      "url_i:  https://www.tdcj.texas.gov/death_row/dr_info/mcbridemichael.jpg\n",
      "url_w:  https://www.tdcj.texas.gov/death_row/dr_info/mcbridemichaellast.html\n"
     ]
    },
    {
     "name": "stderr",
     "output_type": "stream",
     "text": [
      "WARNING:root:Some characters could not be decoded, and were replaced with REPLACEMENT CHARACTER.\n"
     ]
    },
    {
     "name": "stdout",
     "output_type": "stream",
     "text": [
      "url_i:  https://www.tdcj.texas.gov/death_row/dr_info/kitchenswilliam.jpg\n",
      "url_w:  https://www.tdcj.texas.gov/death_row/dr_info/kitchenswilliamlast.html\n"
     ]
    },
    {
     "name": "stderr",
     "output_type": "stream",
     "text": [
      "WARNING:root:Some characters could not be decoded, and were replaced with REPLACEMENT CHARACTER.\n"
     ]
    },
    {
     "name": "stdout",
     "output_type": "stream",
     "text": [
      "url_i:  https://www.tdcj.texas.gov/death_row/dr_info/jacksontommy.jpg\n",
      "url_w:  https://www.tdcj.texas.gov/death_row/dr_info/jacksontommylast.html\n"
     ]
    },
    {
     "name": "stderr",
     "output_type": "stream",
     "text": [
      "WARNING:root:Some characters could not be decoded, and were replaced with REPLACEMENT CHARACTER.\n"
     ]
    },
    {
     "name": "stdout",
     "output_type": "stream",
     "text": [
      "url_i:  https://www.tdcj.texas.gov/death_row/dr_info/gribbletimothy.jpg\n",
      "url_w:  https://www.tdcj.texas.gov/death_row/dr_info/gribbletimothylast.html\n"
     ]
    },
    {
     "name": "stderr",
     "output_type": "stream",
     "text": [
      "WARNING:root:Some characters could not be decoded, and were replaced with REPLACEMENT CHARACTER.\n"
     ]
    },
    {
     "name": "stdout",
     "output_type": "stream",
     "text": [
      "url_i:  https://www.tdcj.texas.gov/death_row/dr_info/wilkersonponchai.jpg\n",
      "url_w:  https://www.tdcj.texas.gov/death_row/dr_info/no_last_statement.html\n"
     ]
    },
    {
     "name": "stderr",
     "output_type": "stream",
     "text": [
      "WARNING:root:Some characters could not be decoded, and were replaced with REPLACEMENT CHARACTER.\n"
     ]
    },
    {
     "name": "stdout",
     "output_type": "stream",
     "text": [
      "url_i:  https://www.tdcj.texas.gov/death_row/dr_info/barnesodell.jpg\n",
      "url_w:  https://www.tdcj.texas.gov/death_row/dr_info/barnesodelllast.html\n"
     ]
    },
    {
     "name": "stderr",
     "output_type": "stream",
     "text": [
      "WARNING:root:Some characters could not be decoded, and were replaced with REPLACEMENT CHARACTER.\n"
     ]
    },
    {
     "name": "stdout",
     "output_type": "stream",
     "text": [
      "url_i:  https://www.tdcj.texas.gov/death_row/dr_info/beetsbetty.jpg\n",
      "url_w:  https://www.tdcj.texas.gov/death_row/dr_info/no_last_statement.html\n"
     ]
    },
    {
     "name": "stderr",
     "output_type": "stream",
     "text": [
      "WARNING:root:Some characters could not be decoded, and were replaced with REPLACEMENT CHARACTER.\n"
     ]
    },
    {
     "name": "stdout",
     "output_type": "stream",
     "text": [
      "url_i:  https://www.tdcj.texas.gov/death_row/dr_info/gosscornelius.jpg\n",
      "url_w:  https://www.tdcj.texas.gov/death_row/dr_info/gosscorneliuslast.html\n"
     ]
    },
    {
     "name": "stderr",
     "output_type": "stream",
     "text": [
      "WARNING:root:Some characters could not be decoded, and were replaced with REPLACEMENT CHARACTER.\n"
     ]
    },
    {
     "name": "stdout",
     "output_type": "stream",
     "text": [
      "url_i:  https://www.tdcj.texas.gov/death_row/dr_info/morelandjames.jpg\n",
      "url_w:  https://www.tdcj.texas.gov/death_row/dr_info/morelandjameslast.html\n"
     ]
    },
    {
     "name": "stderr",
     "output_type": "stream",
     "text": [
      "WARNING:root:Some characters could not be decoded, and were replaced with REPLACEMENT CHARACTER.\n"
     ]
    },
    {
     "name": "stdout",
     "output_type": "stream",
     "text": [
      "url_i:  https://www.tdcj.texas.gov/death_row/dr_info/mcginnisglen.jpg\n",
      "url_w:  https://www.tdcj.texas.gov/death_row/dr_info/no_last_statement.html\n"
     ]
    },
    {
     "name": "stderr",
     "output_type": "stream",
     "text": [
      "WARNING:root:Some characters could not be decoded, and were replaced with REPLACEMENT CHARACTER.\n"
     ]
    },
    {
     "name": "stdout",
     "output_type": "stream",
     "text": [
      "url_i:  https://www.tdcj.texas.gov/death_row/dr_info/hughesbilly.html\n",
      "url_w:  https://www.tdcj.texas.gov/death_row/dr_info/hughesbillylast.html\n",
      "url_i:  https://www.tdcj.texas.gov/death_row/dr_info/robisonlarry.jpg\n",
      "url_w:  https://www.tdcj.texas.gov/death_row/dr_info/no_last_statement.html\n"
     ]
    },
    {
     "name": "stderr",
     "output_type": "stream",
     "text": [
      "WARNING:root:Some characters could not be decoded, and were replaced with REPLACEMENT CHARACTER.\n"
     ]
    },
    {
     "name": "stdout",
     "output_type": "stream",
     "text": [
      "url_i:  https://www.tdcj.texas.gov/death_row/dr_info/hicksdavid.jpg\n",
      "url_w:  https://www.tdcj.texas.gov/death_row/dr_info/hicksdavidlast.html\n"
     ]
    },
    {
     "name": "stderr",
     "output_type": "stream",
     "text": [
      "WARNING:root:Some characters could not be decoded, and were replaced with REPLACEMENT CHARACTER.\n"
     ]
    },
    {
     "name": "stdout",
     "output_type": "stream",
     "text": [
      "url_i:  https://www.tdcj.texas.gov/death_row/dr_info/goodmanspencer.jpg\n",
      "url_w:  https://www.tdcj.texas.gov/death_row/dr_info/goodmanspencerlast.html\n"
     ]
    },
    {
     "name": "stderr",
     "output_type": "stream",
     "text": [
      "WARNING:root:Some characters could not be decoded, and were replaced with REPLACEMENT CHARACTER.\n"
     ]
    },
    {
     "name": "stdout",
     "output_type": "stream",
     "text": [
      "url_i:  https://www.tdcj.texas.gov/death_row/dr_info/heiselbetzearl.jpg\n",
      "url_w:  https://www.tdcj.texas.gov/death_row/dr_info/heiselbetzearllast.html\n"
     ]
    },
    {
     "name": "stderr",
     "output_type": "stream",
     "text": [
      "WARNING:root:Some characters could not be decoded, and were replaced with REPLACEMENT CHARACTER.\n"
     ]
    },
    {
     "name": "stdout",
     "output_type": "stream",
     "text": [
      "url_i:  https://www.tdcj.texas.gov/death_row/dr_info/feldersammie.jpg\n",
      "url_w:  https://www.tdcj.texas.gov/death_row/dr_info/feldersammielast.html\n"
     ]
    },
    {
     "name": "stderr",
     "output_type": "stream",
     "text": [
      "WARNING:root:Some characters could not be decoded, and were replaced with REPLACEMENT CHARACTER.\n"
     ]
    },
    {
     "name": "stdout",
     "output_type": "stream",
     "text": [
      "url_i:  https://www.tdcj.texas.gov/death_row/dr_info/atworthrobert.jpg\n",
      "url_w:  https://www.tdcj.texas.gov/death_row/dr_info/atworthrobertlast.html\n"
     ]
    },
    {
     "name": "stderr",
     "output_type": "stream",
     "text": [
      "WARNING:root:Some characters could not be decoded, and were replaced with REPLACEMENT CHARACTER.\n"
     ]
    },
    {
     "name": "stdout",
     "output_type": "stream",
     "text": [
      "url_i:  https://www.tdcj.texas.gov/death_row/dr_info/beathardjames.jpg\n",
      "url_w:  https://www.tdcj.texas.gov/death_row/dr_info/beathardjameslast.html\n"
     ]
    },
    {
     "name": "stderr",
     "output_type": "stream",
     "text": [
      "WARNING:root:Some characters could not be decoded, and were replaced with REPLACEMENT CHARACTER.\n"
     ]
    },
    {
     "name": "stdout",
     "output_type": "stream",
     "text": [
      "url_i:  https://www.tdcj.texas.gov/death_row/dr_info/longdavid.jpg\n",
      "url_w:  https://www.tdcj.texas.gov/death_row/dr_info/longdavidlast.html\n"
     ]
    },
    {
     "name": "stderr",
     "output_type": "stream",
     "text": [
      "WARNING:root:Some characters could not be decoded, and were replaced with REPLACEMENT CHARACTER.\n"
     ]
    },
    {
     "name": "stdout",
     "output_type": "stream",
     "text": [
      "url_i:  https://www.tdcj.texas.gov/death_row/dr_info/gutierrezjose.jpg\n",
      "url_w:  https://www.tdcj.texas.gov/death_row/dr_info/gutierrezjoselast.html\n"
     ]
    },
    {
     "name": "stderr",
     "output_type": "stream",
     "text": [
      "WARNING:root:Some characters could not be decoded, and were replaced with REPLACEMENT CHARACTER.\n"
     ]
    },
    {
     "name": "stdout",
     "output_type": "stream",
     "text": [
      "url_i:  https://www.tdcj.texas.gov/death_row/dr_info/lambjohn.jpg\n",
      "url_w:  https://www.tdcj.texas.gov/death_row/dr_info/lambjohnlast.html\n"
     ]
    },
    {
     "name": "stderr",
     "output_type": "stream",
     "text": [
      "WARNING:root:Some characters could not be decoded, and were replaced with REPLACEMENT CHARACTER.\n"
     ]
    },
    {
     "name": "stdout",
     "output_type": "stream",
     "text": [
      "url_i:  https://www.tdcj.texas.gov/death_row/dr_info/jenningsdesmond.jpg\n",
      "url_w:  https://www.tdcj.texas.gov/death_row/dr_info/no_last_statement.html\n"
     ]
    },
    {
     "name": "stderr",
     "output_type": "stream",
     "text": [
      "WARNING:root:Some characters could not be decoded, and were replaced with REPLACEMENT CHARACTER.\n"
     ]
    },
    {
     "name": "stdout",
     "output_type": "stream",
     "text": [
      "url_i:  https://www.tdcj.texas.gov/death_row/dr_info/cantudomingo.jpg\n",
      "url_w:  https://www.tdcj.texas.gov/death_row/dr_info/cantudomingolast.html\n"
     ]
    },
    {
     "name": "stderr",
     "output_type": "stream",
     "text": [
      "WARNING:root:Some characters could not be decoded, and were replaced with REPLACEMENT CHARACTER.\n"
     ]
    },
    {
     "name": "stdout",
     "output_type": "stream",
     "text": [
      "url_i:  https://www.tdcj.texas.gov/death_row/dr_info/mcfaddenjerry.jpg\n",
      "url_w:  https://www.tdcj.texas.gov/death_row/dr_info/no_last_statement.html\n"
     ]
    },
    {
     "name": "stderr",
     "output_type": "stream",
     "text": [
      "WARNING:root:Some characters could not be decoded, and were replaced with REPLACEMENT CHARACTER.\n"
     ]
    },
    {
     "name": "stdout",
     "output_type": "stream",
     "text": [
      "url_i:  https://www.tdcj.texas.gov/death_row/dr_info/cranealvin.jpg\n",
      "url_w:  https://www.tdcj.texas.gov/death_row/dr_info/cranealvinlast.html\n"
     ]
    },
    {
     "name": "stderr",
     "output_type": "stream",
     "text": [
      "WARNING:root:Some characters could not be decoded, and were replaced with REPLACEMENT CHARACTER.\n"
     ]
    },
    {
     "name": "stdout",
     "output_type": "stream",
     "text": [
      "url_i:  https://www.tdcj.texas.gov/death_row/dr_info/smithrichard.jpg\n",
      "url_w:  https://www.tdcj.texas.gov/death_row/dr_info/no_last_statement.html\n"
     ]
    },
    {
     "name": "stderr",
     "output_type": "stream",
     "text": [
      "WARNING:root:Some characters could not be decoded, and were replaced with REPLACEMENT CHARACTER.\n"
     ]
    },
    {
     "name": "stdout",
     "output_type": "stream",
     "text": [
      "url_i:  https://www.tdcj.texas.gov/death_row/dr_info/daviswilliam.jpg\n",
      "url_w:  https://www.tdcj.texas.gov/death_row/dr_info/daviswilliamlast.html\n"
     ]
    },
    {
     "name": "stderr",
     "output_type": "stream",
     "text": [
      "WARNING:root:Some characters could not be decoded, and were replaced with REPLACEMENT CHARACTER.\n"
     ]
    },
    {
     "name": "stdout",
     "output_type": "stream",
     "text": [
      "url_i:  https://www.tdcj.texas.gov/death_row/dr_info/barneswillis.jpg\n",
      "url_w:  https://www.tdcj.texas.gov/death_row/dr_info/barneswillislast.html\n"
     ]
    },
    {
     "name": "stderr",
     "output_type": "stream",
     "text": [
      "WARNING:root:Some characters could not be decoded, and were replaced with REPLACEMENT CHARACTER.\n"
     ]
    },
    {
     "name": "stdout",
     "output_type": "stream",
     "text": [
      "url_i:  https://www.tdcj.texas.gov/death_row/dr_info/_jonesrj.jpg\n",
      "url_w:  https://www.tdcj.texas.gov/death_row/dr_info/no_last_statement.html\n"
     ]
    },
    {
     "name": "stderr",
     "output_type": "stream",
     "text": [
      "WARNING:root:Some characters could not be decoded, and were replaced with REPLACEMENT CHARACTER.\n"
     ]
    },
    {
     "name": "stdout",
     "output_type": "stream",
     "text": [
      "url_i:  https://www.tdcj.texas.gov/death_row/dr_info/trevinojoe.jpg\n",
      "url_w:  https://www.tdcj.texas.gov/death_row/dr_info/no_last_statement.html\n"
     ]
    },
    {
     "name": "stderr",
     "output_type": "stream",
     "text": [
      "WARNING:root:Some characters could not be decoded, and were replaced with REPLACEMENT CHARACTER.\n"
     ]
    },
    {
     "name": "stdout",
     "output_type": "stream",
     "text": [
      "url_i:  https://www.tdcj.texas.gov/death_row/dr_info/earhartjames.jpg\n",
      "url_w:  https://www.tdcj.texas.gov/death_row/dr_info/no_last_statement.html\n"
     ]
    },
    {
     "name": "stderr",
     "output_type": "stream",
     "text": [
      "WARNING:root:Some characters could not be decoded, and were replaced with REPLACEMENT CHARACTER.\n"
     ]
    },
    {
     "name": "stdout",
     "output_type": "stream",
     "text": [
      "url_i:  https://www.tdcj.texas.gov/death_row/dr_info/dunnkenneth.jpg\n",
      "url_w:  https://www.tdcj.texas.gov/death_row/dr_info/no_last_statement.html\n"
     ]
    },
    {
     "name": "stderr",
     "output_type": "stream",
     "text": [
      "WARNING:root:Some characters could not be decoded, and were replaced with REPLACEMENT CHARACTER.\n"
     ]
    },
    {
     "name": "stdout",
     "output_type": "stream",
     "text": [
      "url_i:  https://www.tdcj.texas.gov/death_row/dr_info/boydcharles.jpg\n",
      "url_w:  https://www.tdcj.texas.gov/death_row/dr_info/boydcharleslast.html\n"
     ]
    },
    {
     "name": "stderr",
     "output_type": "stream",
     "text": [
      "WARNING:root:Some characters could not be decoded, and were replaced with REPLACEMENT CHARACTER.\n"
     ]
    },
    {
     "name": "stdout",
     "output_type": "stream",
     "text": [
      "url_i:  https://www.tdcj.texas.gov/death_row/dr_info/blackmonricky.jpg\n",
      "url_w:  https://www.tdcj.texas.gov/death_row/dr_info/no_last_statement.html\n"
     ]
    },
    {
     "name": "stderr",
     "output_type": "stream",
     "text": [
      "WARNING:root:Some characters could not be decoded, and were replaced with REPLACEMENT CHARACTER.\n"
     ]
    },
    {
     "name": "stdout",
     "output_type": "stream",
     "text": [
      "url_i:  https://www.tdcj.texas.gov/death_row/dr_info/fullertyrone.jpg\n",
      "url_w:  https://www.tdcj.texas.gov/death_row/dr_info/fullertyronelast.html\n"
     ]
    },
    {
     "name": "stderr",
     "output_type": "stream",
     "text": [
      "WARNING:root:Some characters could not be decoded, and were replaced with REPLACEMENT CHARACTER.\n"
     ]
    },
    {
     "name": "stdout",
     "output_type": "stream",
     "text": [
      "url_i:  https://www.tdcj.texas.gov/death_row/dr_info/tuttlecharles.jpg\n",
      "url_w:  https://www.tdcj.texas.gov/death_row/dr_info/tuttlecharleslast.html\n"
     ]
    },
    {
     "name": "stderr",
     "output_type": "stream",
     "text": [
      "WARNING:root:Some characters could not be decoded, and were replaced with REPLACEMENT CHARACTER.\n"
     ]
    },
    {
     "name": "stdout",
     "output_type": "stream",
     "text": [
      "url_i:  https://www.tdcj.texas.gov/death_row/dr_info/faulderjoseph.jpg\n",
      "url_w:  https://www.tdcj.texas.gov/death_row/dr_info/no_last_statement.html\n"
     ]
    },
    {
     "name": "stderr",
     "output_type": "stream",
     "text": [
      "WARNING:root:Some characters could not be decoded, and were replaced with REPLACEMENT CHARACTER.\n"
     ]
    },
    {
     "name": "stdout",
     "output_type": "stream",
     "text": [
      "url_i:  https://www.tdcj.texas.gov/death_row/dr_info/littlewilliam.jpg\n",
      "url_w:  https://www.tdcj.texas.gov/death_row/dr_info/no_last_statement.html\n"
     ]
    },
    {
     "name": "stderr",
     "output_type": "stream",
     "text": [
      "WARNING:root:Some characters could not be decoded, and were replaced with REPLACEMENT CHARACTER.\n"
     ]
    },
    {
     "name": "stdout",
     "output_type": "stream",
     "text": [
      "url_i:  https://www.tdcj.texas.gov/death_row/dr_info/colemanclydell.jpg\n",
      "url_w:  https://www.tdcj.texas.gov/death_row/dr_info/no_last_statement.html\n"
     ]
    },
    {
     "name": "stderr",
     "output_type": "stream",
     "text": [
      "WARNING:root:Some characters could not be decoded, and were replaced with REPLACEMENT CHARACTER.\n"
     ]
    },
    {
     "name": "stdout",
     "output_type": "stream",
     "text": [
      "url_i:  https://www.tdcj.texas.gov/death_row/dr_info/delacruzjose.jpg\n",
      "url_w:  https://www.tdcj.texas.gov/death_row/dr_info/no_last_statement.html\n"
     ]
    },
    {
     "name": "stderr",
     "output_type": "stream",
     "text": [
      "WARNING:root:Some characters could not be decoded, and were replaced with REPLACEMENT CHARACTER.\n"
     ]
    },
    {
     "name": "stdout",
     "output_type": "stream",
     "text": [
      "url_i:  https://www.tdcj.texas.gov/death_row/dr_info/foustaaron.html\n",
      "url_w:  https://www.tdcj.texas.gov/death_row/dr_info/foustaaronlast.html\n",
      "url_i:  https://www.tdcj.texas.gov/death_row/dr_info/whiteexcell.jpg\n",
      "url_w:  https://www.tdcj.texas.gov/death_row/dr_info/no_last_statement.html\n"
     ]
    },
    {
     "name": "stderr",
     "output_type": "stream",
     "text": [
      "WARNING:root:Some characters could not be decoded, and were replaced with REPLACEMENT CHARACTER.\n"
     ]
    },
    {
     "name": "stdout",
     "output_type": "stream",
     "text": [
      "url_i:  https://www.tdcj.texas.gov/death_row/dr_info/rectorcharles.jpg\n",
      "url_w:  https://www.tdcj.texas.gov/death_row/dr_info/rectorcharleslast.html\n"
     ]
    },
    {
     "name": "stderr",
     "output_type": "stream",
     "text": [
      "WARNING:root:Some characters could not be decoded, and were replaced with REPLACEMENT CHARACTER.\n"
     ]
    },
    {
     "name": "stdout",
     "output_type": "stream",
     "text": [
      "url_i:  https://www.tdcj.texas.gov/death_row/dr_info/greennorman.jpg\n",
      "url_w:  https://www.tdcj.texas.gov/death_row/dr_info/no_last_statement.html\n"
     ]
    },
    {
     "name": "stderr",
     "output_type": "stream",
     "text": [
      "WARNING:root:Some characters could not be decoded, and were replaced with REPLACEMENT CHARACTER.\n"
     ]
    },
    {
     "name": "stdout",
     "output_type": "stream",
     "text": [
      "url_i:  https://www.tdcj.texas.gov/death_row/dr_info/cantuandrew.jpg\n",
      "url_w:  https://www.tdcj.texas.gov/death_row/dr_info/no_last_statement.html\n"
     ]
    },
    {
     "name": "stderr",
     "output_type": "stream",
     "text": [
      "WARNING:root:Some characters could not be decoded, and were replaced with REPLACEMENT CHARACTER.\n"
     ]
    },
    {
     "name": "stdout",
     "output_type": "stream",
     "text": [
      "url_i:  https://www.tdcj.texas.gov/death_row/dr_info/barberdanny.jpg\n",
      "url_w:  https://www.tdcj.texas.gov/death_row/dr_info/barberdannylast.html\n"
     ]
    },
    {
     "name": "stderr",
     "output_type": "stream",
     "text": [
      "WARNING:root:Some characters could not be decoded, and were replaced with REPLACEMENT CHARACTER.\n"
     ]
    },
    {
     "name": "stdout",
     "output_type": "stream",
     "text": [
      "url_i:  https://www.tdcj.texas.gov/death_row/dr_info/cordovageorge.jpg\n",
      "url_w:  https://www.tdcj.texas.gov/death_row/dr_info/cordovageorgelast.html\n"
     ]
    },
    {
     "name": "stderr",
     "output_type": "stream",
     "text": [
      "WARNING:root:Some characters could not be decoded, and were replaced with REPLACEMENT CHARACTER.\n"
     ]
    },
    {
     "name": "stdout",
     "output_type": "stream",
     "text": [
      "url_i:  https://www.tdcj.texas.gov/death_row/dr_info/vegamartin.jpg\n",
      "url_w:  https://www.tdcj.texas.gov/death_row/dr_info/vegamartinlast.html\n"
     ]
    },
    {
     "name": "stderr",
     "output_type": "stream",
     "text": [
      "WARNING:root:Some characters could not be decoded, and were replaced with REPLACEMENT CHARACTER.\n"
     ]
    },
    {
     "name": "stdout",
     "output_type": "stream",
     "text": [
      "url_i:  https://www.tdcj.texas.gov/death_row/dr_info/farristroy.jpg\n",
      "url_w:  https://www.tdcj.texas.gov/death_row/dr_info/farristroylast.html\n"
     ]
    },
    {
     "name": "stderr",
     "output_type": "stream",
     "text": [
      "WARNING:root:Some characters could not be decoded, and were replaced with REPLACEMENT CHARACTER.\n"
     ]
    },
    {
     "name": "stdout",
     "output_type": "stream",
     "text": [
      "url_i:  https://www.tdcj.texas.gov/death_row/dr_info/moodyjohn.jpg\n",
      "url_w:  https://www.tdcj.texas.gov/death_row/dr_info/moodyjohnlast.html\n"
     ]
    },
    {
     "name": "stderr",
     "output_type": "stream",
     "text": [
      "WARNING:root:Some characters could not be decoded, and were replaced with REPLACEMENT CHARACTER.\n"
     ]
    },
    {
     "name": "stdout",
     "output_type": "stream",
     "text": [
      "url_i:  https://www.tdcj.texas.gov/death_row/dr_info/meanesjames.jpg\n",
      "url_w:  https://www.tdcj.texas.gov/death_row/dr_info/meanesjameslast.html\n"
     ]
    },
    {
     "name": "stderr",
     "output_type": "stream",
     "text": [
      "WARNING:root:Some characters could not be decoded, and were replaced with REPLACEMENT CHARACTER.\n"
     ]
    },
    {
     "name": "stdout",
     "output_type": "stream",
     "text": [
      "url_i:  https://www.tdcj.texas.gov/death_row/dr_info/emeryjeff.jpg\n",
      "url_w:  https://www.tdcj.texas.gov/death_row/dr_info/emeryjefflast.html\n"
     ]
    },
    {
     "name": "stderr",
     "output_type": "stream",
     "text": [
      "WARNING:root:Some characters could not be decoded, and were replaced with REPLACEMENT CHARACTER.\n"
     ]
    },
    {
     "name": "stdout",
     "output_type": "stream",
     "text": [
      "url_i:  https://www.tdcj.texas.gov/death_row/dr_info/corwindaniel.jpg\n",
      "url_w:  https://www.tdcj.texas.gov/death_row/dr_info/corwindaniellast.html\n"
     ]
    },
    {
     "name": "stderr",
     "output_type": "stream",
     "text": [
      "WARNING:root:Some characters could not be decoded, and were replaced with REPLACEMENT CHARACTER.\n"
     ]
    },
    {
     "name": "stdout",
     "output_type": "stream",
     "text": [
      "url_i:  https://www.tdcj.texas.gov/death_row/dr_info/mcduffkenneth.jpg\n",
      "url_w:  https://www.tdcj.texas.gov/death_row/dr_info/mcduffkennethlast.html\n"
     ]
    },
    {
     "name": "stderr",
     "output_type": "stream",
     "text": [
      "WARNING:root:Some characters could not be decoded, and were replaced with REPLACEMENT CHARACTER.\n"
     ]
    },
    {
     "name": "stdout",
     "output_type": "stream",
     "text": [
      "url_i:  https://www.tdcj.texas.gov/death_row/dr_info/noblesjohnathan.jpg\n",
      "url_w:  https://www.tdcj.texas.gov/death_row/dr_info/noblesjonathanlast.html\n"
     ]
    },
    {
     "name": "stderr",
     "output_type": "stream",
     "text": [
      "WARNING:root:Some characters could not be decoded, and were replaced with REPLACEMENT CHARACTER.\n"
     ]
    },
    {
     "name": "stdout",
     "output_type": "stream",
     "text": [
      "url_i:  https://www.tdcj.texas.gov/death_row/dr_info/cruzjavier.jpg\n",
      "url_w:  https://www.tdcj.texas.gov/death_row/dr_info/cruzjavierlast.html\n"
     ]
    },
    {
     "name": "stderr",
     "output_type": "stream",
     "text": [
      "WARNING:root:Some characters could not be decoded, and were replaced with REPLACEMENT CHARACTER.\n"
     ]
    },
    {
     "name": "stdout",
     "output_type": "stream",
     "text": [
      "url_i:  https://www.tdcj.texas.gov/death_row/dr_info/castillodavid.jpg\n",
      "url_w:  https://www.tdcj.texas.gov/death_row/dr_info/castillodavidlast.html\n"
     ]
    },
    {
     "name": "stderr",
     "output_type": "stream",
     "text": [
      "WARNING:root:Some characters could not be decoded, and were replaced with REPLACEMENT CHARACTER.\n"
     ]
    },
    {
     "name": "stdout",
     "output_type": "stream",
     "text": [
      "url_i:  https://www.tdcj.texas.gov/death_row/dr_info/teaguedelbert.jpg\n",
      "url_w:  https://www.tdcj.texas.gov/death_row/dr_info/teaguedelbertlast.html\n"
     ]
    },
    {
     "name": "stderr",
     "output_type": "stream",
     "text": [
      "WARNING:root:Some characters could not be decoded, and were replaced with REPLACEMENT CHARACTER.\n"
     ]
    },
    {
     "name": "stdout",
     "output_type": "stream",
     "text": [
      "url_i:  https://www.tdcj.texas.gov/death_row/dr_info/camachogenero.jpg\n",
      "url_w:  https://www.tdcj.texas.gov/death_row/dr_info/camachogenarolast.html\n"
     ]
    },
    {
     "name": "stderr",
     "output_type": "stream",
     "text": [
      "WARNING:root:Some characters could not be decoded, and were replaced with REPLACEMENT CHARACTER.\n"
     ]
    },
    {
     "name": "stdout",
     "output_type": "stream",
     "text": [
      "url_i:  https://www.tdcj.texas.gov/death_row/dr_info/narvaizleopoldo.jpg\n",
      "url_w:  https://www.tdcj.texas.gov/death_row/dr_info/no_last_statement.html\n"
     ]
    },
    {
     "name": "stderr",
     "output_type": "stream",
     "text": [
      "WARNING:root:Some characters could not be decoded, and were replaced with REPLACEMENT CHARACTER.\n"
     ]
    },
    {
     "name": "stdout",
     "output_type": "stream",
     "text": [
      "url_i:  https://www.tdcj.texas.gov/death_row/dr_info/pylesjohnny.jpg\n",
      "url_w:  https://www.tdcj.texas.gov/death_row/dr_info/pylesjohnnylast.html\n"
     ]
    },
    {
     "name": "stderr",
     "output_type": "stream",
     "text": [
      "WARNING:root:Some characters could not be decoded, and were replaced with REPLACEMENT CHARACTER.\n"
     ]
    },
    {
     "name": "stdout",
     "output_type": "stream",
     "text": [
      "url_i:  https://www.tdcj.texas.gov/death_row/dr_info/boggessclifford.html\n",
      "url_w:  https://www.tdcj.texas.gov/death_row/dr_info/boggesscliffordlast.html\n",
      "url_i:  https://www.tdcj.texas.gov/death_row/dr_info/munizpedro.jpg\n",
      "url_w:  https://www.tdcj.texas.gov/death_row/dr_info/munizpedrolast.html\n"
     ]
    },
    {
     "name": "stderr",
     "output_type": "stream",
     "text": [
      "WARNING:root:Some characters could not be decoded, and were replaced with REPLACEMENT CHARACTER.\n"
     ]
    },
    {
     "name": "stdout",
     "output_type": "stream",
     "text": [
      "url_i:  https://www.tdcj.texas.gov/death_row/dr_info/carterrobertanthony.jpg\n",
      "url_w:  https://www.tdcj.texas.gov/death_row/dr_info/carterrobertanthonylast.html\n"
     ]
    },
    {
     "name": "stderr",
     "output_type": "stream",
     "text": [
      "WARNING:root:Some characters could not be decoded, and were replaced with REPLACEMENT CHARACTER.\n"
     ]
    },
    {
     "name": "stdout",
     "output_type": "stream",
     "text": [
      "url_i:  https://www.tdcj.texas.gov/death_row/dr_info/mcfarlandfrank.jpg\n",
      "url_w:  https://www.tdcj.texas.gov/death_row/dr_info/mcfarlandfranklast.html\n"
     ]
    },
    {
     "name": "stderr",
     "output_type": "stream",
     "text": [
      "WARNING:root:Some characters could not be decoded, and were replaced with REPLACEMENT CHARACTER.\n"
     ]
    },
    {
     "name": "stdout",
     "output_type": "stream",
     "text": [
      "url_i:  https://www.tdcj.texas.gov/death_row/dr_info/goschlesley.jpg\n",
      "url_w:  https://www.tdcj.texas.gov/death_row/dr_info/no_last_statement.html\n"
     ]
    },
    {
     "name": "stderr",
     "output_type": "stream",
     "text": [
      "WARNING:root:Some characters could not be decoded, and were replaced with REPLACEMENT CHARACTER.\n"
     ]
    },
    {
     "name": "stdout",
     "output_type": "stream",
     "text": [
      "url_i:  https://www.tdcj.texas.gov/death_row/dr_info/cannonjoseph.jpg\n",
      "url_w:  https://www.tdcj.texas.gov/death_row/dr_info/cannonjosephlast.html\n"
     ]
    },
    {
     "name": "stderr",
     "output_type": "stream",
     "text": [
      "WARNING:root:Some characters could not be decoded, and were replaced with REPLACEMENT CHARACTER.\n"
     ]
    },
    {
     "name": "stdout",
     "output_type": "stream",
     "text": [
      "url_i:  https://www.tdcj.texas.gov/death_row/dr_info/hoguejerry.jpg\n",
      "url_w:  https://www.tdcj.texas.gov/death_row/dr_info/hoguejerrylast.html\n"
     ]
    },
    {
     "name": "stderr",
     "output_type": "stream",
     "text": [
      "WARNING:root:Some characters could not be decoded, and were replaced with REPLACEMENT CHARACTER.\n"
     ]
    },
    {
     "name": "stdout",
     "output_type": "stream",
     "text": [
      "url_i:  https://www.tdcj.texas.gov/death_row/dr_info/renfrosteven.jpg\n",
      "url_w:  https://www.tdcj.texas.gov/death_row/dr_info/renfrostevenlast.html\n"
     ]
    },
    {
     "name": "stderr",
     "output_type": "stream",
     "text": [
      "WARNING:root:Some characters could not be decoded, and were replaced with REPLACEMENT CHARACTER.\n"
     ]
    },
    {
     "name": "stdout",
     "output_type": "stream",
     "text": [
      "url_i:  https://www.tdcj.texas.gov/death_row/dr_info/tuckerkarla.jpg\n",
      "url_w:  https://www.tdcj.texas.gov/death_row/dr_info/tuckerkarlalast.html\n"
     ]
    },
    {
     "name": "stderr",
     "output_type": "stream",
     "text": [
      "WARNING:root:Some characters could not be decoded, and were replaced with REPLACEMENT CHARACTER.\n"
     ]
    },
    {
     "name": "stdout",
     "output_type": "stream",
     "text": [
      "url_i:  https://www.tdcj.texas.gov/death_row/dr_info/lockhartmichael.jpg\n",
      "url_w:  https://www.tdcj.texas.gov/death_row/dr_info/lockhartmichaellast.html\n"
     ]
    },
    {
     "name": "stderr",
     "output_type": "stream",
     "text": [
      "WARNING:root:Some characters could not be decoded, and were replaced with REPLACEMENT CHARACTER.\n"
     ]
    },
    {
     "name": "stdout",
     "output_type": "stream",
     "text": [
      "url_i:  https://www.tdcj.texas.gov/death_row/dr_info/livingstoncharlie.jpg\n",
      "url_w:  https://www.tdcj.texas.gov/death_row/dr_info/livingstoncharleslast.html\n"
     ]
    },
    {
     "name": "stderr",
     "output_type": "stream",
     "text": [
      "WARNING:root:Some characters could not be decoded, and were replaced with REPLACEMENT CHARACTER.\n"
     ]
    },
    {
     "name": "stdout",
     "output_type": "stream",
     "text": [
      "url_i:  https://www.tdcj.texas.gov/death_row/dr_info/sharpmichael.jpg\n",
      "url_w:  https://www.tdcj.texas.gov/death_row/dr_info/sharpmichaellast.html\n"
     ]
    },
    {
     "name": "stderr",
     "output_type": "stream",
     "text": [
      "WARNING:root:Some characters could not be decoded, and were replaced with REPLACEMENT CHARACTER.\n"
     ]
    },
    {
     "name": "stdout",
     "output_type": "stream",
     "text": [
      "url_i:  https://www.tdcj.texas.gov/death_row/dr_info/fulleraaron.jpg\n",
      "url_w:  https://www.tdcj.texas.gov/death_row/dr_info/fulleraaronlast.html\n"
     ]
    },
    {
     "name": "stderr",
     "output_type": "stream",
     "text": [
      "WARNING:root:Some characters could not be decoded, and were replaced with REPLACEMENT CHARACTER.\n"
     ]
    },
    {
     "name": "stdout",
     "output_type": "stream",
     "text": [
      "url_i:  https://www.tdcj.texas.gov/death_row/dr_info/lautiaua.jpg\n",
      "url_w:  https://www.tdcj.texas.gov/death_row/dr_info/lautiaualast.html\n"
     ]
    },
    {
     "name": "stderr",
     "output_type": "stream",
     "text": [
      "WARNING:root:Some characters could not be decoded, and were replaced with REPLACEMENT CHARACTER.\n"
     ]
    },
    {
     "name": "stdout",
     "output_type": "stream",
     "text": [
      "url_i:  https://www.tdcj.texas.gov/death_row/dr_info/ransomkenneth.jpg\n",
      "url_w:  https://www.tdcj.texas.gov/death_row/dr_info/ransomkennethlast.html\n"
     ]
    },
    {
     "name": "stderr",
     "output_type": "stream",
     "text": [
      "WARNING:root:Some characters could not be decoded, and were replaced with REPLACEMENT CHARACTER.\n"
     ]
    },
    {
     "name": "stdout",
     "output_type": "stream",
     "text": [
      "url_i:  https://www.tdcj.texas.gov/death_row/dr_info/greenricky.jpg\n",
      "url_w:  https://www.tdcj.texas.gov/death_row/dr_info/greenrickylast.html\n"
     ]
    },
    {
     "name": "stderr",
     "output_type": "stream",
     "text": [
      "WARNING:root:Some characters could not be decoded, and were replaced with REPLACEMENT CHARACTER.\n"
     ]
    },
    {
     "name": "stdout",
     "output_type": "stream",
     "text": [
      "url_i:  https://www.tdcj.texas.gov/death_row/dr_info/adanandusdwight.jpg\n",
      "url_w:  https://www.tdcj.texas.gov/death_row/dr_info/adanandusdwightlast.html\n"
     ]
    },
    {
     "name": "stderr",
     "output_type": "stream",
     "text": [
      "WARNING:root:Some characters could not be decoded, and were replaced with REPLACEMENT CHARACTER.\n"
     ]
    },
    {
     "name": "stdout",
     "output_type": "stream",
     "text": [
      "url_i:  https://www.tdcj.texas.gov/death_row/dr_info/cockrumjohn.jpg\n",
      "url_w:  https://www.tdcj.texas.gov/death_row/dr_info/cockrumjohnlast.html\n"
     ]
    },
    {
     "name": "stderr",
     "output_type": "stream",
     "text": [
      "WARNING:root:Some characters could not be decoded, and were replaced with REPLACEMENT CHARACTER.\n"
     ]
    },
    {
     "name": "stdout",
     "output_type": "stream",
     "text": [
      "url_i:  https://www.tdcj.texas.gov/death_row/dr_info/stonebenjamin.jpg\n",
      "url_w:  https://www.tdcj.texas.gov/death_row/dr_info/stonebenjaminlast.html\n"
     ]
    },
    {
     "name": "stderr",
     "output_type": "stream",
     "text": [
      "WARNING:root:Some characters could not be decoded, and were replaced with REPLACEMENT CHARACTER.\n"
     ]
    },
    {
     "name": "stdout",
     "output_type": "stream",
     "text": [
      "url_i:  https://www.tdcj.texas.gov/death_row/dr_info/turnerjessel.jpg\n",
      "url_w:  https://www.tdcj.texas.gov/death_row/dr_info/turnerjessellast.html\n"
     ]
    },
    {
     "name": "stderr",
     "output_type": "stream",
     "text": [
      "WARNING:root:Some characters could not be decoded, and were replaced with REPLACEMENT CHARACTER.\n"
     ]
    },
    {
     "name": "stdout",
     "output_type": "stream",
     "text": [
      "url_i:  https://www.tdcj.texas.gov/death_row/dr_info/davisjames.jpg\n",
      "url_w:  https://www.tdcj.texas.gov/death_row/dr_info/davisjameslast.html\n"
     ]
    },
    {
     "name": "stderr",
     "output_type": "stream",
     "text": [
      "WARNING:root:Some characters could not be decoded, and were replaced with REPLACEMENT CHARACTER.\n"
     ]
    },
    {
     "name": "stdout",
     "output_type": "stream",
     "text": [
      "url_i:  https://www.tdcj.texas.gov/death_row/dr_info/westrobert.jpg\n",
      "url_w:  https://www.tdcj.texas.gov/death_row/dr_info/westrobertlast.html\n"
     ]
    },
    {
     "name": "stderr",
     "output_type": "stream",
     "text": [
      "WARNING:root:Some characters could not be decoded, and were replaced with REPLACEMENT CHARACTER.\n"
     ]
    },
    {
     "name": "stdout",
     "output_type": "stream",
     "text": [
      "url_i:  https://www.tdcj.texas.gov/death_row/dr_info/montoyairineo.jpg\n",
      "url_w:  https://www.tdcj.texas.gov/death_row/dr_info/montoyairineolast.html\n"
     ]
    },
    {
     "name": "stderr",
     "output_type": "stream",
     "text": [
      "WARNING:root:Some characters could not be decoded, and were replaced with REPLACEMENT CHARACTER.\n"
     ]
    },
    {
     "name": "stdout",
     "output_type": "stream",
     "text": [
      "url_i:  https://www.tdcj.texas.gov/death_row/dr_info/johnsoneddie.jpg\n",
      "url_w:  https://www.tdcj.texas.gov/death_row/dr_info/johnsoneddielast.html\n"
     ]
    },
    {
     "name": "stderr",
     "output_type": "stream",
     "text": [
      "WARNING:root:Some characters could not be decoded, and were replaced with REPLACEMENT CHARACTER.\n"
     ]
    },
    {
     "name": "stdout",
     "output_type": "stream",
     "text": [
      "url_i:  https://www.tdcj.texas.gov/death_row/dr_info/stokerdavid.jpg\n",
      "url_w:  https://www.tdcj.texas.gov/death_row/dr_info/stokerdavidlast.html\n"
     ]
    },
    {
     "name": "stderr",
     "output_type": "stream",
     "text": [
      "WARNING:root:Some characters could not be decoded, and were replaced with REPLACEMENT CHARACTER.\n"
     ]
    },
    {
     "name": "stdout",
     "output_type": "stream",
     "text": [
      "url_i:  https://www.tdcj.texas.gov/death_row/dr_info/behringerearl.jpg\n",
      "url_w:  https://www.tdcj.texas.gov/death_row/dr_info/behringerearllast.html\n"
     ]
    },
    {
     "name": "stderr",
     "output_type": "stream",
     "text": [
      "WARNING:root:Some characters could not be decoded, and were replaced with REPLACEMENT CHARACTER.\n"
     ]
    },
    {
     "name": "stdout",
     "output_type": "stream",
     "text": [
      "url_i:  https://www.tdcj.texas.gov/death_row/dr_info/losadadavis.jpg\n",
      "url_w:  https://www.tdcj.texas.gov/death_row/dr_info/losadadavislast.html\n"
     ]
    },
    {
     "name": "stderr",
     "output_type": "stream",
     "text": [
      "WARNING:root:Some characters could not be decoded, and were replaced with REPLACEMENT CHARACTER.\n"
     ]
    },
    {
     "name": "stdout",
     "output_type": "stream",
     "text": [
      "url_i:  https://www.tdcj.texas.gov/death_row/dr_info/johnsondorsie.jpg\n",
      "url_w:  https://www.tdcj.texas.gov/death_row/dr_info/johnsondorsielast.html\n"
     ]
    },
    {
     "name": "stderr",
     "output_type": "stream",
     "text": [
      "WARNING:root:Some characters could not be decoded, and were replaced with REPLACEMENT CHARACTER.\n"
     ]
    },
    {
     "name": "stdout",
     "output_type": "stream",
     "text": [
      "url_i:  https://www.tdcj.texas.gov/death_row/dr_info/harriskenneth.jpg\n",
      "url_w:  https://www.tdcj.texas.gov/death_row/dr_info/harriskennethlast.html\n"
     ]
    },
    {
     "name": "stderr",
     "output_type": "stream",
     "text": [
      "WARNING:root:Some characters could not be decoded, and were replaced with REPLACEMENT CHARACTER.\n"
     ]
    },
    {
     "name": "stdout",
     "output_type": "stream",
     "text": [
      "url_i:  https://www.tdcj.texas.gov/death_row/dr_info/rogerspatrick.jpg\n",
      "url_w:  https://www.tdcj.texas.gov/death_row/dr_info/rogerspatricklast.html\n"
     ]
    },
    {
     "name": "stderr",
     "output_type": "stream",
     "text": [
      "WARNING:root:Some characters could not be decoded, and were replaced with REPLACEMENT CHARACTER.\n"
     ]
    },
    {
     "name": "stdout",
     "output_type": "stream",
     "text": [
      "url_i:  https://www.tdcj.texas.gov/death_row/dr_info/maddenrobert.jpg\n",
      "url_w:  https://www.tdcj.texas.gov/death_row/dr_info/maddenrobertlast.html\n"
     ]
    },
    {
     "name": "stderr",
     "output_type": "stream",
     "text": [
      "WARNING:root:Some characters could not be decoded, and were replaced with REPLACEMENT CHARACTER.\n"
     ]
    },
    {
     "name": "stdout",
     "output_type": "stream",
     "text": [
      "url_i:  https://www.tdcj.texas.gov/death_row/dr_info/whitelarry.jpg\n",
      "url_w:  https://www.tdcj.texas.gov/death_row/dr_info/whitelarrylast.html\n"
     ]
    },
    {
     "name": "stderr",
     "output_type": "stream",
     "text": [
      "WARNING:root:Some characters could not be decoded, and were replaced with REPLACEMENT CHARACTER.\n"
     ]
    },
    {
     "name": "stdout",
     "output_type": "stream",
     "text": [
      "url_i:  https://www.tdcj.texas.gov/death_row/dr_info/callinsbruce.jpg\n",
      "url_w:  https://www.tdcj.texas.gov/death_row/dr_info/callinsbrucelast.html\n"
     ]
    },
    {
     "name": "stderr",
     "output_type": "stream",
     "text": [
      "WARNING:root:Some characters could not be decoded, and were replaced with REPLACEMENT CHARACTER.\n"
     ]
    },
    {
     "name": "stdout",
     "output_type": "stream",
     "text": [
      "url_i:  https://www.tdcj.texas.gov/death_row/dr_info/lackeyclarence.jpg\n",
      "url_w:  https://www.tdcj.texas.gov/death_row/dr_info/lackeyclarencelast.html\n"
     ]
    },
    {
     "name": "stderr",
     "output_type": "stream",
     "text": [
      "WARNING:root:Some characters could not be decoded, and were replaced with REPLACEMENT CHARACTER.\n"
     ]
    },
    {
     "name": "stdout",
     "output_type": "stream",
     "text": [
      "url_i:  https://www.tdcj.texas.gov/death_row/dr_info/drinkardrichard.jpg\n",
      "url_w:  https://www.tdcj.texas.gov/death_row/dr_info/no_last_statement.html\n"
     ]
    },
    {
     "name": "stderr",
     "output_type": "stream",
     "text": [
      "WARNING:root:Some characters could not be decoded, and were replaced with REPLACEMENT CHARACTER.\n"
     ]
    },
    {
     "name": "stdout",
     "output_type": "stream",
     "text": [
      "url_i:  https://www.tdcj.texas.gov/death_row/dr_info/belyeuclifton.jpg\n",
      "url_w:  https://www.tdcj.texas.gov/death_row/dr_info/belyeucliftonlast.html\n"
     ]
    },
    {
     "name": "stderr",
     "output_type": "stream",
     "text": [
      "WARNING:root:Some characters could not be decoded, and were replaced with REPLACEMENT CHARACTER.\n"
     ]
    },
    {
     "name": "stdout",
     "output_type": "stream",
     "text": [
      "url_i:  https://www.tdcj.texas.gov/death_row/dr_info/westleyanthony.jpg\n",
      "url_w:  https://www.tdcj.texas.gov/death_row/dr_info/westleyanthonylast.html\n"
     ]
    },
    {
     "name": "stderr",
     "output_type": "stream",
     "text": [
      "WARNING:root:Some characters could not be decoded, and were replaced with REPLACEMENT CHARACTER.\n"
     ]
    },
    {
     "name": "stdout",
     "output_type": "stream",
     "text": [
      "url_i:  https://www.tdcj.texas.gov/death_row/dr_info/washingtonterry.jpg\n",
      "url_w:  https://www.tdcj.texas.gov/death_row/dr_info/no_last_statement.html\n"
     ]
    },
    {
     "name": "stderr",
     "output_type": "stream",
     "text": [
      "WARNING:root:Some characters could not be decoded, and were replaced with REPLACEMENT CHARACTER.\n"
     ]
    },
    {
     "name": "stdout",
     "output_type": "stream",
     "text": [
      "url_i:  https://www.tdcj.texas.gov/death_row/dr_info/baldreeernest.jpg\n",
      "url_w:  https://www.tdcj.texas.gov/death_row/dr_info/no_last_statement.html\n"
     ]
    },
    {
     "name": "stderr",
     "output_type": "stream",
     "text": [
      "WARNING:root:Some characters could not be decoded, and were replaced with REPLACEMENT CHARACTER.\n"
     ]
    },
    {
     "name": "stdout",
     "output_type": "stream",
     "text": [
      "url_i:  https://www.tdcj.texas.gov/death_row/dr_info/boylebenjamin.jpg\n",
      "url_w:  https://www.tdcj.texas.gov/death_row/dr_info/no_last_statement.html\n"
     ]
    },
    {
     "name": "stderr",
     "output_type": "stream",
     "text": [
      "WARNING:root:Some characters could not be decoded, and were replaced with REPLACEMENT CHARACTER.\n"
     ]
    },
    {
     "name": "stdout",
     "output_type": "stream",
     "text": [
      "url_i:  https://www.tdcj.texas.gov/death_row/dr_info/gentrykenneth.jpg\n",
      "url_w:  https://www.tdcj.texas.gov/death_row/dr_info/gentrykennethlast.html\n"
     ]
    },
    {
     "name": "stderr",
     "output_type": "stream",
     "text": [
      "WARNING:root:Some characters could not be decoded, and were replaced with REPLACEMENT CHARACTER.\n"
     ]
    },
    {
     "name": "stdout",
     "output_type": "stream",
     "text": [
      "url_i:  https://www.tdcj.texas.gov/death_row/dr_info/woodsbillyjoe.jpg\n",
      "url_w:  https://www.tdcj.texas.gov/death_row/dr_info/no_last_statement.html\n"
     ]
    },
    {
     "name": "stderr",
     "output_type": "stream",
     "text": [
      "WARNING:root:Some characters could not be decoded, and were replaced with REPLACEMENT CHARACTER.\n"
     ]
    },
    {
     "name": "stdout",
     "output_type": "stream",
     "text": [
      "url_i:  https://www.tdcj.texas.gov/death_row/dr_info/spencedavid.jpg\n",
      "url_w:  https://www.tdcj.texas.gov/death_row/dr_info/spencedavidlast.html\n"
     ]
    },
    {
     "name": "stderr",
     "output_type": "stream",
     "text": [
      "WARNING:root:Some characters could not be decoded, and were replaced with REPLACEMENT CHARACTER.\n"
     ]
    },
    {
     "name": "stdout",
     "output_type": "stream",
     "text": [
      "url_i:  https://www.tdcj.texas.gov/death_row/dr_info/hermandavid.jpg\n",
      "url_w:  https://www.tdcj.texas.gov/death_row/dr_info/hermandavidlast.html\n"
     ]
    },
    {
     "name": "stderr",
     "output_type": "stream",
     "text": [
      "WARNING:root:Some characters could not be decoded, and were replaced with REPLACEMENT CHARACTER.\n"
     ]
    },
    {
     "name": "stdout",
     "output_type": "stream",
     "text": [
      "url_i:  https://www.tdcj.texas.gov/death_row/dr_info/barefieldjohn.jpg\n",
      "url_w:  https://www.tdcj.texas.gov/death_row/dr_info/barefieldjohnlast.html\n"
     ]
    },
    {
     "name": "stderr",
     "output_type": "stream",
     "text": [
      "WARNING:root:Some characters could not be decoded, and were replaced with REPLACEMENT CHARACTER.\n"
     ]
    },
    {
     "name": "stdout",
     "output_type": "stream",
     "text": [
      "url_i:  https://www.tdcj.texas.gov/death_row/dr_info/brimagerichard.jpg\n",
      "url_w:  https://www.tdcj.texas.gov/death_row/dr_info/brimagerichardlast.html\n"
     ]
    },
    {
     "name": "stderr",
     "output_type": "stream",
     "text": [
      "WARNING:root:Some characters could not be decoded, and were replaced with REPLACEMENT CHARACTER.\n"
     ]
    },
    {
     "name": "stdout",
     "output_type": "stream",
     "text": [
      "url_i:  https://www.tdcj.texas.gov/death_row/dr_info/gonzalesjoe.jpg\n",
      "url_w:  https://www.tdcj.texas.gov/death_row/dr_info/gonzalesjoelast.html\n"
     ]
    },
    {
     "name": "stderr",
     "output_type": "stream",
     "text": [
      "WARNING:root:Some characters could not be decoded, and were replaced with REPLACEMENT CHARACTER.\n"
     ]
    },
    {
     "name": "stdout",
     "output_type": "stream",
     "text": [
      "url_i:  https://www.tdcj.texas.gov/death_row/dr_info/granvielkenneth.jpg\n",
      "url_w:  https://www.tdcj.texas.gov/death_row/dr_info/no_last_statement.html\n"
     ]
    },
    {
     "name": "stderr",
     "output_type": "stream",
     "text": [
      "WARNING:root:Some characters could not be decoded, and were replaced with REPLACEMENT CHARACTER.\n"
     ]
    },
    {
     "name": "stdout",
     "output_type": "stream",
     "text": [
      "url_i:  https://www.tdcj.texas.gov/death_row/dr_info/jenkinsleo.jpg\n",
      "url_w:  https://www.tdcj.texas.gov/death_row/dr_info/no_last_statement.html\n"
     ]
    },
    {
     "name": "stderr",
     "output_type": "stream",
     "text": [
      "WARNING:root:Some characters could not be decoded, and were replaced with REPLACEMENT CHARACTER.\n"
     ]
    },
    {
     "name": "stdout",
     "output_type": "stream",
     "text": [
      "url_i:  https://www.tdcj.texas.gov/death_row/dr_info/briddlejames.jpg\n",
      "url_w:  https://www.tdcj.texas.gov/death_row/dr_info/no_last_statement.html\n"
     ]
    },
    {
     "name": "stderr",
     "output_type": "stream",
     "text": [
      "WARNING:root:Some characters could not be decoded, and were replaced with REPLACEMENT CHARACTER.\n"
     ]
    },
    {
     "name": "stdout",
     "output_type": "stream",
     "text": [
      "url_i:  https://www.tdcj.texas.gov/death_row/dr_info/bandaesequel.jpg\n",
      "url_w:  https://www.tdcj.texas.gov/death_row/dr_info/no_last_statement.html\n"
     ]
    },
    {
     "name": "stderr",
     "output_type": "stream",
     "text": [
      "WARNING:root:Some characters could not be decoded, and were replaced with REPLACEMENT CHARACTER.\n"
     ]
    },
    {
     "name": "stdout",
     "output_type": "stream",
     "text": [
      "url_i:  https://www.tdcj.texas.gov/death_row/dr_info/vuonghai.jpg\n",
      "url_w:  https://www.tdcj.texas.gov/death_row/dr_info/vuonghailast.html\n"
     ]
    },
    {
     "name": "stderr",
     "output_type": "stream",
     "text": [
      "WARNING:root:Some characters could not be decoded, and were replaced with REPLACEMENT CHARACTER.\n"
     ]
    },
    {
     "name": "stdout",
     "output_type": "stream",
     "text": [
      "url_i:  https://www.tdcj.texas.gov/death_row/dr_info/amosbernard.jpg\n",
      "url_w:  https://www.tdcj.texas.gov/death_row/dr_info/no_last_statement.html\n"
     ]
    },
    {
     "name": "stderr",
     "output_type": "stream",
     "text": [
      "WARNING:root:Some characters could not be decoded, and were replaced with REPLACEMENT CHARACTER.\n"
     ]
    },
    {
     "name": "stdout",
     "output_type": "stream",
     "text": [
      "url_i:  https://www.tdcj.texas.gov/death_row/dr_info/laneharold.jpg\n",
      "url_w:  https://www.tdcj.texas.gov/death_row/dr_info/no_last_statement.html\n"
     ]
    },
    {
     "name": "stderr",
     "output_type": "stream",
     "text": [
      "WARNING:root:Some characters could not be decoded, and were replaced with REPLACEMENT CHARACTER.\n"
     ]
    },
    {
     "name": "stdout",
     "output_type": "stream",
     "text": [
      "url_i:  https://www.tdcj.texas.gov/death_row/dr_info/johnsoncarl.jpg\n",
      "url_w:  https://www.tdcj.texas.gov/death_row/dr_info/johnsoncarllast.html\n"
     ]
    },
    {
     "name": "stderr",
     "output_type": "stream",
     "text": [
      "WARNING:root:Some characters could not be decoded, and were replaced with REPLACEMENT CHARACTER.\n"
     ]
    },
    {
     "name": "stdout",
     "output_type": "stream",
     "text": [
      "url_i:  https://www.tdcj.texas.gov/death_row/dr_info/sattiewhitevernon.jpg\n",
      "url_w:  https://www.tdcj.texas.gov/death_row/dr_info/sattiewhitevernonlast.html\n"
     ]
    },
    {
     "name": "stderr",
     "output_type": "stream",
     "text": [
      "WARNING:root:Some characters could not be decoded, and were replaced with REPLACEMENT CHARACTER.\n"
     ]
    },
    {
     "name": "stdout",
     "output_type": "stream",
     "text": [
      "url_i:  https://www.tdcj.texas.gov/death_row/dr_info/hammondkarl.jpg\n",
      "url_w:  https://www.tdcj.texas.gov/death_row/dr_info/no_last_statement.html\n"
     ]
    },
    {
     "name": "stderr",
     "output_type": "stream",
     "text": [
      "WARNING:root:Some characters could not be decoded, and were replaced with REPLACEMENT CHARACTER.\n"
     ]
    },
    {
     "name": "stdout",
     "output_type": "stream",
     "text": [
      "url_i:  https://www.tdcj.texas.gov/death_row/dr_info/fearancejohn.jpg\n",
      "url_w:  https://www.tdcj.texas.gov/death_row/dr_info/fearancejohnlast.html\n"
     ]
    },
    {
     "name": "stderr",
     "output_type": "stream",
     "text": [
      "WARNING:root:Some characters could not be decoded, and were replaced with REPLACEMENT CHARACTER.\n"
     ]
    },
    {
     "name": "stdout",
     "output_type": "stream",
     "text": [
      "url_i:  https://www.tdcj.texas.gov/death_row/dr_info/allridgeronald.jpg\n",
      "url_w:  https://www.tdcj.texas.gov/death_row/dr_info/no_last_statement.html\n"
     ]
    },
    {
     "name": "stderr",
     "output_type": "stream",
     "text": [
      "WARNING:root:Some characters could not be decoded, and were replaced with REPLACEMENT CHARACTER.\n"
     ]
    },
    {
     "name": "stdout",
     "output_type": "stream",
     "text": [
      "url_i:  https://www.tdcj.texas.gov/death_row/dr_info/mannfletcher.jpg\n",
      "url_w:  https://www.tdcj.texas.gov/death_row/dr_info/mannfletcherlast.html\n"
     ]
    },
    {
     "name": "stderr",
     "output_type": "stream",
     "text": [
      "WARNING:root:Some characters could not be decoded, and were replaced with REPLACEMENT CHARACTER.\n"
     ]
    },
    {
     "name": "stdout",
     "output_type": "stream",
     "text": [
      "url_i:  https://www.tdcj.texas.gov/death_row/dr_info/maysnoble.jpg\n",
      "url_w:  https://www.tdcj.texas.gov/death_row/dr_info/no_last_statement.html\n"
     ]
    },
    {
     "name": "stderr",
     "output_type": "stream",
     "text": [
      "WARNING:root:Some characters could not be decoded, and were replaced with REPLACEMENT CHARACTER.\n"
     ]
    },
    {
     "name": "stdout",
     "output_type": "stream",
     "text": [
      "url_i:  https://www.tdcj.texas.gov/death_row/dr_info/hawkinssamuel.jpg\n",
      "url_w:  https://www.tdcj.texas.gov/death_row/dr_info/no_last_statement.html\n"
     ]
    },
    {
     "name": "stderr",
     "output_type": "stream",
     "text": [
      "WARNING:root:Some characters could not be decoded, and were replaced with REPLACEMENT CHARACTER.\n"
     ]
    },
    {
     "name": "stdout",
     "output_type": "stream",
     "text": [
      "url_i:  https://www.tdcj.texas.gov/death_row/dr_info/gardnerbilly.jpg\n",
      "url_w:  https://www.tdcj.texas.gov/death_row/dr_info/gardnerbillylast.html\n"
     ]
    },
    {
     "name": "stderr",
     "output_type": "stream",
     "text": [
      "WARNING:root:Some characters could not be decoded, and were replaced with REPLACEMENT CHARACTER.\n"
     ]
    },
    {
     "name": "stdout",
     "output_type": "stream",
     "text": [
      "url_i:  https://www.tdcj.texas.gov/death_row/dr_info/motleyjeffery.jpg\n",
      "url_w:  https://www.tdcj.texas.gov/death_row/dr_info/motleyjefferylast.html\n"
     ]
    },
    {
     "name": "stderr",
     "output_type": "stream",
     "text": [
      "WARNING:root:Some characters could not be decoded, and were replaced with REPLACEMENT CHARACTER.\n"
     ]
    },
    {
     "name": "stdout",
     "output_type": "stream",
     "text": [
      "url_i:  https://www.tdcj.texas.gov/death_row/dr_info/wiliamwillie.jpg\n",
      "url_w:  https://www.tdcj.texas.gov/death_row/dr_info/williamswillielast.html\n"
     ]
    },
    {
     "name": "stderr",
     "output_type": "stream",
     "text": [
      "WARNING:root:Some characters could not be decoded, and were replaced with REPLACEMENT CHARACTER.\n"
     ]
    },
    {
     "name": "stdout",
     "output_type": "stream",
     "text": [
      "url_i:  https://www.tdcj.texas.gov/death_row/dr_info/russellclifton.jpg\n",
      "url_w:  https://www.tdcj.texas.gov/death_row/dr_info/russellcliftonlast.html\n"
     ]
    },
    {
     "name": "stderr",
     "output_type": "stream",
     "text": [
      "WARNING:root:Some characters could not be decoded, and were replaced with REPLACEMENT CHARACTER.\n"
     ]
    },
    {
     "name": "stdout",
     "output_type": "stream",
     "text": [
      "url_i:  https://www.tdcj.texas.gov/death_row/dr_info/marquezmario.jpg\n",
      "url_w:  https://www.tdcj.texas.gov/death_row/dr_info/marquezmariolast.html\n"
     ]
    },
    {
     "name": "stderr",
     "output_type": "stream",
     "text": [
      "WARNING:root:Some characters could not be decoded, and were replaced with REPLACEMENT CHARACTER.\n"
     ]
    },
    {
     "name": "stdout",
     "output_type": "stream",
     "text": [
      "url_i:  https://www.tdcj.texas.gov/death_row/dr_info/jacobsjesse.jpg\n",
      "url_w:  https://www.tdcj.texas.gov/death_row/dr_info/jacobsjesselast.html\n"
     ]
    },
    {
     "name": "stderr",
     "output_type": "stream",
     "text": [
      "WARNING:root:Some characters could not be decoded, and were replaced with REPLACEMENT CHARACTER.\n"
     ]
    },
    {
     "name": "stdout",
     "output_type": "stream",
     "text": [
      "url_i:  https://www.tdcj.texas.gov/death_row/dr_info/kinnamonraymond.jpg\n",
      "url_w:  https://www.tdcj.texas.gov/death_row/dr_info/kinnamonraymondlast.html\n"
     ]
    },
    {
     "name": "stderr",
     "output_type": "stream",
     "text": [
      "WARNING:root:Some characters could not be decoded, and were replaced with REPLACEMENT CHARACTER.\n"
     ]
    },
    {
     "name": "stdout",
     "output_type": "stream",
     "text": [
      "url_i:  https://www.tdcj.texas.gov/death_row/dr_info/clarkherman.jpg\n",
      "url_w:  https://www.tdcj.texas.gov/death_row/dr_info/clarkhermanlast.html\n"
     ]
    },
    {
     "name": "stderr",
     "output_type": "stream",
     "text": [
      "WARNING:root:Some characters could not be decoded, and were replaced with REPLACEMENT CHARACTER.\n"
     ]
    },
    {
     "name": "stdout",
     "output_type": "stream",
     "text": [
      "url_i:  https://www.tdcj.texas.gov/death_row/dr_info/bridgewarren.jpg\n",
      "url_w:  https://www.tdcj.texas.gov/death_row/dr_info/bridgewarrenlast.html\n"
     ]
    },
    {
     "name": "stderr",
     "output_type": "stream",
     "text": [
      "WARNING:root:Some characters could not be decoded, and were replaced with REPLACEMENT CHARACTER.\n"
     ]
    },
    {
     "name": "stdout",
     "output_type": "stream",
     "text": [
      "url_i:  https://www.tdcj.texas.gov/death_row/dr_info/williamswalter.jpg\n",
      "url_w:  https://www.tdcj.texas.gov/death_row/dr_info/williamswalterlast.html\n"
     ]
    },
    {
     "name": "stderr",
     "output_type": "stream",
     "text": [
      "WARNING:root:Some characters could not be decoded, and were replaced with REPLACEMENT CHARACTER.\n"
     ]
    },
    {
     "name": "stdout",
     "output_type": "stream",
     "text": [
      "url_i:  https://www.tdcj.texas.gov/death_row/dr_info/lottgeorge.jpg\n",
      "url_w:  https://www.tdcj.texas.gov/death_row/dr_info/no_last_statement.html\n"
     ]
    },
    {
     "name": "stderr",
     "output_type": "stream",
     "text": [
      "WARNING:root:Some characters could not be decoded, and were replaced with REPLACEMENT CHARACTER.\n"
     ]
    },
    {
     "name": "stdout",
     "output_type": "stream",
     "text": [
      "url_i:  https://www.tdcj.texas.gov/death_row/dr_info/gutierrezjessie.jpg\n",
      "url_w:  https://www.tdcj.texas.gov/death_row/dr_info/gutierrezjessielast.html\n"
     ]
    },
    {
     "name": "stderr",
     "output_type": "stream",
     "text": [
      "WARNING:root:Some characters could not be decoded, and were replaced with REPLACEMENT CHARACTER.\n"
     ]
    },
    {
     "name": "stdout",
     "output_type": "stream",
     "text": [
      "url_i:  https://www.tdcj.texas.gov/death_row/dr_info/drewrobert.jpg\n",
      "url_w:  https://www.tdcj.texas.gov/death_row/dr_info/drewrobertlast.html\n"
     ]
    },
    {
     "name": "stderr",
     "output_type": "stream",
     "text": [
      "WARNING:root:Some characters could not be decoded, and were replaced with REPLACEMENT CHARACTER.\n"
     ]
    },
    {
     "name": "stdout",
     "output_type": "stream",
     "text": [
      "url_i:  https://www.tdcj.texas.gov/death_row/dr_info/crankdenton.jpg\n",
      "url_w:  https://www.tdcj.texas.gov/death_row/dr_info/crankdentonlast.html\n"
     ]
    },
    {
     "name": "stderr",
     "output_type": "stream",
     "text": [
      "WARNING:root:Some characters could not be decoded, and were replaced with REPLACEMENT CHARACTER.\n"
     ]
    },
    {
     "name": "stdout",
     "output_type": "stream",
     "text": [
      "url_i:  https://www.tdcj.texas.gov/death_row/dr_info/netherystephen.jpg\n",
      "url_w:  https://www.tdcj.texas.gov/death_row/dr_info/netherystephenlast.html\n"
     ]
    },
    {
     "name": "stderr",
     "output_type": "stream",
     "text": [
      "WARNING:root:Some characters could not be decoded, and were replaced with REPLACEMENT CHARACTER.\n"
     ]
    },
    {
     "name": "stdout",
     "output_type": "stream",
     "text": [
      "url_i:  https://www.tdcj.texas.gov/death_row/dr_info/rougeaupaul.jpg\n",
      "url_w:  https://www.tdcj.texas.gov/death_row/dr_info/no_last_statement.html\n"
     ]
    },
    {
     "name": "stderr",
     "output_type": "stream",
     "text": [
      "WARNING:root:Some characters could not be decoded, and were replaced with REPLACEMENT CHARACTER.\n"
     ]
    },
    {
     "name": "stdout",
     "output_type": "stream",
     "text": [
      "url_i:  https://www.tdcj.texas.gov/death_row/dr_info/andersonlarry.jpg\n",
      "url_w:  https://www.tdcj.texas.gov/death_row/dr_info/no_last_statement.html\n"
     ]
    },
    {
     "name": "stderr",
     "output_type": "stream",
     "text": [
      "WARNING:root:Some characters could not be decoded, and were replaced with REPLACEMENT CHARACTER.\n"
     ]
    },
    {
     "name": "stdout",
     "output_type": "stream",
     "text": [
      "url_i:  https://www.tdcj.texas.gov/death_row/dr_info/beaversrichard.jpg\n",
      "url_w:  https://www.tdcj.texas.gov/death_row/dr_info/no_last_statement.html\n"
     ]
    },
    {
     "name": "stderr",
     "output_type": "stream",
     "text": [
      "WARNING:root:Some characters could not be decoded, and were replaced with REPLACEMENT CHARACTER.\n"
     ]
    },
    {
     "name": "stdout",
     "output_type": "stream",
     "text": [
      "url_i:  https://www.tdcj.texas.gov/death_row/dr_info/webbfreddie.jpg\n",
      "url_w:  https://www.tdcj.texas.gov/death_row/dr_info/webbfreddielast.html\n"
     ]
    },
    {
     "name": "stderr",
     "output_type": "stream",
     "text": [
      "WARNING:root:Some characters could not be decoded, and were replaced with REPLACEMENT CHARACTER.\n"
     ]
    },
    {
     "name": "stdout",
     "output_type": "stream",
     "text": [
      "url_i:  https://www.tdcj.texas.gov/death_row/dr_info/barnardharold.jpg\n",
      "url_w:  https://www.tdcj.texas.gov/death_row/dr_info/barnardharoldlast.html\n"
     ]
    },
    {
     "name": "stderr",
     "output_type": "stream",
     "text": [
      "WARNING:root:Some characters could not be decoded, and were replaced with REPLACEMENT CHARACTER.\n"
     ]
    },
    {
     "name": "stdout",
     "output_type": "stream",
     "text": [
      "url_i:  https://www.tdcj.texas.gov/death_row/dr_info/phillipsclifford.jpg\n",
      "url_w:  https://www.tdcj.texas.gov/death_row/dr_info/phillipscliffordlast.html\n"
     ]
    },
    {
     "name": "stderr",
     "output_type": "stream",
     "text": [
      "WARNING:root:Some characters could not be decoded, and were replaced with REPLACEMENT CHARACTER.\n"
     ]
    },
    {
     "name": "stdout",
     "output_type": "stream",
     "text": [
      "url_i:  https://www.tdcj.texas.gov/death_row/dr_info/cookanthony.jpg\n",
      "url_w:  https://www.tdcj.texas.gov/death_row/dr_info/cookanthonylast.html\n"
     ]
    },
    {
     "name": "stderr",
     "output_type": "stream",
     "text": [
      "WARNING:root:Some characters could not be decoded, and were replaced with REPLACEMENT CHARACTER.\n"
     ]
    },
    {
     "name": "stdout",
     "output_type": "stream",
     "text": [
      "url_i:  https://www.tdcj.texas.gov/death_row/dr_info/bonhamanotnio.jpg\n",
      "url_w:  https://www.tdcj.texas.gov/death_row/dr_info/no_last_statement.html\n"
     ]
    },
    {
     "name": "stderr",
     "output_type": "stream",
     "text": [
      "WARNING:root:Some characters could not be decoded, and were replaced with REPLACEMENT CHARACTER.\n"
     ]
    },
    {
     "name": "stdout",
     "output_type": "stream",
     "text": [
      "url_i:  https://www.tdcj.texas.gov/death_row/dr_info/jamesjohnny.jpg\n",
      "url_w:  https://www.tdcj.texas.gov/death_row/dr_info/no_last_statement.html\n"
     ]
    },
    {
     "name": "stderr",
     "output_type": "stream",
     "text": [
      "WARNING:root:Some characters could not be decoded, and were replaced with REPLACEMENT CHARACTER.\n"
     ]
    },
    {
     "name": "stdout",
     "output_type": "stream",
     "text": [
      "url_i:  https://www.tdcj.texas.gov/death_row/dr_info/wilkersonrichard.jpg\n",
      "url_w:  https://www.tdcj.texas.gov/death_row/dr_info/wilkersonrichardlast.html\n"
     ]
    },
    {
     "name": "stderr",
     "output_type": "stream",
     "text": [
      "WARNING:root:Some characters could not be decoded, and were replaced with REPLACEMENT CHARACTER.\n"
     ]
    },
    {
     "name": "stdout",
     "output_type": "stream",
     "text": [
      "url_i:  https://www.tdcj.texas.gov/death_row/dr_info/canturuben.html\n",
      "url_w:  https://www.tdcj.texas.gov/death_row/dr_info/no_last_statement.html\n",
      "url_i:  https://www.tdcj.texas.gov/death_row/dr_info/kellycarl.jpg\n",
      "url_w:  https://www.tdcj.texas.gov/death_row/dr_info/kellycarllast.html\n"
     ]
    },
    {
     "name": "stderr",
     "output_type": "stream",
     "text": [
      "WARNING:root:Some characters could not be decoded, and were replaced with REPLACEMENT CHARACTER.\n"
     ]
    },
    {
     "name": "stdout",
     "output_type": "stream",
     "text": [
      "url_i:  https://www.tdcj.texas.gov/death_row/dr_info/hollanddavid.jpg\n",
      "url_w:  https://www.tdcj.texas.gov/death_row/dr_info/no_last_statement.html\n"
     ]
    },
    {
     "name": "stderr",
     "output_type": "stream",
     "text": [
      "WARNING:root:Some characters could not be decoded, and were replaced with REPLACEMENT CHARACTER.\n"
     ]
    },
    {
     "name": "stdout",
     "output_type": "stream",
     "text": [
      "url_i:  https://www.tdcj.texas.gov/death_row/dr_info/jerniganjoseph.jpg\n",
      "url_w:  https://www.tdcj.texas.gov/death_row/dr_info/no_last_statement.html\n"
     ]
    },
    {
     "name": "stderr",
     "output_type": "stream",
     "text": [
      "WARNING:root:Some characters could not be decoded, and were replaced with REPLACEMENT CHARACTER.\n"
     ]
    },
    {
     "name": "stdout",
     "output_type": "stream",
     "text": [
      "url_i:  https://www.tdcj.texas.gov/death_row/dr_info/harrisdanny.jpg\n",
      "url_w:  https://www.tdcj.texas.gov/death_row/dr_info/harrisdannylast.html\n"
     ]
    },
    {
     "name": "stderr",
     "output_type": "stream",
     "text": [
      "WARNING:root:Some characters could not be decoded, and were replaced with REPLACEMENT CHARACTER.\n"
     ]
    },
    {
     "name": "stdout",
     "output_type": "stream",
     "text": [
      "url_i:  https://www.tdcj.texas.gov/death_row/dr_info/harriscurtis.jpg\n",
      "url_w:  https://www.tdcj.texas.gov/death_row/dr_info/no_last_statement.html\n"
     ]
    },
    {
     "name": "stderr",
     "output_type": "stream",
     "text": [
      "WARNING:root:Some characters could not be decoded, and were replaced with REPLACEMENT CHARACTER.\n"
     ]
    },
    {
     "name": "stdout",
     "output_type": "stream",
     "text": [
      "url_i:  https://www.tdcj.texas.gov/death_row/dr_info/duffsmithmarkum.jpg\n",
      "url_w:  https://www.tdcj.texas.gov/death_row/dr_info/duffsmithmarkumlast.html\n"
     ]
    },
    {
     "name": "stderr",
     "output_type": "stream",
     "text": [
      "WARNING:root:Some characters could not be decoded, and were replaced with REPLACEMENT CHARACTER.\n"
     ]
    },
    {
     "name": "stdout",
     "output_type": "stream",
     "text": [
      "url_i:  https://www.tdcj.texas.gov/death_row/dr_info/sawyersjohn.jpg\n",
      "url_w:  https://www.tdcj.texas.gov/death_row/dr_info/no_last_statement.html\n"
     ]
    },
    {
     "name": "stderr",
     "output_type": "stream",
     "text": [
      "WARNING:root:Some characters could not be decoded, and were replaced with REPLACEMENT CHARACTER.\n"
     ]
    },
    {
     "name": "stdout",
     "output_type": "stream",
     "text": [
      "url_i:  https://www.tdcj.texas.gov/death_row/dr_info/herreraleonel.jpg\n",
      "url_w:  https://www.tdcj.texas.gov/death_row/dr_info/hererraleonellast.html\n"
     ]
    },
    {
     "name": "stderr",
     "output_type": "stream",
     "text": [
      "WARNING:root:Some characters could not be decoded, and were replaced with REPLACEMENT CHARACTER.\n"
     ]
    },
    {
     "name": "stdout",
     "output_type": "stream",
     "text": [
      "url_i:  https://www.tdcj.texas.gov/death_row/dr_info/stewartdarryl.jpg\n",
      "url_w:  https://www.tdcj.texas.gov/death_row/dr_info/no_last_statement.html\n"
     ]
    },
    {
     "name": "stderr",
     "output_type": "stream",
     "text": [
      "WARNING:root:Some characters could not be decoded, and were replaced with REPLACEMENT CHARACTER.\n"
     ]
    },
    {
     "name": "stdout",
     "output_type": "stream",
     "text": [
      "url_i:  https://www.tdcj.texas.gov/death_row/dr_info/montoyaramon.jpg\n",
      "url_w:  https://www.tdcj.texas.gov/death_row/dr_info/no_last_statement.html\n"
     ]
    },
    {
     "name": "stderr",
     "output_type": "stream",
     "text": [
      "WARNING:root:Some characters could not be decoded, and were replaced with REPLACEMENT CHARACTER.\n"
     ]
    },
    {
     "name": "stdout",
     "output_type": "stream",
     "text": [
      "url_i:  https://www.tdcj.texas.gov/death_row/dr_info/santanacarlos.jpg\n",
      "url_w:  https://www.tdcj.texas.gov/death_row/dr_info/no_last_statement.html\n"
     ]
    },
    {
     "name": "stderr",
     "output_type": "stream",
     "text": [
      "WARNING:root:Some characters could not be decoded, and were replaced with REPLACEMENT CHARACTER.\n"
     ]
    },
    {
     "name": "stdout",
     "output_type": "stream",
     "text": [
      "url_i:  https://www.tdcj.texas.gov/death_row/dr_info/no_info_available.html\n",
      "url_w:  https://www.tdcj.texas.gov/death_row/dr_info/no_last_statement.html\n",
      "url_i:  https://www.tdcj.texas.gov/death_row/dr_info/no_info_available.html\n",
      "url_w:  https://www.tdcj.texas.gov/death_row/dr_info/no_last_statement.html\n",
      "url_i:  https://www.tdcj.texas.gov/death_row/dr_info/demouchettejames.jpg\n",
      "url_w:  https://www.tdcj.texas.gov/death_row/dr_info/no_last_statement.html\n"
     ]
    },
    {
     "name": "stderr",
     "output_type": "stream",
     "text": [
      "WARNING:root:Some characters could not be decoded, and were replaced with REPLACEMENT CHARACTER.\n"
     ]
    },
    {
     "name": "stdout",
     "output_type": "stream",
     "text": [
      "url_i:  https://www.tdcj.texas.gov/death_row/dr_info/no_info_available.html\n",
      "url_w:  https://www.tdcj.texas.gov/death_row/dr_info/no_last_statement.html\n",
      "url_i:  https://www.tdcj.texas.gov/death_row/dr_info/no_info_available.html\n",
      "url_w:  https://www.tdcj.texas.gov/death_row/dr_info/blackrobertlast.html\n",
      "url_i:  https://www.tdcj.texas.gov/death_row/dr_info/romerojesus.jpg\n",
      "url_w:  https://www.tdcj.texas.gov/death_row/dr_info/romerojesuslast.html\n"
     ]
    },
    {
     "name": "stderr",
     "output_type": "stream",
     "text": [
      "WARNING:root:Some characters could not be decoded, and were replaced with REPLACEMENT CHARACTER.\n"
     ]
    },
    {
     "name": "stdout",
     "output_type": "stream",
     "text": [
      "url_i:  https://www.tdcj.texas.gov/death_row/dr_info/mayjustin.jpg\n",
      "url_w:  https://www.tdcj.texas.gov/death_row/dr_info/mayjustinlast.html\n"
     ]
    },
    {
     "name": "stderr",
     "output_type": "stream",
     "text": [
      "WARNING:root:Some characters could not be decoded, and were replaced with REPLACEMENT CHARACTER.\n"
     ]
    },
    {
     "name": "stdout",
     "output_type": "stream",
     "text": [
      "url_i:  https://www.tdcj.texas.gov/death_row/dr_info/whitebilly.jpg\n",
      "url_w:  https://www.tdcj.texas.gov/death_row/dr_info/no_last_statement.html\n"
     ]
    },
    {
     "name": "stderr",
     "output_type": "stream",
     "text": [
      "WARNING:root:Some characters could not be decoded, and were replaced with REPLACEMENT CHARACTER.\n"
     ]
    },
    {
     "name": "stdout",
     "output_type": "stream",
     "text": [
      "url_i:  https://www.tdcj.texas.gov/death_row/dr_info/ellisedward.jpg\n",
      "url_w:  https://www.tdcj.texas.gov/death_row/dr_info/ellisedwardlast.html\n"
     ]
    },
    {
     "name": "stderr",
     "output_type": "stream",
     "text": [
      "WARNING:root:Some characters could not be decoded, and were replaced with REPLACEMENT CHARACTER.\n"
     ]
    },
    {
     "name": "stdout",
     "output_type": "stream",
     "text": [
      "url_i:  https://www.tdcj.texas.gov/death_row/dr_info/clarkdavid.jpg\n",
      "url_w:  https://www.tdcj.texas.gov/death_row/dr_info/clarkdavidlast.html\n"
     ]
    },
    {
     "name": "stderr",
     "output_type": "stream",
     "text": [
      "WARNING:root:Some characters could not be decoded, and were replaced with REPLACEMENT CHARACTER.\n"
     ]
    },
    {
     "name": "stdout",
     "output_type": "stream",
     "text": [
      "url_i:  https://www.tdcj.texas.gov/death_row/dr_info/garrettjohnny.jpg\n",
      "url_w:  https://www.tdcj.texas.gov/death_row/dr_info/no_last_statement.html\n"
     ]
    },
    {
     "name": "stderr",
     "output_type": "stream",
     "text": [
      "WARNING:root:Some characters could not be decoded, and were replaced with REPLACEMENT CHARACTER.\n"
     ]
    },
    {
     "name": "stdout",
     "output_type": "stream",
     "text": [
      "url_i:  https://www.tdcj.texas.gov/death_row/dr_info/no_info_available.html\n",
      "url_w:  https://www.tdcj.texas.gov/death_row/dr_info/no_last_statement.html\n",
      "url_i:  https://www.tdcj.texas.gov/death_row/dr_info/greengw.jpg\n",
      "url_w:  https://www.tdcj.texas.gov/death_row/dr_info/greengwlast.html\n"
     ]
    },
    {
     "name": "stderr",
     "output_type": "stream",
     "text": [
      "WARNING:root:Some characters could not be decoded, and were replaced with REPLACEMENT CHARACTER.\n"
     ]
    },
    {
     "name": "stdout",
     "output_type": "stream",
     "text": [
      "url_i:  https://www.tdcj.texas.gov/death_row/dr_info/russelljames.jpg\n",
      "url_w:  https://www.tdcj.texas.gov/death_row/dr_info/russelljameslast.html\n"
     ]
    },
    {
     "name": "stderr",
     "output_type": "stream",
     "text": [
      "WARNING:root:Some characters could not be decoded, and were replaced with REPLACEMENT CHARACTER.\n"
     ]
    },
    {
     "name": "stdout",
     "output_type": "stream",
     "text": [
      "url_i:  https://www.tdcj.texas.gov/death_row/dr_info/no_info_available.html\n",
      "url_w:  https://www.tdcj.texas.gov/death_row/dr_info/birdjerrylast.html\n",
      "url_i:  https://www.tdcj.texas.gov/death_row/dr_info/cuevasignacio.jpg\n",
      "url_w:  https://www.tdcj.texas.gov/death_row/dr_info/cuevasignaciolast.html\n"
     ]
    },
    {
     "name": "stderr",
     "output_type": "stream",
     "text": [
      "WARNING:root:Some characters could not be decoded, and were replaced with REPLACEMENT CHARACTER.\n"
     ]
    },
    {
     "name": "stdout",
     "output_type": "stream",
     "text": [
      "url_i:  https://www.tdcj.texas.gov/death_row/dr_info/buxtonlawrence.jpg\n",
      "url_w:  https://www.tdcj.texas.gov/death_row/dr_info/buxtonlawrencelast.html\n"
     ]
    },
    {
     "name": "stderr",
     "output_type": "stream",
     "text": [
      "WARNING:root:Some characters could not be decoded, and were replaced with REPLACEMENT CHARACTER.\n"
     ]
    },
    {
     "name": "stdout",
     "output_type": "stream",
     "text": [
      "url_i:  https://www.tdcj.texas.gov/death_row/dr_info/derrickmikel.jpg\n",
      "url_w:  https://www.tdcj.texas.gov/death_row/dr_info/derrickmikellast.html\n"
     ]
    },
    {
     "name": "stderr",
     "output_type": "stream",
     "text": [
      "WARNING:root:Some characters could not be decoded, and were replaced with REPLACEMENT CHARACTER.\n"
     ]
    },
    {
     "name": "stdout",
     "output_type": "stream",
     "text": [
      "url_i:  https://www.tdcj.texas.gov/death_row/dr_info/smithjames.jpg\n",
      "url_w:  https://www.tdcj.texas.gov/death_row/dr_info/no_last_statement.html\n"
     ]
    },
    {
     "name": "stderr",
     "output_type": "stream",
     "text": [
      "WARNING:root:Some characters could not be decoded, and were replaced with REPLACEMENT CHARACTER.\n"
     ]
    },
    {
     "name": "stdout",
     "output_type": "stream",
     "text": [
      "url_i:  https://www.tdcj.texas.gov/death_row/dr_info/andersonjohnny.jpg\n",
      "url_w:  https://www.tdcj.texas.gov/death_row/dr_info/andersonjohnnylast.html\n"
     ]
    },
    {
     "name": "stderr",
     "output_type": "stream",
     "text": [
      "WARNING:root:Some characters could not be decoded, and were replaced with REPLACEMENT CHARACTER.\n"
     ]
    },
    {
     "name": "stdout",
     "output_type": "stream",
     "text": [
      "url_i:  https://www.tdcj.texas.gov/death_row/dr_info/butlerjerome.jpg\n",
      "url_w:  https://www.tdcj.texas.gov/death_row/dr_info/butlerjeromelast.html\n"
     ]
    },
    {
     "name": "stderr",
     "output_type": "stream",
     "text": [
      "WARNING:root:Some characters could not be decoded, and were replaced with REPLACEMENT CHARACTER.\n"
     ]
    },
    {
     "name": "stdout",
     "output_type": "stream",
     "text": [
      "url_i:  https://www.tdcj.texas.gov/death_row/dr_info/delunacarlos.jpg\n",
      "url_w:  https://www.tdcj.texas.gov/death_row/dr_info/delunacarloslast.html\n"
     ]
    },
    {
     "name": "stderr",
     "output_type": "stream",
     "text": [
      "WARNING:root:Some characters could not be decoded, and were replaced with REPLACEMENT CHARACTER.\n"
     ]
    },
    {
     "name": "stdout",
     "output_type": "stream",
     "text": [
      "url_i:  https://www.tdcj.texas.gov/death_row/dr_info/pasterjames.jpg\n",
      "url_w:  https://www.tdcj.texas.gov/death_row/dr_info/pasterjameslast.html\n"
     ]
    },
    {
     "name": "stderr",
     "output_type": "stream",
     "text": [
      "WARNING:root:Some characters could not be decoded, and were replaced with REPLACEMENT CHARACTER.\n"
     ]
    },
    {
     "name": "stdout",
     "output_type": "stream",
     "text": [
      "url_i:  https://www.tdcj.texas.gov/death_row/dr_info/mccoystephen.jpg\n",
      "url_w:  https://www.tdcj.texas.gov/death_row/dr_info/no_last_statement.html\n"
     ]
    },
    {
     "name": "stderr",
     "output_type": "stream",
     "text": [
      "WARNING:root:Some characters could not be decoded, and were replaced with REPLACEMENT CHARACTER.\n"
     ]
    },
    {
     "name": "stdout",
     "output_type": "stream",
     "text": [
      "url_i:  https://www.tdcj.texas.gov/death_row/dr_info/kingleon.jpg\n",
      "url_w:  https://www.tdcj.texas.gov/death_row/dr_info/kingleonlast.html\n"
     ]
    },
    {
     "name": "stderr",
     "output_type": "stream",
     "text": [
      "WARNING:root:Some characters could not be decoded, and were replaced with REPLACEMENT CHARACTER.\n"
     ]
    },
    {
     "name": "stdout",
     "output_type": "stream",
     "text": [
      "url_i:  https://www.tdcj.texas.gov/death_row/dr_info/landryraymond.jpg\n",
      "url_w:  https://www.tdcj.texas.gov/death_row/dr_info/no_last_statement.html\n"
     ]
    },
    {
     "name": "stderr",
     "output_type": "stream",
     "text": [
      "WARNING:root:Some characters could not be decoded, and were replaced with REPLACEMENT CHARACTER.\n"
     ]
    },
    {
     "name": "stdout",
     "output_type": "stream",
     "text": [
      "url_i:  https://www.tdcj.texas.gov/death_row/dr_info/franklindonald.jpg\n",
      "url_w:  https://www.tdcj.texas.gov/death_row/dr_info/no_last_statement.html\n"
     ]
    },
    {
     "name": "stderr",
     "output_type": "stream",
     "text": [
      "WARNING:root:Some characters could not be decoded, and were replaced with REPLACEMENT CHARACTER.\n"
     ]
    },
    {
     "name": "stdout",
     "output_type": "stream",
     "text": [
      "url_i:  https://www.tdcj.texas.gov/death_row/dr_info/streetmanrobert.jpg\n",
      "url_w:  https://www.tdcj.texas.gov/death_row/dr_info/no_last_statement.html\n"
     ]
    },
    {
     "name": "stderr",
     "output_type": "stream",
     "text": [
      "WARNING:root:Some characters could not be decoded, and were replaced with REPLACEMENT CHARACTER.\n"
     ]
    },
    {
     "name": "stdout",
     "output_type": "stream",
     "text": [
      "url_i:  https://www.tdcj.texas.gov/death_row/dr_info/starvaggijoseph.jpg\n",
      "url_w:  https://www.tdcj.texas.gov/death_row/dr_info/no_last_statement.html\n"
     ]
    },
    {
     "name": "stderr",
     "output_type": "stream",
     "text": [
      "WARNING:root:Some characters could not be decoded, and were replaced with REPLACEMENT CHARACTER.\n"
     ]
    },
    {
     "name": "stdout",
     "output_type": "stream",
     "text": [
      "url_i:  https://www.tdcj.texas.gov/death_row/dr_info/thompsonjohn.jpg\n",
      "url_w:  https://www.tdcj.texas.gov/death_row/dr_info/no_last_statement.html\n"
     ]
    },
    {
     "name": "stderr",
     "output_type": "stream",
     "text": [
      "WARNING:root:Some characters could not be decoded, and were replaced with REPLACEMENT CHARACTER.\n"
     ]
    },
    {
     "name": "stdout",
     "output_type": "stream",
     "text": [
      "url_i:  https://www.tdcj.texas.gov/death_row/dr_info/no_info_available.html\n",
      "url_w:  https://www.tdcj.texas.gov/death_row/dr_info/no_last_statement.html\n",
      "url_i:  https://www.tdcj.texas.gov/death_row/dr_info/williamsanthony.jpg\n",
      "url_w:  https://www.tdcj.texas.gov/death_row/dr_info/williamsanthonylast.html\n"
     ]
    },
    {
     "name": "stderr",
     "output_type": "stream",
     "text": [
      "WARNING:root:Some characters could not be decoded, and were replaced with REPLACEMENT CHARACTER.\n"
     ]
    },
    {
     "name": "stdout",
     "output_type": "stream",
     "text": [
      "url_i:  https://www.tdcj.texas.gov/death_row/dr_info/morenoeliseo.jpg\n",
      "url_w:  https://www.tdcj.texas.gov/death_row/dr_info/no_last_statement.html\n"
     ]
    },
    {
     "name": "stderr",
     "output_type": "stream",
     "text": [
      "WARNING:root:Some characters could not be decoded, and were replaced with REPLACEMENT CHARACTER.\n"
     ]
    },
    {
     "name": "stdout",
     "output_type": "stream",
     "text": [
      "url_i:  https://www.tdcj.texas.gov/death_row/dr_info/hernandezramonpedro667.html\n",
      "url_w:  https://www.tdcj.texas.gov/death_row/dr_info/no_last_statement.html\n",
      "url_i:  https://www.tdcj.texas.gov/death_row/dr_info/no_info_available.html\n",
      "url_w:  https://www.tdcj.texas.gov/death_row/dr_info/no_last_statement.html\n",
      "url_i:  https://www.tdcj.texas.gov/death_row/dr_info/evansmichael.jpg\n",
      "url_w:  https://www.tdcj.texas.gov/death_row/dr_info/evansmichaellast.html\n"
     ]
    },
    {
     "name": "stderr",
     "output_type": "stream",
     "text": [
      "WARNING:root:Some characters could not be decoded, and were replaced with REPLACEMENT CHARACTER.\n"
     ]
    },
    {
     "name": "stdout",
     "output_type": "stream",
     "text": [
      "url_i:  https://www.tdcj.texas.gov/death_row/dr_info/no_info_available.html\n",
      "url_w:  https://www.tdcj.texas.gov/death_row/dr_info/no_last_statement.html\n",
      "url_i:  https://www.tdcj.texas.gov/death_row/dr_info/smithlarry.jpg\n",
      "url_w:  https://www.tdcj.texas.gov/death_row/dr_info/smithlarrylast.html\n"
     ]
    },
    {
     "name": "stderr",
     "output_type": "stream",
     "text": [
      "WARNING:root:Some characters could not be decoded, and were replaced with REPLACEMENT CHARACTER.\n"
     ]
    },
    {
     "name": "stdout",
     "output_type": "stream",
     "text": [
      "url_i:  https://www.tdcj.texas.gov/death_row/dr_info/woollsrandy.jpg\n",
      "url_w:  https://www.tdcj.texas.gov/death_row/dr_info/woollsrandylast.html\n"
     ]
    },
    {
     "name": "stderr",
     "output_type": "stream",
     "text": [
      "WARNING:root:Some characters could not be decoded, and were replaced with REPLACEMENT CHARACTER.\n"
     ]
    },
    {
     "name": "stdout",
     "output_type": "stream",
     "text": [
      "url_i:  https://www.tdcj.texas.gov/death_row/dr_info/no_info_available.html\n",
      "url_w:  https://www.tdcj.texas.gov/death_row/dr_info/brockkennethlast.html\n",
      "url_i:  https://www.tdcj.texas.gov/death_row/dr_info/no_info_available.html\n",
      "url_w:  https://www.tdcj.texas.gov/death_row/dr_info/esquivelrudylast.html\n",
      "url_i:  https://www.tdcj.texas.gov/death_row/dr_info/pinkertonjay.jpg\n",
      "url_w:  https://www.tdcj.texas.gov/death_row/dr_info/pinkertonjaylast.html\n"
     ]
    },
    {
     "name": "stderr",
     "output_type": "stream",
     "text": [
      "WARNING:root:Some characters could not be decoded, and were replaced with REPLACEMENT CHARACTER.\n"
     ]
    },
    {
     "name": "stdout",
     "output_type": "stream",
     "text": [
      "url_i:  https://www.tdcj.texas.gov/death_row/dr_info/barneyjeffery.jpg\n",
      "url_w:  https://www.tdcj.texas.gov/death_row/dr_info/no_last_statement.html\n"
     ]
    },
    {
     "name": "stderr",
     "output_type": "stream",
     "text": [
      "WARNING:root:Some characters could not be decoded, and were replaced with REPLACEMENT CHARACTER.\n"
     ]
    },
    {
     "name": "stdout",
     "output_type": "stream",
     "text": [
      "url_i:  https://www.tdcj.texas.gov/death_row/dr_info/basscharles.jpg\n",
      "url_w:  https://www.tdcj.texas.gov/death_row/dr_info/basscharleslast.html\n"
     ]
    },
    {
     "name": "stderr",
     "output_type": "stream",
     "text": [
      "WARNING:root:Some characters could not be decoded, and were replaced with REPLACEMENT CHARACTER.\n"
     ]
    },
    {
     "name": "stdout",
     "output_type": "stream",
     "text": [
      "url_i:  https://www.tdcj.texas.gov/death_row/dr_info/rumbaugh.jpg\n",
      "url_w:  https://www.tdcj.texas.gov/death_row/dr_info/rumbaughcharleslast.html\n"
     ]
    },
    {
     "name": "stderr",
     "output_type": "stream",
     "text": [
      "WARNING:root:Some characters could not be decoded, and were replaced with REPLACEMENT CHARACTER.\n"
     ]
    },
    {
     "name": "stdout",
     "output_type": "stream",
     "text": [
      "url_i:  https://www.tdcj.texas.gov/death_row/dr_info/porterhenry.jpg\n",
      "url_w:  https://www.tdcj.texas.gov/death_row/dr_info/porterhenrylast.html\n"
     ]
    },
    {
     "name": "stderr",
     "output_type": "stream",
     "text": [
      "WARNING:root:Some characters could not be decoded, and were replaced with REPLACEMENT CHARACTER.\n"
     ]
    },
    {
     "name": "stdout",
     "output_type": "stream",
     "text": [
      "url_i:  https://www.tdcj.texas.gov/death_row/dr_info/miltoncharles.jpg\n",
      "url_w:  https://www.tdcj.texas.gov/death_row/dr_info/miltoncharleslast.html\n"
     ]
    },
    {
     "name": "stderr",
     "output_type": "stream",
     "text": [
      "WARNING:root:Some characters could not be decoded, and were replaced with REPLACEMENT CHARACTER.\n"
     ]
    },
    {
     "name": "stdout",
     "output_type": "stream",
     "text": [
      "url_i:  https://www.tdcj.texas.gov/death_row/dr_info/delarosajesse.jpg\n",
      "url_w:  https://www.tdcj.texas.gov/death_row/dr_info/no_last_statement.html\n"
     ]
    },
    {
     "name": "stderr",
     "output_type": "stream",
     "text": [
      "WARNING:root:Some characters could not be decoded, and were replaced with REPLACEMENT CHARACTER.\n"
     ]
    },
    {
     "name": "stdout",
     "output_type": "stream",
     "text": [
      "url_i:  https://www.tdcj.texas.gov/death_row/dr_info/morinstephen.jpg\n",
      "url_w:  https://www.tdcj.texas.gov/death_row/dr_info/morinstephenlast.html\n"
     ]
    },
    {
     "name": "stderr",
     "output_type": "stream",
     "text": [
      "WARNING:root:Some characters could not be decoded, and were replaced with REPLACEMENT CHARACTER.\n"
     ]
    },
    {
     "name": "stdout",
     "output_type": "stream",
     "text": [
      "url_i:  https://www.tdcj.texas.gov/death_row/dr_info/skillerndoyle.jpg\n",
      "url_w:  https://www.tdcj.texas.gov/death_row/dr_info/skillerndoylelast.html\n"
     ]
    },
    {
     "name": "stderr",
     "output_type": "stream",
     "text": [
      "WARNING:root:Some characters could not be decoded, and were replaced with REPLACEMENT CHARACTER.\n"
     ]
    },
    {
     "name": "stdout",
     "output_type": "stream",
     "text": [
      "url_i:  https://www.tdcj.texas.gov/death_row/dr_info/barefootthomas.jpg\n",
      "url_w:  https://www.tdcj.texas.gov/death_row/dr_info/barefootthomaslast.html\n"
     ]
    },
    {
     "name": "stderr",
     "output_type": "stream",
     "text": [
      "WARNING:root:Some characters could not be decoded, and were replaced with REPLACEMENT CHARACTER.\n"
     ]
    },
    {
     "name": "stdout",
     "output_type": "stream",
     "text": [
      "url_i:  https://www.tdcj.texas.gov/death_row/dr_info/obryanronald.jpg\n",
      "url_w:  https://www.tdcj.texas.gov/death_row/dr_info/obryanronaldlast.html\n"
     ]
    },
    {
     "name": "stderr",
     "output_type": "stream",
     "text": [
      "WARNING:root:Some characters could not be decoded, and were replaced with REPLACEMENT CHARACTER.\n"
     ]
    },
    {
     "name": "stdout",
     "output_type": "stream",
     "text": [
      "url_i:  https://www.tdcj.texas.gov/death_row/dr_info/autryjames.html\n",
      "url_w:  https://www.tdcj.texas.gov/death_row/dr_info/no_last_statement.html\n",
      "url_i:  https://www.tdcj.texas.gov/death_row/dr_info/brookscharlie.html\n",
      "url_w:  https://www.tdcj.texas.gov/death_row/dr_info/brookscharlielast.html\n"
     ]
    },
    {
     "data": {
      "text/html": [
       "<div>\n",
       "<style scoped>\n",
       "    .dataframe tbody tr th:only-of-type {\n",
       "        vertical-align: middle;\n",
       "    }\n",
       "\n",
       "    .dataframe tbody tr th {\n",
       "        vertical-align: top;\n",
       "    }\n",
       "\n",
       "    .dataframe thead th {\n",
       "        text-align: right;\n",
       "    }\n",
       "</style>\n",
       "<table border=\"1\" class=\"dataframe\">\n",
       "  <thead>\n",
       "    <tr style=\"text-align: right;\">\n",
       "      <th></th>\n",
       "      <th>Name</th>\n",
       "      <th>Ochoa, Abel Revill</th>\n",
       "      <th>Gardner, John</th>\n",
       "      <th>Runnels, Travis Trevino</th>\n",
       "      <th>Hall, Justen Grant</th>\n",
       "      <th>Sparks, Robert</th>\n",
       "      <th>Soliz, Mark Anthony</th>\n",
       "      <th>Crutsinger, Billy Jack</th>\n",
       "      <th>Larry Ray Swearingen</th>\n",
       "      <th>King, John William</th>\n",
       "      <th>...</th>\n",
       "      <th>nan</th>\n",
       "      <th>nan</th>\n",
       "      <th>nan</th>\n",
       "      <th>nan</th>\n",
       "      <th>nan</th>\n",
       "      <th>nan</th>\n",
       "      <th>nan</th>\n",
       "      <th>nan</th>\n",
       "      <th>Autry, James David</th>\n",
       "      <th>Brooks, Charlie Jr.</th>\n",
       "    </tr>\n",
       "  </thead>\n",
       "  <tbody>\n",
       "    <tr>\n",
       "      <th>0</th>\n",
       "      <td>Name</td>\n",
       "      <td>Ochoa, Abel Revill</td>\n",
       "      <td>Gardner, John</td>\n",
       "      <td>Runnels, Travis Trevino</td>\n",
       "      <td>Hall, Justen Grant</td>\n",
       "      <td>Sparks, Robert</td>\n",
       "      <td>Soliz, Mark Anthony</td>\n",
       "      <td>Crutsinger, Billy Jack</td>\n",
       "      <td>Larry Ray Swearingen</td>\n",
       "      <td>King, John William</td>\n",
       "      <td>...</td>\n",
       "      <td>NaN</td>\n",
       "      <td>NaN</td>\n",
       "      <td>NaN</td>\n",
       "      <td>NaN</td>\n",
       "      <td>NaN</td>\n",
       "      <td>NaN</td>\n",
       "      <td>NaN</td>\n",
       "      <td>NaN</td>\n",
       "      <td>Autry, James David</td>\n",
       "      <td>Brooks, Charlie Jr.</td>\n",
       "    </tr>\n",
       "    <tr>\n",
       "      <th>1</th>\n",
       "      <td>TDCJ Number</td>\n",
       "      <td>999450</td>\n",
       "      <td>999516</td>\n",
       "      <td>999505</td>\n",
       "      <td>999497</td>\n",
       "      <td>999542</td>\n",
       "      <td>999571</td>\n",
       "      <td>999459</td>\n",
       "      <td>999361</td>\n",
       "      <td>999295</td>\n",
       "      <td>...</td>\n",
       "      <td>NaN</td>\n",
       "      <td>NaN</td>\n",
       "      <td>NaN</td>\n",
       "      <td>NaN</td>\n",
       "      <td>NaN</td>\n",
       "      <td>NaN</td>\n",
       "      <td>NaN</td>\n",
       "      <td>NaN</td>\n",
       "      <td>670</td>\n",
       "      <td>592</td>\n",
       "    </tr>\n",
       "    <tr>\n",
       "      <th>2</th>\n",
       "      <td>Date of Birth</td>\n",
       "      <td>01/23/1973</td>\n",
       "      <td>01/03/1956</td>\n",
       "      <td>12/17/1972</td>\n",
       "      <td>06/16/1981</td>\n",
       "      <td>02/13/1974</td>\n",
       "      <td>01/27/1982</td>\n",
       "      <td>10/05/1954</td>\n",
       "      <td>5/21/1971</td>\n",
       "      <td>11/03/1974</td>\n",
       "      <td>...</td>\n",
       "      <td>NaN</td>\n",
       "      <td>NaN</td>\n",
       "      <td>NaN</td>\n",
       "      <td>NaN</td>\n",
       "      <td>NaN</td>\n",
       "      <td>NaN</td>\n",
       "      <td>NaN</td>\n",
       "      <td>NaN</td>\n",
       "      <td>9/27/1954</td>\n",
       "      <td>9/1/1942</td>\n",
       "    </tr>\n",
       "    <tr>\n",
       "      <th>3</th>\n",
       "      <td>Date Received</td>\n",
       "      <td>05/15/2003</td>\n",
       "      <td>11/20/2006</td>\n",
       "      <td>11/18/2005</td>\n",
       "      <td>05/11/2005</td>\n",
       "      <td>01/08/2009</td>\n",
       "      <td>03/28/2012</td>\n",
       "      <td>10/08/2003</td>\n",
       "      <td>7/12/2000</td>\n",
       "      <td>02/25/1999</td>\n",
       "      <td>...</td>\n",
       "      <td>NaN</td>\n",
       "      <td>NaN</td>\n",
       "      <td>NaN</td>\n",
       "      <td>NaN</td>\n",
       "      <td>NaN</td>\n",
       "      <td>NaN</td>\n",
       "      <td>NaN</td>\n",
       "      <td>NaN</td>\n",
       "      <td>10/10/1980</td>\n",
       "      <td>4/25/1978</td>\n",
       "    </tr>\n",
       "    <tr>\n",
       "      <th>4</th>\n",
       "      <td>Age (when Received)</td>\n",
       "      <td>30</td>\n",
       "      <td>50</td>\n",
       "      <td>32</td>\n",
       "      <td>23</td>\n",
       "      <td>34</td>\n",
       "      <td>30</td>\n",
       "      <td>49</td>\n",
       "      <td>29</td>\n",
       "      <td>24</td>\n",
       "      <td>...</td>\n",
       "      <td>NaN</td>\n",
       "      <td>NaN</td>\n",
       "      <td>NaN</td>\n",
       "      <td>NaN</td>\n",
       "      <td>NaN</td>\n",
       "      <td>NaN</td>\n",
       "      <td>NaN</td>\n",
       "      <td>NaN</td>\n",
       "      <td>26</td>\n",
       "      <td>35</td>\n",
       "    </tr>\n",
       "    <tr>\n",
       "      <th>5</th>\n",
       "      <td>Education Level (Highest Grade Completed)</td>\n",
       "      <td>12</td>\n",
       "      <td>12</td>\n",
       "      <td>11</td>\n",
       "      <td>9</td>\n",
       "      <td>8</td>\n",
       "      <td>8</td>\n",
       "      <td>11</td>\n",
       "      <td>11</td>\n",
       "      <td>10</td>\n",
       "      <td>...</td>\n",
       "      <td>NaN</td>\n",
       "      <td>NaN</td>\n",
       "      <td>NaN</td>\n",
       "      <td>NaN</td>\n",
       "      <td>NaN</td>\n",
       "      <td>NaN</td>\n",
       "      <td>NaN</td>\n",
       "      <td>NaN</td>\n",
       "      <td>6</td>\n",
       "      <td>12</td>\n",
       "    </tr>\n",
       "    <tr>\n",
       "      <th>6</th>\n",
       "      <td>Date of Offense</td>\n",
       "      <td>08/04/2002</td>\n",
       "      <td>01/23/2005</td>\n",
       "      <td>01/29/2003</td>\n",
       "      <td>10/28/2002</td>\n",
       "      <td>09/15/2007</td>\n",
       "      <td>06/29/2010</td>\n",
       "      <td>04/06/2003</td>\n",
       "      <td>12/8/1998</td>\n",
       "      <td>06/07/1998</td>\n",
       "      <td>...</td>\n",
       "      <td>NaN</td>\n",
       "      <td>NaN</td>\n",
       "      <td>NaN</td>\n",
       "      <td>NaN</td>\n",
       "      <td>NaN</td>\n",
       "      <td>NaN</td>\n",
       "      <td>NaN</td>\n",
       "      <td>NaN</td>\n",
       "      <td>4/20/1980</td>\n",
       "      <td>12/14/1976</td>\n",
       "    </tr>\n",
       "    <tr>\n",
       "      <th>7</th>\n",
       "      <td>Age (at the time of Offense)</td>\n",
       "      <td>29</td>\n",
       "      <td>49</td>\n",
       "      <td>30</td>\n",
       "      <td>21</td>\n",
       "      <td>33</td>\n",
       "      <td>28</td>\n",
       "      <td>48</td>\n",
       "      <td>27</td>\n",
       "      <td>23</td>\n",
       "      <td>...</td>\n",
       "      <td>NaN</td>\n",
       "      <td>NaN</td>\n",
       "      <td>NaN</td>\n",
       "      <td>NaN</td>\n",
       "      <td>NaN</td>\n",
       "      <td>NaN</td>\n",
       "      <td>NaN</td>\n",
       "      <td>NaN</td>\n",
       "      <td>25</td>\n",
       "      <td>34</td>\n",
       "    </tr>\n",
       "    <tr>\n",
       "      <th>8</th>\n",
       "      <td>County</td>\n",
       "      <td>Dallas</td>\n",
       "      <td>Collin</td>\n",
       "      <td>Potter</td>\n",
       "      <td>El Paso</td>\n",
       "      <td>Dallas</td>\n",
       "      <td>Johnson</td>\n",
       "      <td>Tarrant</td>\n",
       "      <td>Montgomery</td>\n",
       "      <td>Jasper</td>\n",
       "      <td>...</td>\n",
       "      <td>NaN</td>\n",
       "      <td>NaN</td>\n",
       "      <td>NaN</td>\n",
       "      <td>NaN</td>\n",
       "      <td>NaN</td>\n",
       "      <td>NaN</td>\n",
       "      <td>NaN</td>\n",
       "      <td>NaN</td>\n",
       "      <td>Jefferson</td>\n",
       "      <td>Tarrant</td>\n",
       "    </tr>\n",
       "    <tr>\n",
       "      <th>9</th>\n",
       "      <td>Race</td>\n",
       "      <td>Hispanic</td>\n",
       "      <td>White</td>\n",
       "      <td>Black</td>\n",
       "      <td>White</td>\n",
       "      <td>Black</td>\n",
       "      <td>Hispanic</td>\n",
       "      <td>White</td>\n",
       "      <td>White</td>\n",
       "      <td>White</td>\n",
       "      <td>...</td>\n",
       "      <td>NaN</td>\n",
       "      <td>NaN</td>\n",
       "      <td>NaN</td>\n",
       "      <td>NaN</td>\n",
       "      <td>NaN</td>\n",
       "      <td>NaN</td>\n",
       "      <td>NaN</td>\n",
       "      <td>NaN</td>\n",
       "      <td>White</td>\n",
       "      <td>Black</td>\n",
       "    </tr>\n",
       "    <tr>\n",
       "      <th>10</th>\n",
       "      <td>Gender</td>\n",
       "      <td>Male</td>\n",
       "      <td>Male</td>\n",
       "      <td>Male</td>\n",
       "      <td>Male</td>\n",
       "      <td>Male</td>\n",
       "      <td>Male</td>\n",
       "      <td>Male</td>\n",
       "      <td>Male</td>\n",
       "      <td>Male</td>\n",
       "      <td>...</td>\n",
       "      <td>NaN</td>\n",
       "      <td>NaN</td>\n",
       "      <td>NaN</td>\n",
       "      <td>NaN</td>\n",
       "      <td>NaN</td>\n",
       "      <td>NaN</td>\n",
       "      <td>NaN</td>\n",
       "      <td>NaN</td>\n",
       "      <td>Male</td>\n",
       "      <td>Male</td>\n",
       "    </tr>\n",
       "    <tr>\n",
       "      <th>11</th>\n",
       "      <td>Hair Color</td>\n",
       "      <td>Black</td>\n",
       "      <td>Brown</td>\n",
       "      <td>Black</td>\n",
       "      <td>Brown</td>\n",
       "      <td>Black</td>\n",
       "      <td>Black</td>\n",
       "      <td>Gray</td>\n",
       "      <td>Brown</td>\n",
       "      <td>Brown</td>\n",
       "      <td>...</td>\n",
       "      <td>NaN</td>\n",
       "      <td>NaN</td>\n",
       "      <td>NaN</td>\n",
       "      <td>NaN</td>\n",
       "      <td>NaN</td>\n",
       "      <td>NaN</td>\n",
       "      <td>NaN</td>\n",
       "      <td>NaN</td>\n",
       "      <td>Brown</td>\n",
       "      <td>Black</td>\n",
       "    </tr>\n",
       "    <tr>\n",
       "      <th>12</th>\n",
       "      <td>Height (in Feet and Inches)</td>\n",
       "      <td>5′ 6″</td>\n",
       "      <td>6′ 0″</td>\n",
       "      <td>6′ 0″</td>\n",
       "      <td>6′5″</td>\n",
       "      <td>5′ 7″</td>\n",
       "      <td>5′ 5″</td>\n",
       "      <td>5′ 9″</td>\n",
       "      <td>5′ 10″</td>\n",
       "      <td>5′ 9″</td>\n",
       "      <td>...</td>\n",
       "      <td>NaN</td>\n",
       "      <td>NaN</td>\n",
       "      <td>NaN</td>\n",
       "      <td>NaN</td>\n",
       "      <td>NaN</td>\n",
       "      <td>NaN</td>\n",
       "      <td>NaN</td>\n",
       "      <td>NaN</td>\n",
       "      <td>5′ 8″</td>\n",
       "      <td>5′ 9″</td>\n",
       "    </tr>\n",
       "    <tr>\n",
       "      <th>13</th>\n",
       "      <td>Weight (in Pounds)</td>\n",
       "      <td>182</td>\n",
       "      <td>190 lbs</td>\n",
       "      <td>208</td>\n",
       "      <td>197</td>\n",
       "      <td>247</td>\n",
       "      <td>177</td>\n",
       "      <td>217</td>\n",
       "      <td>194</td>\n",
       "      <td>198</td>\n",
       "      <td>...</td>\n",
       "      <td>NaN</td>\n",
       "      <td>NaN</td>\n",
       "      <td>NaN</td>\n",
       "      <td>NaN</td>\n",
       "      <td>NaN</td>\n",
       "      <td>NaN</td>\n",
       "      <td>NaN</td>\n",
       "      <td>NaN</td>\n",
       "      <td>137</td>\n",
       "      <td>150</td>\n",
       "    </tr>\n",
       "    <tr>\n",
       "      <th>14</th>\n",
       "      <td>Eye Color</td>\n",
       "      <td>Brown</td>\n",
       "      <td>Blue</td>\n",
       "      <td>Brown</td>\n",
       "      <td>Hazel</td>\n",
       "      <td>Brown</td>\n",
       "      <td>Brown</td>\n",
       "      <td>Green</td>\n",
       "      <td>Blue</td>\n",
       "      <td>Brown</td>\n",
       "      <td>...</td>\n",
       "      <td>NaN</td>\n",
       "      <td>NaN</td>\n",
       "      <td>NaN</td>\n",
       "      <td>NaN</td>\n",
       "      <td>NaN</td>\n",
       "      <td>NaN</td>\n",
       "      <td>NaN</td>\n",
       "      <td>NaN</td>\n",
       "      <td>Brown</td>\n",
       "      <td>mar (according to DPS records)</td>\n",
       "    </tr>\n",
       "    <tr>\n",
       "      <th>15</th>\n",
       "      <td>Native County</td>\n",
       "      <td>Vicente Guerrero</td>\n",
       "      <td>Forest</td>\n",
       "      <td>Dallas</td>\n",
       "      <td>El Paso</td>\n",
       "      <td>Dallas</td>\n",
       "      <td>Tarrant</td>\n",
       "      <td>Tarrant</td>\n",
       "      <td>Montgomery</td>\n",
       "      <td>Atlanta</td>\n",
       "      <td>...</td>\n",
       "      <td>NaN</td>\n",
       "      <td>NaN</td>\n",
       "      <td>NaN</td>\n",
       "      <td>NaN</td>\n",
       "      <td>NaN</td>\n",
       "      <td>NaN</td>\n",
       "      <td>NaN</td>\n",
       "      <td>NaN</td>\n",
       "      <td>Potter</td>\n",
       "      <td>Tarrant</td>\n",
       "    </tr>\n",
       "    <tr>\n",
       "      <th>16</th>\n",
       "      <td>Native State</td>\n",
       "      <td>Durango, Mexico</td>\n",
       "      <td>Mississippi</td>\n",
       "      <td>Texas</td>\n",
       "      <td>Texas</td>\n",
       "      <td>Texas</td>\n",
       "      <td>Texas</td>\n",
       "      <td>Texas</td>\n",
       "      <td>Texas</td>\n",
       "      <td>Georgia</td>\n",
       "      <td>...</td>\n",
       "      <td>NaN</td>\n",
       "      <td>NaN</td>\n",
       "      <td>NaN</td>\n",
       "      <td>NaN</td>\n",
       "      <td>NaN</td>\n",
       "      <td>NaN</td>\n",
       "      <td>NaN</td>\n",
       "      <td>NaN</td>\n",
       "      <td>Texas</td>\n",
       "      <td>Texas</td>\n",
       "    </tr>\n",
       "    <tr>\n",
       "      <th>17</th>\n",
       "      <td>Prior Occupation</td>\n",
       "      <td>Heavy  Equipment Operator/Laborer</td>\n",
       "      <td>Painter</td>\n",
       "      <td>Laborer</td>\n",
       "      <td>Laborer</td>\n",
       "      <td>Machine  Operator</td>\n",
       "      <td>Cabinet maker</td>\n",
       "      <td>Laborer</td>\n",
       "      <td>electrician,  mechanic, laborer</td>\n",
       "      <td>carpenter,  laborer</td>\n",
       "      <td>...</td>\n",
       "      <td>NaN</td>\n",
       "      <td>NaN</td>\n",
       "      <td>NaN</td>\n",
       "      <td>NaN</td>\n",
       "      <td>NaN</td>\n",
       "      <td>NaN</td>\n",
       "      <td>NaN</td>\n",
       "      <td>NaN</td>\n",
       "      <td>Laborer</td>\n",
       "      <td>Laborer</td>\n",
       "    </tr>\n",
       "    <tr>\n",
       "      <th>18</th>\n",
       "      <td>Prior Prison Record</td>\n",
       "      <td>None</td>\n",
       "      <td>MS  Dept of Corrections #55484 on an eight yea...</td>\n",
       "      <td>TDCJ#  081244 on a five-year sentence for burg...</td>\n",
       "      <td>TDCJ#  914053 on a 2 year sentence from El    ...</td>\n",
       "      <td>TDCJ  #592340 on a twelve year sentence for ag...</td>\n",
       "      <td>#925766 - Theft; #1060195 - Unauthorized Use o...</td>\n",
       "      <td>#1014350 - On a one-year sentence from Cochran...</td>\n",
       "      <td>#758150 – On a two-year sentence for one count...</td>\n",
       "      <td>TDCJ-ID  #624420, 10-year sentence for one cou...</td>\n",
       "      <td>...</td>\n",
       "      <td>NaN</td>\n",
       "      <td>NaN</td>\n",
       "      <td>NaN</td>\n",
       "      <td>NaN</td>\n",
       "      <td>NaN</td>\n",
       "      <td>NaN</td>\n",
       "      <td>NaN</td>\n",
       "      <td>NaN</td>\n",
       "      <td>5  year sentence for Assault and Attempted Rob...</td>\n",
       "      <td>Federal  Prison, Leavenworth,  Illegal Possess...</td>\n",
       "    </tr>\n",
       "    <tr>\n",
       "      <th>19</th>\n",
       "      <td>Summary of Incident</td>\n",
       "      <td>On  August 4, 2002, in Dallas, Texas, Ochoa fa...</td>\n",
       "      <td>On  January 23, 2005 in Collin County, Gardner...</td>\n",
       "      <td>On  January 29, 2003, in Potter   County, whil...</td>\n",
       "      <td>On  October 28, 2002, in El Paso County,   Tex...</td>\n",
       "      <td>On  September 15, 2007, in Dallas, Texas, the ...</td>\n",
       "      <td>Subject and codefendant knocked on the victim'...</td>\n",
       "      <td>On April 6, 2003, in Fort Worth, Texas, Crutsi...</td>\n",
       "      <td>On December 8, 1998, Swearingen kidnapped and ...</td>\n",
       "      <td>On  06/07/98, during the nighttime hours, the ...</td>\n",
       "      <td>...</td>\n",
       "      <td>NaN</td>\n",
       "      <td>NaN</td>\n",
       "      <td>NaN</td>\n",
       "      <td>NaN</td>\n",
       "      <td>NaN</td>\n",
       "      <td>NaN</td>\n",
       "      <td>NaN</td>\n",
       "      <td>NaN</td>\n",
       "      <td>On  April 20, 1980, Autry shot a 43 year old f...</td>\n",
       "      <td>Brooks  went to a car lot under the pretense o...</td>\n",
       "    </tr>\n",
       "    <tr>\n",
       "      <th>20</th>\n",
       "      <td>Co-Defendants</td>\n",
       "      <td>None</td>\n",
       "      <td>None</td>\n",
       "      <td>None</td>\n",
       "      <td>None</td>\n",
       "      <td>None</td>\n",
       "      <td>Jose Claremont Ramos, Jr.</td>\n",
       "      <td>None</td>\n",
       "      <td>None</td>\n",
       "      <td>Berry, Shawn; Brewer,  Lawrence Russell</td>\n",
       "      <td>...</td>\n",
       "      <td>NaN</td>\n",
       "      <td>NaN</td>\n",
       "      <td>NaN</td>\n",
       "      <td>NaN</td>\n",
       "      <td>NaN</td>\n",
       "      <td>NaN</td>\n",
       "      <td>NaN</td>\n",
       "      <td>NaN</td>\n",
       "      <td>John  Alton Sandifer</td>\n",
       "      <td>Woody  Loudres</td>\n",
       "    </tr>\n",
       "    <tr>\n",
       "      <th>21</th>\n",
       "      <td>Race and Gender of Victim</td>\n",
       "      <td>Four Hispanic Females;  One Hispanic Male</td>\n",
       "      <td>White  Female</td>\n",
       "      <td>White  male</td>\n",
       "      <td>Unknown  Female</td>\n",
       "      <td>Black  female; two black males.</td>\n",
       "      <td>White female</td>\n",
       "      <td>White female; White female</td>\n",
       "      <td>White  female</td>\n",
       "      <td>Black  male</td>\n",
       "      <td>...</td>\n",
       "      <td>NaN</td>\n",
       "      <td>NaN</td>\n",
       "      <td>NaN</td>\n",
       "      <td>NaN</td>\n",
       "      <td>NaN</td>\n",
       "      <td>NaN</td>\n",
       "      <td>NaN</td>\n",
       "      <td>NaN</td>\n",
       "      <td>female</td>\n",
       "      <td>White  Male</td>\n",
       "    </tr>\n",
       "    <tr>\n",
       "      <th>22</th>\n",
       "      <td>Date of Execution</td>\n",
       "      <td>February 6, 2020</td>\n",
       "      <td>January 15, 2020</td>\n",
       "      <td>December 11, 2019</td>\n",
       "      <td>November 6, 2019</td>\n",
       "      <td>September 25, 2019</td>\n",
       "      <td>September 10, 2019</td>\n",
       "      <td>September 5, 2019</td>\n",
       "      <td>August 21, 2019</td>\n",
       "      <td>April 24, 2019</td>\n",
       "      <td>...</td>\n",
       "      <td>September 11, 1985</td>\n",
       "      <td>July 9, 1985</td>\n",
       "      <td>May 25, 1985</td>\n",
       "      <td>NaN</td>\n",
       "      <td>March 13, 1985</td>\n",
       "      <td>January 16, 1985</td>\n",
       "      <td>October 30, 1984</td>\n",
       "      <td>March 30, 1984</td>\n",
       "      <td>NaN</td>\n",
       "      <td>December 7, 1982</td>\n",
       "    </tr>\n",
       "    <tr>\n",
       "      <th>23</th>\n",
       "      <td>Last Statement</td>\n",
       "      <td>Yes sir. I  would like to thank God, my dad, m...</td>\n",
       "      <td>Thank you thank you  where’s the family, ok I ...</td>\n",
       "      <td>None</td>\n",
       "      <td>Yeah, I want to  address the Roundtree family ...</td>\n",
       "      <td>Umm, Pamela can you  hear me Stephanie, Hardy,...</td>\n",
       "      <td>It’s 6:09 on  September 10th, Kayla and David,...</td>\n",
       "      <td>Hi ladies I wanted to  tell ya’ll how much I l...</td>\n",
       "      <td>Lord forgive them.  They don’t know what they ...</td>\n",
       "      <td>Spoken: No.</td>\n",
       "      <td>...</td>\n",
       "      <td>D.J., Laurie, Dr. Wheat, about all I can say i...</td>\n",
       "      <td>I want to thank Father Walsh for his spiritual...</td>\n",
       "      <td>There’s no God but Allah, and unto thy I belon...</td>\n",
       "      <td>This offender declined to make a last statement.</td>\n",
       "      <td>Heavenly Father, I give thanks for this time, ...</td>\n",
       "      <td>I pray that my family will rejoice and will fo...</td>\n",
       "      <td>When asked if he had a last statement, he repl...</td>\n",
       "      <td>What is about to transpire in a few moments is...</td>\n",
       "      <td>This offender declined to make a last statement.</td>\n",
       "      <td>Statement to the Media: I, at this very moment...</td>\n",
       "    </tr>\n",
       "  </tbody>\n",
       "</table>\n",
       "<p>24 rows × 570 columns</p>\n",
       "</div>"
      ],
      "text/plain": [
       "                                         Name  \\\n",
       "0                                        Name   \n",
       "1                                 TDCJ Number   \n",
       "2                               Date of Birth   \n",
       "3                               Date Received   \n",
       "4                         Age (when Received)   \n",
       "5   Education Level (Highest Grade Completed)   \n",
       "6                             Date of Offense   \n",
       "7                Age (at the time of Offense)   \n",
       "8                                      County   \n",
       "9                                        Race   \n",
       "10                                     Gender   \n",
       "11                                 Hair Color   \n",
       "12                Height (in Feet and Inches)   \n",
       "13                         Weight (in Pounds)   \n",
       "14                                  Eye Color   \n",
       "15                              Native County   \n",
       "16                               Native State   \n",
       "17                           Prior Occupation   \n",
       "18                        Prior Prison Record   \n",
       "19                        Summary of Incident   \n",
       "20                              Co-Defendants   \n",
       "21                  Race and Gender of Victim   \n",
       "22                          Date of Execution   \n",
       "23                             Last Statement   \n",
       "\n",
       "                                   Ochoa, Abel Revill  \\\n",
       "0                                  Ochoa, Abel Revill   \n",
       "1                                              999450   \n",
       "2                                          01/23/1973   \n",
       "3                                          05/15/2003   \n",
       "4                                                  30   \n",
       "5                                                  12   \n",
       "6                                          08/04/2002   \n",
       "7                                                  29   \n",
       "8                                              Dallas   \n",
       "9                                            Hispanic   \n",
       "10                                               Male   \n",
       "11                                              Black   \n",
       "12                                              5′ 6″   \n",
       "13                                                182   \n",
       "14                                              Brown   \n",
       "15                                   Vicente Guerrero   \n",
       "16                                    Durango, Mexico   \n",
       "17                 Heavy  Equipment Operator/Laborer    \n",
       "18                                              None    \n",
       "19  On  August 4, 2002, in Dallas, Texas, Ochoa fa...   \n",
       "20                                              None    \n",
       "21          Four Hispanic Females;  One Hispanic Male   \n",
       "22                                   February 6, 2020   \n",
       "23  Yes sir. I  would like to thank God, my dad, m...   \n",
       "\n",
       "                                        Gardner, John  \\\n",
       "0                                       Gardner, John   \n",
       "1                                              999516   \n",
       "2                                          01/03/1956   \n",
       "3                                          11/20/2006   \n",
       "4                                                  50   \n",
       "5                                                  12   \n",
       "6                                          01/23/2005   \n",
       "7                                                  49   \n",
       "8                                              Collin   \n",
       "9                                               White   \n",
       "10                                               Male   \n",
       "11                                              Brown   \n",
       "12                                              6′ 0″   \n",
       "13                                            190 lbs   \n",
       "14                                               Blue   \n",
       "15                                             Forest   \n",
       "16                                        Mississippi   \n",
       "17                                           Painter    \n",
       "18  MS  Dept of Corrections #55484 on an eight yea...   \n",
       "19  On  January 23, 2005 in Collin County, Gardner...   \n",
       "20                                              None    \n",
       "21                                      White  Female   \n",
       "22                                   January 15, 2020   \n",
       "23  Thank you thank you  where’s the family, ok I ...   \n",
       "\n",
       "                              Runnels, Travis Trevino  \\\n",
       "0                             Runnels, Travis Trevino   \n",
       "1                                              999505   \n",
       "2                                          12/17/1972   \n",
       "3                                          11/18/2005   \n",
       "4                                                  32   \n",
       "5                                                  11   \n",
       "6                                          01/29/2003   \n",
       "7                                                  30   \n",
       "8                                              Potter   \n",
       "9                                               Black   \n",
       "10                                               Male   \n",
       "11                                              Black   \n",
       "12                                              6′ 0″   \n",
       "13                                                208   \n",
       "14                                              Brown   \n",
       "15                                             Dallas   \n",
       "16                                              Texas   \n",
       "17                                           Laborer    \n",
       "18  TDCJ#  081244 on a five-year sentence for burg...   \n",
       "19  On  January 29, 2003, in Potter   County, whil...   \n",
       "20                                              None    \n",
       "21                                        White  male   \n",
       "22                                  December 11, 2019   \n",
       "23                                               None   \n",
       "\n",
       "                                   Hall, Justen Grant  \\\n",
       "0                                  Hall, Justen Grant   \n",
       "1                                              999497   \n",
       "2                                          06/16/1981   \n",
       "3                                          05/11/2005   \n",
       "4                                                  23   \n",
       "5                                                   9   \n",
       "6                                          10/28/2002   \n",
       "7                                                  21   \n",
       "8                                             El Paso   \n",
       "9                                               White   \n",
       "10                                               Male   \n",
       "11                                              Brown   \n",
       "12                                               6′5″   \n",
       "13                                                197   \n",
       "14                                              Hazel   \n",
       "15                                            El Paso   \n",
       "16                                              Texas   \n",
       "17                                           Laborer    \n",
       "18  TDCJ#  914053 on a 2 year sentence from El    ...   \n",
       "19  On  October 28, 2002, in El Paso County,   Tex...   \n",
       "20                                              None    \n",
       "21                                  Unknown  Female     \n",
       "22                                   November 6, 2019   \n",
       "23  Yeah, I want to  address the Roundtree family ...   \n",
       "\n",
       "                                       Sparks, Robert  \\\n",
       "0                                      Sparks, Robert   \n",
       "1                                              999542   \n",
       "2                                          02/13/1974   \n",
       "3                                          01/08/2009   \n",
       "4                                                  34   \n",
       "5                                                   8   \n",
       "6                                          09/15/2007   \n",
       "7                                                  33   \n",
       "8                                              Dallas   \n",
       "9                                               Black   \n",
       "10                                               Male   \n",
       "11                                              Black   \n",
       "12                                              5′ 7″   \n",
       "13                                                247   \n",
       "14                                              Brown   \n",
       "15                                             Dallas   \n",
       "16                                              Texas   \n",
       "17                                 Machine  Operator    \n",
       "18  TDCJ  #592340 on a twelve year sentence for ag...   \n",
       "19  On  September 15, 2007, in Dallas, Texas, the ...   \n",
       "20                                              None    \n",
       "21                    Black  female; two black males.   \n",
       "22                                 September 25, 2019   \n",
       "23  Umm, Pamela can you  hear me Stephanie, Hardy,...   \n",
       "\n",
       "                                  Soliz, Mark Anthony  \\\n",
       "0                                 Soliz, Mark Anthony   \n",
       "1                                              999571   \n",
       "2                                          01/27/1982   \n",
       "3                                          03/28/2012   \n",
       "4                                                  30   \n",
       "5                                                   8   \n",
       "6                                          06/29/2010   \n",
       "7                                                  28   \n",
       "8                                             Johnson   \n",
       "9                                            Hispanic   \n",
       "10                                               Male   \n",
       "11                                              Black   \n",
       "12                                              5′ 5″   \n",
       "13                                                177   \n",
       "14                                              Brown   \n",
       "15                                            Tarrant   \n",
       "16                                              Texas   \n",
       "17                                     Cabinet maker    \n",
       "18  #925766 - Theft; #1060195 - Unauthorized Use o...   \n",
       "19  Subject and codefendant knocked on the victim'...   \n",
       "20                          Jose Claremont Ramos, Jr.   \n",
       "21                                       White female   \n",
       "22                                 September 10, 2019   \n",
       "23  It’s 6:09 on  September 10th, Kayla and David,...   \n",
       "\n",
       "                               Crutsinger, Billy Jack  \\\n",
       "0                              Crutsinger, Billy Jack   \n",
       "1                                              999459   \n",
       "2                                          10/05/1954   \n",
       "3                                          10/08/2003   \n",
       "4                                                  49   \n",
       "5                                                  11   \n",
       "6                                          04/06/2003   \n",
       "7                                                  48   \n",
       "8                                             Tarrant   \n",
       "9                                               White   \n",
       "10                                               Male   \n",
       "11                                               Gray   \n",
       "12                                              5′ 9″   \n",
       "13                                                217   \n",
       "14                                              Green   \n",
       "15                                            Tarrant   \n",
       "16                                              Texas   \n",
       "17                                            Laborer   \n",
       "18  #1014350 - On a one-year sentence from Cochran...   \n",
       "19  On April 6, 2003, in Fort Worth, Texas, Crutsi...   \n",
       "20                                               None   \n",
       "21                         White female; White female   \n",
       "22                                  September 5, 2019   \n",
       "23  Hi ladies I wanted to  tell ya’ll how much I l...   \n",
       "\n",
       "                                 Larry Ray Swearingen  \\\n",
       "0                                Larry Ray Swearingen   \n",
       "1                                              999361   \n",
       "2                                           5/21/1971   \n",
       "3                                           7/12/2000   \n",
       "4                                                  29   \n",
       "5                                                  11   \n",
       "6                                           12/8/1998   \n",
       "7                                                  27   \n",
       "8                                          Montgomery   \n",
       "9                                               White   \n",
       "10                                               Male   \n",
       "11                                              Brown   \n",
       "12                                             5′ 10″   \n",
       "13                                                194   \n",
       "14                                               Blue   \n",
       "15                                         Montgomery   \n",
       "16                                              Texas   \n",
       "17                   electrician,  mechanic, laborer    \n",
       "18  #758150 – On a two-year sentence for one count...   \n",
       "19  On December 8, 1998, Swearingen kidnapped and ...   \n",
       "20                                              None    \n",
       "21                                      White  female   \n",
       "22                                    August 21, 2019   \n",
       "23  Lord forgive them.  They don’t know what they ...   \n",
       "\n",
       "                                   King, John William  \\\n",
       "0                                  King, John William   \n",
       "1                                              999295   \n",
       "2                                          11/03/1974   \n",
       "3                                          02/25/1999   \n",
       "4                                                  24   \n",
       "5                                                  10   \n",
       "6                                          06/07/1998   \n",
       "7                                                  23   \n",
       "8                                              Jasper   \n",
       "9                                               White   \n",
       "10                                               Male   \n",
       "11                                              Brown   \n",
       "12                                              5′ 9″   \n",
       "13                                                198   \n",
       "14                                              Brown   \n",
       "15                                            Atlanta   \n",
       "16                                            Georgia   \n",
       "17                               carpenter,  laborer    \n",
       "18  TDCJ-ID  #624420, 10-year sentence for one cou...   \n",
       "19  On  06/07/98, during the nighttime hours, the ...   \n",
       "20           Berry, Shawn; Brewer,  Lawrence Russell    \n",
       "21                                        Black  male   \n",
       "22                                     April 24, 2019   \n",
       "23                                        Spoken: No.   \n",
       "\n",
       "                          ...                          \\\n",
       "0                         ...                           \n",
       "1                         ...                           \n",
       "2                         ...                           \n",
       "3                         ...                           \n",
       "4                         ...                           \n",
       "5                         ...                           \n",
       "6                         ...                           \n",
       "7                         ...                           \n",
       "8                         ...                           \n",
       "9                         ...                           \n",
       "10                        ...                           \n",
       "11                        ...                           \n",
       "12                        ...                           \n",
       "13                        ...                           \n",
       "14                        ...                           \n",
       "15                        ...                           \n",
       "16                        ...                           \n",
       "17                        ...                           \n",
       "18                        ...                           \n",
       "19                        ...                           \n",
       "20                        ...                           \n",
       "21                        ...                           \n",
       "22                        ...                           \n",
       "23                        ...                           \n",
       "\n",
       "                                                  NaN  \\\n",
       "0                                                 NaN   \n",
       "1                                                 NaN   \n",
       "2                                                 NaN   \n",
       "3                                                 NaN   \n",
       "4                                                 NaN   \n",
       "5                                                 NaN   \n",
       "6                                                 NaN   \n",
       "7                                                 NaN   \n",
       "8                                                 NaN   \n",
       "9                                                 NaN   \n",
       "10                                                NaN   \n",
       "11                                                NaN   \n",
       "12                                                NaN   \n",
       "13                                                NaN   \n",
       "14                                                NaN   \n",
       "15                                                NaN   \n",
       "16                                                NaN   \n",
       "17                                                NaN   \n",
       "18                                                NaN   \n",
       "19                                                NaN   \n",
       "20                                                NaN   \n",
       "21                                                NaN   \n",
       "22                                 September 11, 1985   \n",
       "23  D.J., Laurie, Dr. Wheat, about all I can say i...   \n",
       "\n",
       "                                                  NaN  \\\n",
       "0                                                 NaN   \n",
       "1                                                 NaN   \n",
       "2                                                 NaN   \n",
       "3                                                 NaN   \n",
       "4                                                 NaN   \n",
       "5                                                 NaN   \n",
       "6                                                 NaN   \n",
       "7                                                 NaN   \n",
       "8                                                 NaN   \n",
       "9                                                 NaN   \n",
       "10                                                NaN   \n",
       "11                                                NaN   \n",
       "12                                                NaN   \n",
       "13                                                NaN   \n",
       "14                                                NaN   \n",
       "15                                                NaN   \n",
       "16                                                NaN   \n",
       "17                                                NaN   \n",
       "18                                                NaN   \n",
       "19                                                NaN   \n",
       "20                                                NaN   \n",
       "21                                                NaN   \n",
       "22                                       July 9, 1985   \n",
       "23  I want to thank Father Walsh for his spiritual...   \n",
       "\n",
       "                                                  NaN  \\\n",
       "0                                                 NaN   \n",
       "1                                                 NaN   \n",
       "2                                                 NaN   \n",
       "3                                                 NaN   \n",
       "4                                                 NaN   \n",
       "5                                                 NaN   \n",
       "6                                                 NaN   \n",
       "7                                                 NaN   \n",
       "8                                                 NaN   \n",
       "9                                                 NaN   \n",
       "10                                                NaN   \n",
       "11                                                NaN   \n",
       "12                                                NaN   \n",
       "13                                                NaN   \n",
       "14                                                NaN   \n",
       "15                                                NaN   \n",
       "16                                                NaN   \n",
       "17                                                NaN   \n",
       "18                                                NaN   \n",
       "19                                                NaN   \n",
       "20                                                NaN   \n",
       "21                                                NaN   \n",
       "22                                       May 25, 1985   \n",
       "23  There’s no God but Allah, and unto thy I belon...   \n",
       "\n",
       "                                                 NaN  \\\n",
       "0                                                NaN   \n",
       "1                                                NaN   \n",
       "2                                                NaN   \n",
       "3                                                NaN   \n",
       "4                                                NaN   \n",
       "5                                                NaN   \n",
       "6                                                NaN   \n",
       "7                                                NaN   \n",
       "8                                                NaN   \n",
       "9                                                NaN   \n",
       "10                                               NaN   \n",
       "11                                               NaN   \n",
       "12                                               NaN   \n",
       "13                                               NaN   \n",
       "14                                               NaN   \n",
       "15                                               NaN   \n",
       "16                                               NaN   \n",
       "17                                               NaN   \n",
       "18                                               NaN   \n",
       "19                                               NaN   \n",
       "20                                               NaN   \n",
       "21                                               NaN   \n",
       "22                                               NaN   \n",
       "23  This offender declined to make a last statement.   \n",
       "\n",
       "                                                  NaN  \\\n",
       "0                                                 NaN   \n",
       "1                                                 NaN   \n",
       "2                                                 NaN   \n",
       "3                                                 NaN   \n",
       "4                                                 NaN   \n",
       "5                                                 NaN   \n",
       "6                                                 NaN   \n",
       "7                                                 NaN   \n",
       "8                                                 NaN   \n",
       "9                                                 NaN   \n",
       "10                                                NaN   \n",
       "11                                                NaN   \n",
       "12                                                NaN   \n",
       "13                                                NaN   \n",
       "14                                                NaN   \n",
       "15                                                NaN   \n",
       "16                                                NaN   \n",
       "17                                                NaN   \n",
       "18                                                NaN   \n",
       "19                                                NaN   \n",
       "20                                                NaN   \n",
       "21                                                NaN   \n",
       "22                                     March 13, 1985   \n",
       "23  Heavenly Father, I give thanks for this time, ...   \n",
       "\n",
       "                                                  NaN  \\\n",
       "0                                                 NaN   \n",
       "1                                                 NaN   \n",
       "2                                                 NaN   \n",
       "3                                                 NaN   \n",
       "4                                                 NaN   \n",
       "5                                                 NaN   \n",
       "6                                                 NaN   \n",
       "7                                                 NaN   \n",
       "8                                                 NaN   \n",
       "9                                                 NaN   \n",
       "10                                                NaN   \n",
       "11                                                NaN   \n",
       "12                                                NaN   \n",
       "13                                                NaN   \n",
       "14                                                NaN   \n",
       "15                                                NaN   \n",
       "16                                                NaN   \n",
       "17                                                NaN   \n",
       "18                                                NaN   \n",
       "19                                                NaN   \n",
       "20                                                NaN   \n",
       "21                                                NaN   \n",
       "22                                   January 16, 1985   \n",
       "23  I pray that my family will rejoice and will fo...   \n",
       "\n",
       "                                                  NaN  \\\n",
       "0                                                 NaN   \n",
       "1                                                 NaN   \n",
       "2                                                 NaN   \n",
       "3                                                 NaN   \n",
       "4                                                 NaN   \n",
       "5                                                 NaN   \n",
       "6                                                 NaN   \n",
       "7                                                 NaN   \n",
       "8                                                 NaN   \n",
       "9                                                 NaN   \n",
       "10                                                NaN   \n",
       "11                                                NaN   \n",
       "12                                                NaN   \n",
       "13                                                NaN   \n",
       "14                                                NaN   \n",
       "15                                                NaN   \n",
       "16                                                NaN   \n",
       "17                                                NaN   \n",
       "18                                                NaN   \n",
       "19                                                NaN   \n",
       "20                                                NaN   \n",
       "21                                                NaN   \n",
       "22                                   October 30, 1984   \n",
       "23  When asked if he had a last statement, he repl...   \n",
       "\n",
       "                                                  NaN  \\\n",
       "0                                                 NaN   \n",
       "1                                                 NaN   \n",
       "2                                                 NaN   \n",
       "3                                                 NaN   \n",
       "4                                                 NaN   \n",
       "5                                                 NaN   \n",
       "6                                                 NaN   \n",
       "7                                                 NaN   \n",
       "8                                                 NaN   \n",
       "9                                                 NaN   \n",
       "10                                                NaN   \n",
       "11                                                NaN   \n",
       "12                                                NaN   \n",
       "13                                                NaN   \n",
       "14                                                NaN   \n",
       "15                                                NaN   \n",
       "16                                                NaN   \n",
       "17                                                NaN   \n",
       "18                                                NaN   \n",
       "19                                                NaN   \n",
       "20                                                NaN   \n",
       "21                                                NaN   \n",
       "22                                     March 30, 1984   \n",
       "23  What is about to transpire in a few moments is...   \n",
       "\n",
       "                                   Autry, James David  \\\n",
       "0                                  Autry, James David   \n",
       "1                                                 670   \n",
       "2                                           9/27/1954   \n",
       "3                                          10/10/1980   \n",
       "4                                                  26   \n",
       "5                                                   6   \n",
       "6                                           4/20/1980   \n",
       "7                                                  25   \n",
       "8                                           Jefferson   \n",
       "9                                               White   \n",
       "10                                               Male   \n",
       "11                                              Brown   \n",
       "12                                              5′ 8″   \n",
       "13                                                137   \n",
       "14                                              Brown   \n",
       "15                                             Potter   \n",
       "16                                              Texas   \n",
       "17                                            Laborer   \n",
       "18  5  year sentence for Assault and Attempted Rob...   \n",
       "19  On  April 20, 1980, Autry shot a 43 year old f...   \n",
       "20                               John  Alton Sandifer   \n",
       "21                                             female   \n",
       "22                                                NaN   \n",
       "23   This offender declined to make a last statement.   \n",
       "\n",
       "                                  Brooks, Charlie Jr.  \n",
       "0                                 Brooks, Charlie Jr.  \n",
       "1                                                 592  \n",
       "2                                            9/1/1942  \n",
       "3                                           4/25/1978  \n",
       "4                                                  35  \n",
       "5                                                  12  \n",
       "6                                          12/14/1976  \n",
       "7                                                  34  \n",
       "8                                             Tarrant  \n",
       "9                                               Black  \n",
       "10                                               Male  \n",
       "11                                              Black  \n",
       "12                                              5′ 9″  \n",
       "13                                                150  \n",
       "14                     mar (according to DPS records)  \n",
       "15                                            Tarrant  \n",
       "16                                              Texas  \n",
       "17                                           Laborer   \n",
       "18  Federal  Prison, Leavenworth,  Illegal Possess...  \n",
       "19  Brooks  went to a car lot under the pretense o...  \n",
       "20                                     Woody  Loudres  \n",
       "21                                        White  Male  \n",
       "22                                   December 7, 1982  \n",
       "23  Statement to the Media: I, at this very moment...  \n",
       "\n",
       "[24 rows x 570 columns]"
      ]
     },
     "execution_count": 10,
     "metadata": {},
     "output_type": "execute_result"
    }
   ],
   "source": [
    "df=Parsing(lst[0],lst[1])\n",
    "for i in range(2,len(lst)):\n",
    "    if i%2==0:\n",
    "        url_i=lst[i]\n",
    "    else:\n",
    "        url_w=lst[i]\n",
    "        print('url_i: ',url_i)\n",
    "        print('url_w: ',url_w)\n",
    "        Table=Parsing(url_i,url_w)       \n",
    "        df=pd.concat([df,pd.DataFrame(Table.iloc[:,1])], axis=1)\n",
    "df"
   ]
  },
  {
   "cell_type": "code",
   "execution_count": 11,
   "metadata": {
    "scrolled": true
   },
   "outputs": [],
   "source": [
    "df.to_excel('Texas.xlsx')"
   ]
  }
 ],
 "metadata": {
  "kernelspec": {
   "display_name": "Python 3",
   "language": "python",
   "name": "python3"
  },
  "language_info": {
   "codemirror_mode": {
    "name": "ipython",
    "version": 3
   },
   "file_extension": ".py",
   "mimetype": "text/x-python",
   "name": "python",
   "nbconvert_exporter": "python",
   "pygments_lexer": "ipython3",
   "version": "3.6.5"
  }
 },
 "nbformat": 4,
 "nbformat_minor": 2
}

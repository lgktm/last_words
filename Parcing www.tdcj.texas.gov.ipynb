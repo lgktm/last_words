{
 "cells": [
  {
   "cell_type": "code",
   "execution_count": null,
   "metadata": {},
   "outputs": [],
   "source": [
    "import urllib.request, urllib.parse, urllib.error\n",
    "import json\n",
    "import ssl\n",
    "from bs4 import BeautifulSoup\n",
    "import re\n",
    "import requests\n",
    "import pandas as pd"
   ]
  },
  {
   "cell_type": "markdown",
   "metadata": {},
   "source": [
    "# Parsing html in Python with BeautifulSoup and pandas\n",
    "I used function HTMLTableParser from this resource: http://srome.github.io/Parsing-HTML-Tables-in-Python-with-BeautifulSoup-and-pandas/ to parse tables. And some of my own compilations."
   ]
  },
  {
   "cell_type": "code",
   "execution_count": null,
   "metadata": {},
   "outputs": [],
   "source": [
    "class HTMLTableParser:\n",
    "    def parse_url(self, url):\n",
    "        response = requests.get(url)\n",
    "        soup = BeautifulSoup(response.text, 'lxml')\n",
    "        return [(table,self.parse_html_table(table))\\\n",
    "            for table in soup.find_all('table')]  \n",
    "\n",
    "    def parse_html_table(self, table):\n",
    "        n_columns = 0\n",
    "        n_rows=0\n",
    "        column_names = []\n",
    "    \n",
    "        # Find number of rows and columns\n",
    "        # we also find the column titles if we can\n",
    "        for row in table.find_all('tr'):   \n",
    "# Determine the number of rows in the table\n",
    "            td_tags = row.find_all('td')\n",
    "            if len(td_tags) > 0:\n",
    "                n_rows+=1\n",
    "                if n_columns == 0:\n",
    "        # Set the number of columns for our table\n",
    "                    n_columns = len(td_tags)\n",
    "        \n",
    "# ------Handle column names if we find them----------------------------------------\n",
    "            th_tags = row.find_all('th') \n",
    "            if len(th_tags) > 0 and len(column_names) == 0:\n",
    "                for th in th_tags:\n",
    "                    column_names.append(th.get_text())\n",
    "    \n",
    "        # Safeguard on Column Titles\n",
    "        if len(column_names) > 0 and len(column_names) != n_columns:\n",
    "            raise Exception(\"Column titles do not match the number of columns\")\n",
    "        columns = column_names if len(column_names) > 0 else range(0,n_columns)\n",
    "#----------------------------------------------------------------------------------         \n",
    "\n",
    "        df = pd.DataFrame(columns = columns,index= range(0,n_rows))\n",
    "        row_marker = 0     \n",
    "        for row in table.find_all('tr'):\n",
    "            column_marker = 0\n",
    "            columns = row.find_all('td')\n",
    "            for column in columns:\n",
    "                df.iat[row_marker,column_marker] = column.get_text()\n",
    "                column_marker += 1\n",
    "            if len(columns) > 0:\n",
    "                row_marker += 1\n",
    "\n",
    "        # Convert to float if possible\n",
    "        for col in df:\n",
    "            try:\n",
    "                df[col] = df[col].astype(float)\n",
    "            except ValueError:\n",
    "                 pass\n",
    "        return df"
   ]
  },
  {
   "cell_type": "code",
   "execution_count": null,
   "metadata": {},
   "outputs": [],
   "source": [
    "def Parsing (url_i, url_w):\n",
    "    \n",
    "#Getting Offenders information_1\n",
    "    hp = HTMLTableParser()     # table-parsing func\n",
    "    try:\n",
    "        Inf1 = hp.parse_url(url_i)[0][1]      # Grabbing the table from the tuple      \n",
    "        for i in range(1,7):                 # The table didn't parsed ideally so it required some adjustments\n",
    "            Inf1[2][i]=Inf1[1][i]\n",
    "            Inf1[1][i]=Inf1[0][i]\n",
    "        Inf1=Inf1.drop(0,axis=1)\n",
    "        Inf1=Inf1.iloc[:17,:]\n",
    "        Inf1.columns=['Parameter','Information']\n",
    "    except:\n",
    "        Inf1=pd.DataFrame(columns=['Parameter','Information'],index=range(17))\n",
    "    while len(Inf1)<=16:\n",
    "        Inf1=Inf1.append({'Parameter': 'New'}, ignore_index=True)\n",
    "        \n",
    "#Getting Offenders information_2\n",
    "    uh = urllib.request.urlopen(url_i, context=ctx).read()     \n",
    "    soup=BeautifulSoup(uh,\"html.parser\")\n",
    "    D=dict()\n",
    "    tags=soup('p')\n",
    "    for tag in tags:\n",
    "        try:\n",
    "            D[tag.contents[0].get_text()]=re.sub(r\"\\r\\n\", \"\", tag.contents[2]).lstrip()\n",
    "        except:\n",
    "            try:\n",
    "                for i in tag.find_all('span'):\n",
    "                    D[i.get_text()]=re.sub(r\"\\r\\n\", \"\", tag.contents[3]).lstrip()\n",
    "            except: a=0\n",
    "    if D!={}:\n",
    "        Inf2=pd.DataFrame.from_dict(D,orient='index',columns=['Information']).reset_index().rename(columns={'index':'Parameter'})\n",
    "        while len(Inf2)<4:\n",
    "            Inf2=Inf2.append({'Parameter': 'New'}, ignore_index=True)\n",
    "    else:\n",
    "        Inf2=pd.DataFrame(columns=['Parameter','Information'],index=range(5))\n",
    "        \n",
    "# Getting last words   \n",
    "    uh = urllib.request.urlopen(url_w, context=ctx).read()\n",
    "    #data = uh.read().decode()\n",
    "    soup=BeautifulSoup(uh,\"html.parser\")\n",
    "    lst=list()\n",
    "    for row in soup('div'):\n",
    "        for column in row.find_all('p'):\n",
    "            lst.append(column.get_text().strip())\n",
    "    Inf3=pd.DataFrame(columns=['Parameter','Information'], index=range(0,2))\n",
    "    if 'Last Statement:' in lst:\n",
    "        Inf3.iat[1,1]=lst[lst.index('Last Statement:')+1]   \n",
    "    if 'Date of Execution:' in lst:\n",
    "        Inf3.iat[0,1]=lst[lst.index('Date of Execution:')+1]\n",
    "    Inf3['Parameter']=['Date of Execution','Last Statement']\n",
    "    \n",
    "    Inf=pd.concat([Inf1,Inf2,Inf3], ignore_index=True)\n",
    "    Inf.columns=Inf.iloc[0]\n",
    "\n",
    "    return Inf"
   ]
  },
  {
   "cell_type": "markdown",
   "metadata": {},
   "source": [
    "## 1.Main page"
   ]
  },
  {
   "cell_type": "code",
   "execution_count": null,
   "metadata": {},
   "outputs": [],
   "source": [
    "#Ignore SSL ssertificate errors\n",
    "ctx = ssl.create_default_context()\n",
    "ctx.check_hostname = False\n",
    "ctx.verify_mode = ssl.CERT_NONE\n",
    "\n",
    "url = 'https://www.tdcj.texas.gov/death_row/dr_executed_offenders.html'\n",
    "uh = urllib.request.urlopen(url, context=ctx).read()\n",
    "soup=BeautifulSoup(uh,\"html.parser\")\n",
    "lst=list()\n",
    "for t in soup.find_all('table'):\n",
    "    for row in t.find_all('tr'):\n",
    "        for tag in row.find_all('td'):\n",
    "            for a in tag.find_all('a'):\n",
    "                if a.get('href',None).startswith('/death_row/'):\n",
    "                    p=a.get('href',None)[11:]\n",
    "                else:\n",
    "                    p=a.get('href',None)\n",
    "                lst.append('https://www.tdcj.texas.gov/death_row/'+p)"
   ]
  },
  {
   "cell_type": "markdown",
   "metadata": {},
   "source": [
    "## 2. Everything else "
   ]
  },
  {
   "cell_type": "code",
   "execution_count": null,
   "metadata": {
    "scrolled": true
   },
   "outputs": [],
   "source": [
    "df=Parsing(lst[0],lst[1])\n",
    "for i in range(2,len(lst)):\n",
    "    if i%2==0:\n",
    "        url_i=lst[i]\n",
    "    else:\n",
    "        url_w=lst[i]\n",
    "        print('url_i: ',url_i)\n",
    "        print('url_w: ',url_w)\n",
    "        Table=Parsing(url_i,url_w)       \n",
    "        df=pd.concat([df,pd.DataFrame(Table.iloc[:,1])], axis=1)\n",
    "df"
   ]
  },
  {
   "cell_type": "code",
   "execution_count": null,
   "metadata": {
    "scrolled": true
   },
   "outputs": [],
   "source": [
    "df.to_excel('Texas.xlsx')"
   ]
  }
 ],
 "metadata": {
  "kernelspec": {
   "display_name": "Python 3",
   "language": "python",
   "name": "python3"
  },
  "language_info": {
   "codemirror_mode": {
    "name": "ipython",
    "version": 3
   },
   "file_extension": ".py",
   "mimetype": "text/x-python",
   "name": "python",
   "nbconvert_exporter": "python",
   "pygments_lexer": "ipython3",
   "version": "3.6.5"
  }
 },
 "nbformat": 4,
 "nbformat_minor": 2
}
